{
  "nbformat": 4,
  "nbformat_minor": 0,
  "metadata": {
    "kernelspec": {
      "display_name": "Python 3",
      "language": "python",
      "name": "python3"
    },
    "language_info": {
      "codemirror_mode": {
        "name": "ipython",
        "version": 3
      },
      "file_extension": ".py",
      "mimetype": "text/x-python",
      "name": "python",
      "nbconvert_exporter": "python",
      "pygments_lexer": "ipython3",
      "version": "3.6.6"
    },
    "colab": {
      "provenance": [],
      "include_colab_link": true
    }
  },
  "cells": [
    {
      "cell_type": "markdown",
      "metadata": {
        "id": "view-in-github",
        "colab_type": "text"
      },
      "source": [
        "<a href=\"https://colab.research.google.com/github/sauravkumar19/Coronavirus-Tweet-Sentiment-Analysis/blob/main/Coronavirus_Tweet_Sentiment_Analysis.ipynb\" target=\"_parent\"><img src=\"https://colab.research.google.com/assets/colab-badge.svg\" alt=\"Open In Colab\"/></a>"
      ]
    },
    {
      "cell_type": "markdown",
      "metadata": {
        "id": "tOGC-qoyhJeX"
      },
      "source": [
        "# <b><u> Project Title : Sentiment Analysis : Predicting sentiment of COVID-19 tweets</u></b>"
      ]
    },
    {
      "cell_type": "markdown",
      "metadata": {
        "id": "Y06xIdG26kRF"
      },
      "source": [
        "## <b> Problem Description </b>\n",
        "\n",
        "### This challenge asks you to build a classification model to predict the sentiment of COVID-19 tweets.The tweets have been pulled from Twitter and manual tagging has been done then.\n",
        "\n",
        "### The names and usernames have been given codes to avoid any privacy concerns.\n",
        "\n",
        "### You are given the following information:\n",
        "1. Location\n",
        "2. Tweet At\n",
        "3. Original Tweet\n",
        "4. Label"
      ]
    },
    {
      "cell_type": "code",
      "metadata": {
        "id": "dByMsuzT8Tnw"
      },
      "source": [
        "import pandas as pd\n",
        "import numpy as np"
      ],
      "execution_count": 77,
      "outputs": []
    },
    {
      "cell_type": "code",
      "source": [
        "from google.colab import drive\n",
        "drive.mount('/content/drive')"
      ],
      "metadata": {
        "colab": {
          "base_uri": "https://localhost:8080/"
        },
        "id": "R78g6hJksy4a",
        "outputId": "cf888cb3-2dcf-478d-9fb8-9e6af15da6a6"
      },
      "execution_count": 78,
      "outputs": [
        {
          "output_type": "stream",
          "name": "stdout",
          "text": [
            "Drive already mounted at /content/drive; to attempt to forcibly remount, call drive.mount(\"/content/drive\", force_remount=True).\n"
          ]
        }
      ]
    },
    {
      "cell_type": "code",
      "source": [
        "path = '/content/drive/MyDrive/Copy of Coronavirus Tweets.csv'"
      ],
      "metadata": {
        "id": "BGXks2lrv0Rl"
      },
      "execution_count": 79,
      "outputs": []
    },
    {
      "cell_type": "code",
      "source": [
        "data = pd.read_csv(path, encoding='latin-1',parse_dates=[0], infer_datetime_format=True)"
      ],
      "metadata": {
        "id": "3I2R4TRsszpL"
      },
      "execution_count": 80,
      "outputs": []
    },
    {
      "cell_type": "code",
      "source": [
        "data"
      ],
      "metadata": {
        "colab": {
          "base_uri": "https://localhost:8080/",
          "height": 423
        },
        "id": "7gV0bnrPuW7g",
        "outputId": "8f10b25a-8779-463c-adb7-4085717f27b0"
      },
      "execution_count": 81,
      "outputs": [
        {
          "output_type": "execute_result",
          "data": {
            "text/plain": [
              "      UserName  ScreenName                      Location     TweetAt  \\\n",
              "0         3799       48751                        London  16-03-2020   \n",
              "1         3800       48752                            UK  16-03-2020   \n",
              "2         3801       48753                     Vagabonds  16-03-2020   \n",
              "3         3802       48754                           NaN  16-03-2020   \n",
              "4         3803       48755                           NaN  16-03-2020   \n",
              "...        ...         ...                           ...         ...   \n",
              "41152    44951       89903  Wellington City, New Zealand  14-04-2020   \n",
              "41153    44952       89904                           NaN  14-04-2020   \n",
              "41154    44953       89905                           NaN  14-04-2020   \n",
              "41155    44954       89906                           NaN  14-04-2020   \n",
              "41156    44955       89907  i love you so much || he/him  14-04-2020   \n",
              "\n",
              "                                           OriginalTweet           Sentiment  \n",
              "0      @MeNyrbie @Phil_Gahan @Chrisitv https://t.co/i...             Neutral  \n",
              "1      advice Talk to your neighbours family to excha...            Positive  \n",
              "2      Coronavirus Australia: Woolworths to give elde...            Positive  \n",
              "3      My food stock is not the only one which is emp...            Positive  \n",
              "4      Me, ready to go at supermarket during the #COV...  Extremely Negative  \n",
              "...                                                  ...                 ...  \n",
              "41152  Airline pilots offering to stock supermarket s...             Neutral  \n",
              "41153  Response to complaint not provided citing COVI...  Extremely Negative  \n",
              "41154  You know itÂs getting tough when @KameronWild...            Positive  \n",
              "41155  Is it wrong that the smell of hand sanitizer i...             Neutral  \n",
              "41156  @TartiiCat Well new/used Rift S are going for ...            Negative  \n",
              "\n",
              "[41157 rows x 6 columns]"
            ],
            "text/html": [
              "\n",
              "  <div id=\"df-54c02f8b-486e-4a16-9aad-7cb608310c4b\">\n",
              "    <div class=\"colab-df-container\">\n",
              "      <div>\n",
              "<style scoped>\n",
              "    .dataframe tbody tr th:only-of-type {\n",
              "        vertical-align: middle;\n",
              "    }\n",
              "\n",
              "    .dataframe tbody tr th {\n",
              "        vertical-align: top;\n",
              "    }\n",
              "\n",
              "    .dataframe thead th {\n",
              "        text-align: right;\n",
              "    }\n",
              "</style>\n",
              "<table border=\"1\" class=\"dataframe\">\n",
              "  <thead>\n",
              "    <tr style=\"text-align: right;\">\n",
              "      <th></th>\n",
              "      <th>UserName</th>\n",
              "      <th>ScreenName</th>\n",
              "      <th>Location</th>\n",
              "      <th>TweetAt</th>\n",
              "      <th>OriginalTweet</th>\n",
              "      <th>Sentiment</th>\n",
              "    </tr>\n",
              "  </thead>\n",
              "  <tbody>\n",
              "    <tr>\n",
              "      <th>0</th>\n",
              "      <td>3799</td>\n",
              "      <td>48751</td>\n",
              "      <td>London</td>\n",
              "      <td>16-03-2020</td>\n",
              "      <td>@MeNyrbie @Phil_Gahan @Chrisitv https://t.co/i...</td>\n",
              "      <td>Neutral</td>\n",
              "    </tr>\n",
              "    <tr>\n",
              "      <th>1</th>\n",
              "      <td>3800</td>\n",
              "      <td>48752</td>\n",
              "      <td>UK</td>\n",
              "      <td>16-03-2020</td>\n",
              "      <td>advice Talk to your neighbours family to excha...</td>\n",
              "      <td>Positive</td>\n",
              "    </tr>\n",
              "    <tr>\n",
              "      <th>2</th>\n",
              "      <td>3801</td>\n",
              "      <td>48753</td>\n",
              "      <td>Vagabonds</td>\n",
              "      <td>16-03-2020</td>\n",
              "      <td>Coronavirus Australia: Woolworths to give elde...</td>\n",
              "      <td>Positive</td>\n",
              "    </tr>\n",
              "    <tr>\n",
              "      <th>3</th>\n",
              "      <td>3802</td>\n",
              "      <td>48754</td>\n",
              "      <td>NaN</td>\n",
              "      <td>16-03-2020</td>\n",
              "      <td>My food stock is not the only one which is emp...</td>\n",
              "      <td>Positive</td>\n",
              "    </tr>\n",
              "    <tr>\n",
              "      <th>4</th>\n",
              "      <td>3803</td>\n",
              "      <td>48755</td>\n",
              "      <td>NaN</td>\n",
              "      <td>16-03-2020</td>\n",
              "      <td>Me, ready to go at supermarket during the #COV...</td>\n",
              "      <td>Extremely Negative</td>\n",
              "    </tr>\n",
              "    <tr>\n",
              "      <th>...</th>\n",
              "      <td>...</td>\n",
              "      <td>...</td>\n",
              "      <td>...</td>\n",
              "      <td>...</td>\n",
              "      <td>...</td>\n",
              "      <td>...</td>\n",
              "    </tr>\n",
              "    <tr>\n",
              "      <th>41152</th>\n",
              "      <td>44951</td>\n",
              "      <td>89903</td>\n",
              "      <td>Wellington City, New Zealand</td>\n",
              "      <td>14-04-2020</td>\n",
              "      <td>Airline pilots offering to stock supermarket s...</td>\n",
              "      <td>Neutral</td>\n",
              "    </tr>\n",
              "    <tr>\n",
              "      <th>41153</th>\n",
              "      <td>44952</td>\n",
              "      <td>89904</td>\n",
              "      <td>NaN</td>\n",
              "      <td>14-04-2020</td>\n",
              "      <td>Response to complaint not provided citing COVI...</td>\n",
              "      <td>Extremely Negative</td>\n",
              "    </tr>\n",
              "    <tr>\n",
              "      <th>41154</th>\n",
              "      <td>44953</td>\n",
              "      <td>89905</td>\n",
              "      <td>NaN</td>\n",
              "      <td>14-04-2020</td>\n",
              "      <td>You know itÂs getting tough when @KameronWild...</td>\n",
              "      <td>Positive</td>\n",
              "    </tr>\n",
              "    <tr>\n",
              "      <th>41155</th>\n",
              "      <td>44954</td>\n",
              "      <td>89906</td>\n",
              "      <td>NaN</td>\n",
              "      <td>14-04-2020</td>\n",
              "      <td>Is it wrong that the smell of hand sanitizer i...</td>\n",
              "      <td>Neutral</td>\n",
              "    </tr>\n",
              "    <tr>\n",
              "      <th>41156</th>\n",
              "      <td>44955</td>\n",
              "      <td>89907</td>\n",
              "      <td>i love you so much || he/him</td>\n",
              "      <td>14-04-2020</td>\n",
              "      <td>@TartiiCat Well new/used Rift S are going for ...</td>\n",
              "      <td>Negative</td>\n",
              "    </tr>\n",
              "  </tbody>\n",
              "</table>\n",
              "<p>41157 rows × 6 columns</p>\n",
              "</div>\n",
              "      <button class=\"colab-df-convert\" onclick=\"convertToInteractive('df-54c02f8b-486e-4a16-9aad-7cb608310c4b')\"\n",
              "              title=\"Convert this dataframe to an interactive table.\"\n",
              "              style=\"display:none;\">\n",
              "        \n",
              "  <svg xmlns=\"http://www.w3.org/2000/svg\" height=\"24px\"viewBox=\"0 0 24 24\"\n",
              "       width=\"24px\">\n",
              "    <path d=\"M0 0h24v24H0V0z\" fill=\"none\"/>\n",
              "    <path d=\"M18.56 5.44l.94 2.06.94-2.06 2.06-.94-2.06-.94-.94-2.06-.94 2.06-2.06.94zm-11 1L8.5 8.5l.94-2.06 2.06-.94-2.06-.94L8.5 2.5l-.94 2.06-2.06.94zm10 10l.94 2.06.94-2.06 2.06-.94-2.06-.94-.94-2.06-.94 2.06-2.06.94z\"/><path d=\"M17.41 7.96l-1.37-1.37c-.4-.4-.92-.59-1.43-.59-.52 0-1.04.2-1.43.59L10.3 9.45l-7.72 7.72c-.78.78-.78 2.05 0 2.83L4 21.41c.39.39.9.59 1.41.59.51 0 1.02-.2 1.41-.59l7.78-7.78 2.81-2.81c.8-.78.8-2.07 0-2.86zM5.41 20L4 18.59l7.72-7.72 1.47 1.35L5.41 20z\"/>\n",
              "  </svg>\n",
              "      </button>\n",
              "      \n",
              "  <style>\n",
              "    .colab-df-container {\n",
              "      display:flex;\n",
              "      flex-wrap:wrap;\n",
              "      gap: 12px;\n",
              "    }\n",
              "\n",
              "    .colab-df-convert {\n",
              "      background-color: #E8F0FE;\n",
              "      border: none;\n",
              "      border-radius: 50%;\n",
              "      cursor: pointer;\n",
              "      display: none;\n",
              "      fill: #1967D2;\n",
              "      height: 32px;\n",
              "      padding: 0 0 0 0;\n",
              "      width: 32px;\n",
              "    }\n",
              "\n",
              "    .colab-df-convert:hover {\n",
              "      background-color: #E2EBFA;\n",
              "      box-shadow: 0px 1px 2px rgba(60, 64, 67, 0.3), 0px 1px 3px 1px rgba(60, 64, 67, 0.15);\n",
              "      fill: #174EA6;\n",
              "    }\n",
              "\n",
              "    [theme=dark] .colab-df-convert {\n",
              "      background-color: #3B4455;\n",
              "      fill: #D2E3FC;\n",
              "    }\n",
              "\n",
              "    [theme=dark] .colab-df-convert:hover {\n",
              "      background-color: #434B5C;\n",
              "      box-shadow: 0px 1px 3px 1px rgba(0, 0, 0, 0.15);\n",
              "      filter: drop-shadow(0px 1px 2px rgba(0, 0, 0, 0.3));\n",
              "      fill: #FFFFFF;\n",
              "    }\n",
              "  </style>\n",
              "\n",
              "      <script>\n",
              "        const buttonEl =\n",
              "          document.querySelector('#df-54c02f8b-486e-4a16-9aad-7cb608310c4b button.colab-df-convert');\n",
              "        buttonEl.style.display =\n",
              "          google.colab.kernel.accessAllowed ? 'block' : 'none';\n",
              "\n",
              "        async function convertToInteractive(key) {\n",
              "          const element = document.querySelector('#df-54c02f8b-486e-4a16-9aad-7cb608310c4b');\n",
              "          const dataTable =\n",
              "            await google.colab.kernel.invokeFunction('convertToInteractive',\n",
              "                                                     [key], {});\n",
              "          if (!dataTable) return;\n",
              "\n",
              "          const docLinkHtml = 'Like what you see? Visit the ' +\n",
              "            '<a target=\"_blank\" href=https://colab.research.google.com/notebooks/data_table.ipynb>data table notebook</a>'\n",
              "            + ' to learn more about interactive tables.';\n",
              "          element.innerHTML = '';\n",
              "          dataTable['output_type'] = 'display_data';\n",
              "          await google.colab.output.renderOutput(dataTable, element);\n",
              "          const docLink = document.createElement('div');\n",
              "          docLink.innerHTML = docLinkHtml;\n",
              "          element.appendChild(docLink);\n",
              "        }\n",
              "      </script>\n",
              "    </div>\n",
              "  </div>\n",
              "  "
            ]
          },
          "metadata": {},
          "execution_count": 81
        }
      ]
    },
    {
      "cell_type": "code",
      "source": [
        "data.info()\n"
      ],
      "metadata": {
        "colab": {
          "base_uri": "https://localhost:8080/"
        },
        "id": "LBH6niE1mDuB",
        "outputId": "ccb15981-8e2a-46d2-93e2-5097c590e4fc"
      },
      "execution_count": 82,
      "outputs": [
        {
          "output_type": "stream",
          "name": "stdout",
          "text": [
            "<class 'pandas.core.frame.DataFrame'>\n",
            "RangeIndex: 41157 entries, 0 to 41156\n",
            "Data columns (total 6 columns):\n",
            " #   Column         Non-Null Count  Dtype \n",
            "---  ------         --------------  ----- \n",
            " 0   UserName       41157 non-null  object\n",
            " 1   ScreenName     41157 non-null  int64 \n",
            " 2   Location       32567 non-null  object\n",
            " 3   TweetAt        41157 non-null  object\n",
            " 4   OriginalTweet  41157 non-null  object\n",
            " 5   Sentiment      41157 non-null  object\n",
            "dtypes: int64(1), object(5)\n",
            "memory usage: 1.9+ MB\n"
          ]
        }
      ]
    },
    {
      "cell_type": "code",
      "source": [
        "data.isnull().sum()/len(data)"
      ],
      "metadata": {
        "colab": {
          "base_uri": "https://localhost:8080/"
        },
        "id": "rp6DSkQPmQVV",
        "outputId": "50dbb46a-89fc-485e-87bb-938d54caed2f"
      },
      "execution_count": 83,
      "outputs": [
        {
          "output_type": "execute_result",
          "data": {
            "text/plain": [
              "UserName         0.000000\n",
              "ScreenName       0.000000\n",
              "Location         0.208713\n",
              "TweetAt          0.000000\n",
              "OriginalTweet    0.000000\n",
              "Sentiment        0.000000\n",
              "dtype: float64"
            ]
          },
          "metadata": {},
          "execution_count": 83
        }
      ]
    },
    {
      "cell_type": "code",
      "source": [
        "data[data.duplicated()]"
      ],
      "metadata": {
        "colab": {
          "base_uri": "https://localhost:8080/",
          "height": 49
        },
        "id": "9ySQC3MB_aqE",
        "outputId": "d29a8bc9-f536-49b3-cc4b-0242632f1386"
      },
      "execution_count": 84,
      "outputs": [
        {
          "output_type": "execute_result",
          "data": {
            "text/plain": [
              "Empty DataFrame\n",
              "Columns: [UserName, ScreenName, Location, TweetAt, OriginalTweet, Sentiment]\n",
              "Index: []"
            ],
            "text/html": [
              "\n",
              "  <div id=\"df-42453405-8fe2-4790-8c9d-215b05d4ffa4\">\n",
              "    <div class=\"colab-df-container\">\n",
              "      <div>\n",
              "<style scoped>\n",
              "    .dataframe tbody tr th:only-of-type {\n",
              "        vertical-align: middle;\n",
              "    }\n",
              "\n",
              "    .dataframe tbody tr th {\n",
              "        vertical-align: top;\n",
              "    }\n",
              "\n",
              "    .dataframe thead th {\n",
              "        text-align: right;\n",
              "    }\n",
              "</style>\n",
              "<table border=\"1\" class=\"dataframe\">\n",
              "  <thead>\n",
              "    <tr style=\"text-align: right;\">\n",
              "      <th></th>\n",
              "      <th>UserName</th>\n",
              "      <th>ScreenName</th>\n",
              "      <th>Location</th>\n",
              "      <th>TweetAt</th>\n",
              "      <th>OriginalTweet</th>\n",
              "      <th>Sentiment</th>\n",
              "    </tr>\n",
              "  </thead>\n",
              "  <tbody>\n",
              "  </tbody>\n",
              "</table>\n",
              "</div>\n",
              "      <button class=\"colab-df-convert\" onclick=\"convertToInteractive('df-42453405-8fe2-4790-8c9d-215b05d4ffa4')\"\n",
              "              title=\"Convert this dataframe to an interactive table.\"\n",
              "              style=\"display:none;\">\n",
              "        \n",
              "  <svg xmlns=\"http://www.w3.org/2000/svg\" height=\"24px\"viewBox=\"0 0 24 24\"\n",
              "       width=\"24px\">\n",
              "    <path d=\"M0 0h24v24H0V0z\" fill=\"none\"/>\n",
              "    <path d=\"M18.56 5.44l.94 2.06.94-2.06 2.06-.94-2.06-.94-.94-2.06-.94 2.06-2.06.94zm-11 1L8.5 8.5l.94-2.06 2.06-.94-2.06-.94L8.5 2.5l-.94 2.06-2.06.94zm10 10l.94 2.06.94-2.06 2.06-.94-2.06-.94-.94-2.06-.94 2.06-2.06.94z\"/><path d=\"M17.41 7.96l-1.37-1.37c-.4-.4-.92-.59-1.43-.59-.52 0-1.04.2-1.43.59L10.3 9.45l-7.72 7.72c-.78.78-.78 2.05 0 2.83L4 21.41c.39.39.9.59 1.41.59.51 0 1.02-.2 1.41-.59l7.78-7.78 2.81-2.81c.8-.78.8-2.07 0-2.86zM5.41 20L4 18.59l7.72-7.72 1.47 1.35L5.41 20z\"/>\n",
              "  </svg>\n",
              "      </button>\n",
              "      \n",
              "  <style>\n",
              "    .colab-df-container {\n",
              "      display:flex;\n",
              "      flex-wrap:wrap;\n",
              "      gap: 12px;\n",
              "    }\n",
              "\n",
              "    .colab-df-convert {\n",
              "      background-color: #E8F0FE;\n",
              "      border: none;\n",
              "      border-radius: 50%;\n",
              "      cursor: pointer;\n",
              "      display: none;\n",
              "      fill: #1967D2;\n",
              "      height: 32px;\n",
              "      padding: 0 0 0 0;\n",
              "      width: 32px;\n",
              "    }\n",
              "\n",
              "    .colab-df-convert:hover {\n",
              "      background-color: #E2EBFA;\n",
              "      box-shadow: 0px 1px 2px rgba(60, 64, 67, 0.3), 0px 1px 3px 1px rgba(60, 64, 67, 0.15);\n",
              "      fill: #174EA6;\n",
              "    }\n",
              "\n",
              "    [theme=dark] .colab-df-convert {\n",
              "      background-color: #3B4455;\n",
              "      fill: #D2E3FC;\n",
              "    }\n",
              "\n",
              "    [theme=dark] .colab-df-convert:hover {\n",
              "      background-color: #434B5C;\n",
              "      box-shadow: 0px 1px 3px 1px rgba(0, 0, 0, 0.15);\n",
              "      filter: drop-shadow(0px 1px 2px rgba(0, 0, 0, 0.3));\n",
              "      fill: #FFFFFF;\n",
              "    }\n",
              "  </style>\n",
              "\n",
              "      <script>\n",
              "        const buttonEl =\n",
              "          document.querySelector('#df-42453405-8fe2-4790-8c9d-215b05d4ffa4 button.colab-df-convert');\n",
              "        buttonEl.style.display =\n",
              "          google.colab.kernel.accessAllowed ? 'block' : 'none';\n",
              "\n",
              "        async function convertToInteractive(key) {\n",
              "          const element = document.querySelector('#df-42453405-8fe2-4790-8c9d-215b05d4ffa4');\n",
              "          const dataTable =\n",
              "            await google.colab.kernel.invokeFunction('convertToInteractive',\n",
              "                                                     [key], {});\n",
              "          if (!dataTable) return;\n",
              "\n",
              "          const docLinkHtml = 'Like what you see? Visit the ' +\n",
              "            '<a target=\"_blank\" href=https://colab.research.google.com/notebooks/data_table.ipynb>data table notebook</a>'\n",
              "            + ' to learn more about interactive tables.';\n",
              "          element.innerHTML = '';\n",
              "          dataTable['output_type'] = 'display_data';\n",
              "          await google.colab.output.renderOutput(dataTable, element);\n",
              "          const docLink = document.createElement('div');\n",
              "          docLink.innerHTML = docLinkHtml;\n",
              "          element.appendChild(docLink);\n",
              "        }\n",
              "      </script>\n",
              "    </div>\n",
              "  </div>\n",
              "  "
            ]
          },
          "metadata": {},
          "execution_count": 84
        }
      ]
    },
    {
      "cell_type": "code",
      "source": [
        "from sklearn.feature_extraction.text import CountVectorizer, TfidfVectorizer"
      ],
      "metadata": {
        "id": "FI4uRpRTs99i"
      },
      "execution_count": 85,
      "outputs": []
    },
    {
      "cell_type": "code",
      "source": [
        "null_value = data['Location'].value_counts().sort_values()"
      ],
      "metadata": {
        "id": "M6xQaJPNmZJz"
      },
      "execution_count": 86,
      "outputs": []
    },
    {
      "cell_type": "code",
      "source": [
        "data.describe(include = 'all')"
      ],
      "metadata": {
        "colab": {
          "base_uri": "https://localhost:8080/",
          "height": 394
        },
        "id": "5ZTk5DxGojS8",
        "outputId": "80ad902a-28f0-4dc0-e747-5661d1ff7750"
      },
      "execution_count": 87,
      "outputs": [
        {
          "output_type": "execute_result",
          "data": {
            "text/plain": [
              "       UserName    ScreenName Location     TweetAt  \\\n",
              "count     41157  41157.000000    32567       41157   \n",
              "unique    41157           NaN    12220          30   \n",
              "top        3799           NaN   London  20-03-2020   \n",
              "freq          1           NaN      540        3448   \n",
              "mean        NaN  69329.000000      NaN         NaN   \n",
              "std         NaN  11881.146851      NaN         NaN   \n",
              "min         NaN  48751.000000      NaN         NaN   \n",
              "25%         NaN  59040.000000      NaN         NaN   \n",
              "50%         NaN  69329.000000      NaN         NaN   \n",
              "75%         NaN  79618.000000      NaN         NaN   \n",
              "max         NaN  89907.000000      NaN         NaN   \n",
              "\n",
              "                                            OriginalTweet Sentiment  \n",
              "count                                               41157     41157  \n",
              "unique                                              41157         5  \n",
              "top     @MeNyrbie @Phil_Gahan @Chrisitv https://t.co/i...  Positive  \n",
              "freq                                                    1     11422  \n",
              "mean                                                  NaN       NaN  \n",
              "std                                                   NaN       NaN  \n",
              "min                                                   NaN       NaN  \n",
              "25%                                                   NaN       NaN  \n",
              "50%                                                   NaN       NaN  \n",
              "75%                                                   NaN       NaN  \n",
              "max                                                   NaN       NaN  "
            ],
            "text/html": [
              "\n",
              "  <div id=\"df-187fd2c7-483f-41e9-bd5b-e2ede71d4550\">\n",
              "    <div class=\"colab-df-container\">\n",
              "      <div>\n",
              "<style scoped>\n",
              "    .dataframe tbody tr th:only-of-type {\n",
              "        vertical-align: middle;\n",
              "    }\n",
              "\n",
              "    .dataframe tbody tr th {\n",
              "        vertical-align: top;\n",
              "    }\n",
              "\n",
              "    .dataframe thead th {\n",
              "        text-align: right;\n",
              "    }\n",
              "</style>\n",
              "<table border=\"1\" class=\"dataframe\">\n",
              "  <thead>\n",
              "    <tr style=\"text-align: right;\">\n",
              "      <th></th>\n",
              "      <th>UserName</th>\n",
              "      <th>ScreenName</th>\n",
              "      <th>Location</th>\n",
              "      <th>TweetAt</th>\n",
              "      <th>OriginalTweet</th>\n",
              "      <th>Sentiment</th>\n",
              "    </tr>\n",
              "  </thead>\n",
              "  <tbody>\n",
              "    <tr>\n",
              "      <th>count</th>\n",
              "      <td>41157</td>\n",
              "      <td>41157.000000</td>\n",
              "      <td>32567</td>\n",
              "      <td>41157</td>\n",
              "      <td>41157</td>\n",
              "      <td>41157</td>\n",
              "    </tr>\n",
              "    <tr>\n",
              "      <th>unique</th>\n",
              "      <td>41157</td>\n",
              "      <td>NaN</td>\n",
              "      <td>12220</td>\n",
              "      <td>30</td>\n",
              "      <td>41157</td>\n",
              "      <td>5</td>\n",
              "    </tr>\n",
              "    <tr>\n",
              "      <th>top</th>\n",
              "      <td>3799</td>\n",
              "      <td>NaN</td>\n",
              "      <td>London</td>\n",
              "      <td>20-03-2020</td>\n",
              "      <td>@MeNyrbie @Phil_Gahan @Chrisitv https://t.co/i...</td>\n",
              "      <td>Positive</td>\n",
              "    </tr>\n",
              "    <tr>\n",
              "      <th>freq</th>\n",
              "      <td>1</td>\n",
              "      <td>NaN</td>\n",
              "      <td>540</td>\n",
              "      <td>3448</td>\n",
              "      <td>1</td>\n",
              "      <td>11422</td>\n",
              "    </tr>\n",
              "    <tr>\n",
              "      <th>mean</th>\n",
              "      <td>NaN</td>\n",
              "      <td>69329.000000</td>\n",
              "      <td>NaN</td>\n",
              "      <td>NaN</td>\n",
              "      <td>NaN</td>\n",
              "      <td>NaN</td>\n",
              "    </tr>\n",
              "    <tr>\n",
              "      <th>std</th>\n",
              "      <td>NaN</td>\n",
              "      <td>11881.146851</td>\n",
              "      <td>NaN</td>\n",
              "      <td>NaN</td>\n",
              "      <td>NaN</td>\n",
              "      <td>NaN</td>\n",
              "    </tr>\n",
              "    <tr>\n",
              "      <th>min</th>\n",
              "      <td>NaN</td>\n",
              "      <td>48751.000000</td>\n",
              "      <td>NaN</td>\n",
              "      <td>NaN</td>\n",
              "      <td>NaN</td>\n",
              "      <td>NaN</td>\n",
              "    </tr>\n",
              "    <tr>\n",
              "      <th>25%</th>\n",
              "      <td>NaN</td>\n",
              "      <td>59040.000000</td>\n",
              "      <td>NaN</td>\n",
              "      <td>NaN</td>\n",
              "      <td>NaN</td>\n",
              "      <td>NaN</td>\n",
              "    </tr>\n",
              "    <tr>\n",
              "      <th>50%</th>\n",
              "      <td>NaN</td>\n",
              "      <td>69329.000000</td>\n",
              "      <td>NaN</td>\n",
              "      <td>NaN</td>\n",
              "      <td>NaN</td>\n",
              "      <td>NaN</td>\n",
              "    </tr>\n",
              "    <tr>\n",
              "      <th>75%</th>\n",
              "      <td>NaN</td>\n",
              "      <td>79618.000000</td>\n",
              "      <td>NaN</td>\n",
              "      <td>NaN</td>\n",
              "      <td>NaN</td>\n",
              "      <td>NaN</td>\n",
              "    </tr>\n",
              "    <tr>\n",
              "      <th>max</th>\n",
              "      <td>NaN</td>\n",
              "      <td>89907.000000</td>\n",
              "      <td>NaN</td>\n",
              "      <td>NaN</td>\n",
              "      <td>NaN</td>\n",
              "      <td>NaN</td>\n",
              "    </tr>\n",
              "  </tbody>\n",
              "</table>\n",
              "</div>\n",
              "      <button class=\"colab-df-convert\" onclick=\"convertToInteractive('df-187fd2c7-483f-41e9-bd5b-e2ede71d4550')\"\n",
              "              title=\"Convert this dataframe to an interactive table.\"\n",
              "              style=\"display:none;\">\n",
              "        \n",
              "  <svg xmlns=\"http://www.w3.org/2000/svg\" height=\"24px\"viewBox=\"0 0 24 24\"\n",
              "       width=\"24px\">\n",
              "    <path d=\"M0 0h24v24H0V0z\" fill=\"none\"/>\n",
              "    <path d=\"M18.56 5.44l.94 2.06.94-2.06 2.06-.94-2.06-.94-.94-2.06-.94 2.06-2.06.94zm-11 1L8.5 8.5l.94-2.06 2.06-.94-2.06-.94L8.5 2.5l-.94 2.06-2.06.94zm10 10l.94 2.06.94-2.06 2.06-.94-2.06-.94-.94-2.06-.94 2.06-2.06.94z\"/><path d=\"M17.41 7.96l-1.37-1.37c-.4-.4-.92-.59-1.43-.59-.52 0-1.04.2-1.43.59L10.3 9.45l-7.72 7.72c-.78.78-.78 2.05 0 2.83L4 21.41c.39.39.9.59 1.41.59.51 0 1.02-.2 1.41-.59l7.78-7.78 2.81-2.81c.8-.78.8-2.07 0-2.86zM5.41 20L4 18.59l7.72-7.72 1.47 1.35L5.41 20z\"/>\n",
              "  </svg>\n",
              "      </button>\n",
              "      \n",
              "  <style>\n",
              "    .colab-df-container {\n",
              "      display:flex;\n",
              "      flex-wrap:wrap;\n",
              "      gap: 12px;\n",
              "    }\n",
              "\n",
              "    .colab-df-convert {\n",
              "      background-color: #E8F0FE;\n",
              "      border: none;\n",
              "      border-radius: 50%;\n",
              "      cursor: pointer;\n",
              "      display: none;\n",
              "      fill: #1967D2;\n",
              "      height: 32px;\n",
              "      padding: 0 0 0 0;\n",
              "      width: 32px;\n",
              "    }\n",
              "\n",
              "    .colab-df-convert:hover {\n",
              "      background-color: #E2EBFA;\n",
              "      box-shadow: 0px 1px 2px rgba(60, 64, 67, 0.3), 0px 1px 3px 1px rgba(60, 64, 67, 0.15);\n",
              "      fill: #174EA6;\n",
              "    }\n",
              "\n",
              "    [theme=dark] .colab-df-convert {\n",
              "      background-color: #3B4455;\n",
              "      fill: #D2E3FC;\n",
              "    }\n",
              "\n",
              "    [theme=dark] .colab-df-convert:hover {\n",
              "      background-color: #434B5C;\n",
              "      box-shadow: 0px 1px 3px 1px rgba(0, 0, 0, 0.15);\n",
              "      filter: drop-shadow(0px 1px 2px rgba(0, 0, 0, 0.3));\n",
              "      fill: #FFFFFF;\n",
              "    }\n",
              "  </style>\n",
              "\n",
              "      <script>\n",
              "        const buttonEl =\n",
              "          document.querySelector('#df-187fd2c7-483f-41e9-bd5b-e2ede71d4550 button.colab-df-convert');\n",
              "        buttonEl.style.display =\n",
              "          google.colab.kernel.accessAllowed ? 'block' : 'none';\n",
              "\n",
              "        async function convertToInteractive(key) {\n",
              "          const element = document.querySelector('#df-187fd2c7-483f-41e9-bd5b-e2ede71d4550');\n",
              "          const dataTable =\n",
              "            await google.colab.kernel.invokeFunction('convertToInteractive',\n",
              "                                                     [key], {});\n",
              "          if (!dataTable) return;\n",
              "\n",
              "          const docLinkHtml = 'Like what you see? Visit the ' +\n",
              "            '<a target=\"_blank\" href=https://colab.research.google.com/notebooks/data_table.ipynb>data table notebook</a>'\n",
              "            + ' to learn more about interactive tables.';\n",
              "          element.innerHTML = '';\n",
              "          dataTable['output_type'] = 'display_data';\n",
              "          await google.colab.output.renderOutput(dataTable, element);\n",
              "          const docLink = document.createElement('div');\n",
              "          docLink.innerHTML = docLinkHtml;\n",
              "          element.appendChild(docLink);\n",
              "        }\n",
              "      </script>\n",
              "    </div>\n",
              "  </div>\n",
              "  "
            ]
          },
          "metadata": {},
          "execution_count": 87
        }
      ]
    },
    {
      "cell_type": "code",
      "source": [
        "null_value.head(15)"
      ],
      "metadata": {
        "colab": {
          "base_uri": "https://localhost:8080/"
        },
        "id": "lGHnbvLcpXek",
        "outputId": "d2b74941-a615-4c4a-fb53-943fa4d17706"
      },
      "execution_count": 88,
      "outputs": [
        {
          "output_type": "execute_result",
          "data": {
            "text/plain": [
              "Iganga, Uganda.                  1\n",
              "Delhi                            1\n",
              "Pakistan | ??                    1\n",
              "1AU - SF??AZ                     1\n",
              "Based in Newbury                 1\n",
              "mainly by the sea                1\n",
              "California, North of the Wall    1\n",
              "Criminal Solicitor, Wiltshire    1\n",
              "South West England               1\n",
              "North Warwickshire               1\n",
              "Roma, Italia                     1\n",
              "Reality                          1\n",
              "Suffolk, VA 23434                1\n",
              "Wellington, Somerset             1\n",
              "Near Philadelphia, PA            1\n",
              "Name: Location, dtype: int64"
            ]
          },
          "metadata": {},
          "execution_count": 88
        }
      ]
    },
    {
      "cell_type": "code",
      "source": [
        "from sklearn.impute import KNNImputer\n",
        "imputer = KNNImputer(n_neighbors=5, weights='uniform', metric='nan_euclidean')"
      ],
      "metadata": {
        "id": "KoHLzKgSpuHk"
      },
      "execution_count": 89,
      "outputs": []
    },
    {
      "cell_type": "code",
      "source": [
        "data['Location']"
      ],
      "metadata": {
        "colab": {
          "base_uri": "https://localhost:8080/"
        },
        "id": "O606K6St1FUK",
        "outputId": "97dd7c3d-5a55-4214-ea1b-8db6bec9a13b"
      },
      "execution_count": 90,
      "outputs": [
        {
          "output_type": "execute_result",
          "data": {
            "text/plain": [
              "0                              London\n",
              "1                                  UK\n",
              "2                           Vagabonds\n",
              "3                                 NaN\n",
              "4                                 NaN\n",
              "                     ...             \n",
              "41152    Wellington City, New Zealand\n",
              "41153                             NaN\n",
              "41154                             NaN\n",
              "41155                             NaN\n",
              "41156    i love you so much || he/him\n",
              "Name: Location, Length: 41157, dtype: object"
            ]
          },
          "metadata": {},
          "execution_count": 90
        }
      ]
    },
    {
      "cell_type": "code",
      "source": [
        "data.dropna(axis =0,inplace = True)"
      ],
      "metadata": {
        "id": "Wwm4ZRymup2P"
      },
      "execution_count": 91,
      "outputs": []
    },
    {
      "cell_type": "code",
      "source": [
        "import re\n",
        "def remove_special(string):\n",
        "  return re.sub(\"[^a-zA-Z0-9' ]\", \"\", string)"
      ],
      "metadata": {
        "id": "CjJI7UAT1wF3"
      },
      "execution_count": 92,
      "outputs": []
    },
    {
      "cell_type": "code",
      "source": [
        "b = \"wouldn't\"\n",
        "remove_special(b)"
      ],
      "metadata": {
        "colab": {
          "base_uri": "https://localhost:8080/",
          "height": 36
        },
        "id": "IcKNiYu8So7a",
        "outputId": "47224cdf-d53b-4df2-cd1d-9b655317d6a6"
      },
      "execution_count": 93,
      "outputs": [
        {
          "output_type": "execute_result",
          "data": {
            "text/plain": [
              "\"wouldn't\""
            ],
            "application/vnd.google.colaboratory.intrinsic+json": {
              "type": "string"
            }
          },
          "metadata": {},
          "execution_count": 93
        }
      ]
    },
    {
      "cell_type": "code",
      "source": [
        "data['Location'] = data['Location'].apply(remove_special)"
      ],
      "metadata": {
        "id": "TtNuLM718Ao1"
      },
      "execution_count": 94,
      "outputs": []
    },
    {
      "cell_type": "code",
      "source": [
        "data['Location']"
      ],
      "metadata": {
        "colab": {
          "base_uri": "https://localhost:8080/"
        },
        "id": "8fWkH4yQ4Tcf",
        "outputId": "ea3b09f4-4ce2-477a-ef58-ddc2c89770cf"
      },
      "execution_count": 95,
      "outputs": [
        {
          "output_type": "execute_result",
          "data": {
            "text/plain": [
              "0                             London\n",
              "1                                 UK\n",
              "2                          Vagabonds\n",
              "5                 T 3631970882363649\n",
              "6                   3592654178753267\n",
              "                    ...             \n",
              "41147                    Brooklyn NY\n",
              "41149                Toronto Ontario\n",
              "41150                           OHIO\n",
              "41152    Wellington City New Zealand\n",
              "41156      i love you so much  hehim\n",
              "Name: Location, Length: 32567, dtype: object"
            ]
          },
          "metadata": {},
          "execution_count": 95
        }
      ]
    },
    {
      "cell_type": "code",
      "source": [
        "from ast import Try\n",
        "a = 'ase'\n",
        "b = '123'\n",
        "for i in [a,b]:\n",
        "\n",
        "  try:\n",
        "    float(i)\n",
        "    print(float(i))\n",
        "  except:\n",
        "    pass"
      ],
      "metadata": {
        "colab": {
          "base_uri": "https://localhost:8080/"
        },
        "id": "wncilTEw-mAC",
        "outputId": "fe7e1248-b15d-48ca-8a16-b08e79409d0e"
      },
      "execution_count": 96,
      "outputs": [
        {
          "output_type": "stream",
          "name": "stdout",
          "text": [
            "123.0\n"
          ]
        }
      ]
    },
    {
      "cell_type": "code",
      "source": [
        "data['Location'] = data['Location'].apply(lambda x : x.split(',')[0])"
      ],
      "metadata": {
        "id": "9al79-G3s8Tx"
      },
      "execution_count": 97,
      "outputs": []
    },
    {
      "cell_type": "code",
      "source": [
        "data.head(20)"
      ],
      "metadata": {
        "colab": {
          "base_uri": "https://localhost:8080/",
          "height": 676
        },
        "id": "OPvYfVPZuixz",
        "outputId": "ff855209-4508-4919-c2bf-581be5cd692c"
      },
      "execution_count": 98,
      "outputs": [
        {
          "output_type": "execute_result",
          "data": {
            "text/plain": [
              "   UserName  ScreenName                 Location     TweetAt  \\\n",
              "0      3799       48751                   London  16-03-2020   \n",
              "1      3800       48752                       UK  16-03-2020   \n",
              "2      3801       48753                Vagabonds  16-03-2020   \n",
              "5      3804       48756       T 3631970882363649  16-03-2020   \n",
              "6      3805       48757         3592654178753267  16-03-2020   \n",
              "7      3806       48758                  Austria  16-03-2020   \n",
              "8      3807       48759           Atlanta GA USA  16-03-2020   \n",
              "9      3808       48760          BHAVNAGARGUJRAT  16-03-2020   \n",
              "10     3809       48761            Makati Manila  16-03-2020   \n",
              "11     3810       48762  Pitt Meadows BC Canada   16-03-2020   \n",
              "12     3811       48763               Horningsea  16-03-2020   \n",
              "13     3812       48764               Chicago IL  16-03-2020   \n",
              "15     3814       48766            Houston Texas  16-03-2020   \n",
              "16     3815       48767             Saudi Arabia  16-03-2020   \n",
              "17     3816       48768           Ontario Canada  16-03-2020   \n",
              "18     3817       48769            North America  16-03-2020   \n",
              "19     3818       48770                Denver CO  16-03-2020   \n",
              "20     3819       48771     southampton soxx xxx  16-03-2020   \n",
              "21     3820       48772                   Global  16-03-2020   \n",
              "24     3823       48775         Downstage centre  16-03-2020   \n",
              "\n",
              "                                        OriginalTweet           Sentiment  \n",
              "0   @MeNyrbie @Phil_Gahan @Chrisitv https://t.co/i...             Neutral  \n",
              "1   advice Talk to your neighbours family to excha...            Positive  \n",
              "2   Coronavirus Australia: Woolworths to give elde...            Positive  \n",
              "5   As news of the regionÂs first confirmed COVID...            Positive  \n",
              "6   Cashier at grocery store was sharing his insig...            Positive  \n",
              "7   Was at the supermarket today. Didn't buy toile...             Neutral  \n",
              "8   Due to COVID-19 our retail store and classroom...            Positive  \n",
              "9   For corona prevention,we should stop to buy th...            Negative  \n",
              "10  All month there hasn't been crowding in the su...             Neutral  \n",
              "11  Due to the Covid-19 situation, we have increas...  Extremely Positive  \n",
              "12  #horningsea is a caring community. LetÂs ALL ...  Extremely Positive  \n",
              "13  Me: I don't need to stock up on food, I'll jus...            Positive  \n",
              "15  Lines at the grocery store have been unpredict...            Positive  \n",
              "16  ????? ????? ????? ????? ??\\r\\r\\n?????? ????? ?...             Neutral  \n",
              "17  @eyeonthearctic 16MAR20 Russia consumer survei...             Neutral  \n",
              "18  Amazon Glitch Stymies Whole Foods, Fresh Groce...  Extremely Positive  \n",
              "19  For those who aren't struggling, please consid...            Positive  \n",
              "20  with 100  nations inficted with  covid  19  th...  Extremely Negative  \n",
              "21  https://t.co/AVKrR9syff\\r\\r\\n\\r\\r\\nThe COVID-1...             Neutral  \n",
              "24  @10DowningStreet @grantshapps what is being do...            Negative  "
            ],
            "text/html": [
              "\n",
              "  <div id=\"df-f2b80310-8286-49df-a2fa-1a95ec5df1ce\">\n",
              "    <div class=\"colab-df-container\">\n",
              "      <div>\n",
              "<style scoped>\n",
              "    .dataframe tbody tr th:only-of-type {\n",
              "        vertical-align: middle;\n",
              "    }\n",
              "\n",
              "    .dataframe tbody tr th {\n",
              "        vertical-align: top;\n",
              "    }\n",
              "\n",
              "    .dataframe thead th {\n",
              "        text-align: right;\n",
              "    }\n",
              "</style>\n",
              "<table border=\"1\" class=\"dataframe\">\n",
              "  <thead>\n",
              "    <tr style=\"text-align: right;\">\n",
              "      <th></th>\n",
              "      <th>UserName</th>\n",
              "      <th>ScreenName</th>\n",
              "      <th>Location</th>\n",
              "      <th>TweetAt</th>\n",
              "      <th>OriginalTweet</th>\n",
              "      <th>Sentiment</th>\n",
              "    </tr>\n",
              "  </thead>\n",
              "  <tbody>\n",
              "    <tr>\n",
              "      <th>0</th>\n",
              "      <td>3799</td>\n",
              "      <td>48751</td>\n",
              "      <td>London</td>\n",
              "      <td>16-03-2020</td>\n",
              "      <td>@MeNyrbie @Phil_Gahan @Chrisitv https://t.co/i...</td>\n",
              "      <td>Neutral</td>\n",
              "    </tr>\n",
              "    <tr>\n",
              "      <th>1</th>\n",
              "      <td>3800</td>\n",
              "      <td>48752</td>\n",
              "      <td>UK</td>\n",
              "      <td>16-03-2020</td>\n",
              "      <td>advice Talk to your neighbours family to excha...</td>\n",
              "      <td>Positive</td>\n",
              "    </tr>\n",
              "    <tr>\n",
              "      <th>2</th>\n",
              "      <td>3801</td>\n",
              "      <td>48753</td>\n",
              "      <td>Vagabonds</td>\n",
              "      <td>16-03-2020</td>\n",
              "      <td>Coronavirus Australia: Woolworths to give elde...</td>\n",
              "      <td>Positive</td>\n",
              "    </tr>\n",
              "    <tr>\n",
              "      <th>5</th>\n",
              "      <td>3804</td>\n",
              "      <td>48756</td>\n",
              "      <td>T 3631970882363649</td>\n",
              "      <td>16-03-2020</td>\n",
              "      <td>As news of the regionÂs first confirmed COVID...</td>\n",
              "      <td>Positive</td>\n",
              "    </tr>\n",
              "    <tr>\n",
              "      <th>6</th>\n",
              "      <td>3805</td>\n",
              "      <td>48757</td>\n",
              "      <td>3592654178753267</td>\n",
              "      <td>16-03-2020</td>\n",
              "      <td>Cashier at grocery store was sharing his insig...</td>\n",
              "      <td>Positive</td>\n",
              "    </tr>\n",
              "    <tr>\n",
              "      <th>7</th>\n",
              "      <td>3806</td>\n",
              "      <td>48758</td>\n",
              "      <td>Austria</td>\n",
              "      <td>16-03-2020</td>\n",
              "      <td>Was at the supermarket today. Didn't buy toile...</td>\n",
              "      <td>Neutral</td>\n",
              "    </tr>\n",
              "    <tr>\n",
              "      <th>8</th>\n",
              "      <td>3807</td>\n",
              "      <td>48759</td>\n",
              "      <td>Atlanta GA USA</td>\n",
              "      <td>16-03-2020</td>\n",
              "      <td>Due to COVID-19 our retail store and classroom...</td>\n",
              "      <td>Positive</td>\n",
              "    </tr>\n",
              "    <tr>\n",
              "      <th>9</th>\n",
              "      <td>3808</td>\n",
              "      <td>48760</td>\n",
              "      <td>BHAVNAGARGUJRAT</td>\n",
              "      <td>16-03-2020</td>\n",
              "      <td>For corona prevention,we should stop to buy th...</td>\n",
              "      <td>Negative</td>\n",
              "    </tr>\n",
              "    <tr>\n",
              "      <th>10</th>\n",
              "      <td>3809</td>\n",
              "      <td>48761</td>\n",
              "      <td>Makati Manila</td>\n",
              "      <td>16-03-2020</td>\n",
              "      <td>All month there hasn't been crowding in the su...</td>\n",
              "      <td>Neutral</td>\n",
              "    </tr>\n",
              "    <tr>\n",
              "      <th>11</th>\n",
              "      <td>3810</td>\n",
              "      <td>48762</td>\n",
              "      <td>Pitt Meadows BC Canada</td>\n",
              "      <td>16-03-2020</td>\n",
              "      <td>Due to the Covid-19 situation, we have increas...</td>\n",
              "      <td>Extremely Positive</td>\n",
              "    </tr>\n",
              "    <tr>\n",
              "      <th>12</th>\n",
              "      <td>3811</td>\n",
              "      <td>48763</td>\n",
              "      <td>Horningsea</td>\n",
              "      <td>16-03-2020</td>\n",
              "      <td>#horningsea is a caring community. LetÂs ALL ...</td>\n",
              "      <td>Extremely Positive</td>\n",
              "    </tr>\n",
              "    <tr>\n",
              "      <th>13</th>\n",
              "      <td>3812</td>\n",
              "      <td>48764</td>\n",
              "      <td>Chicago IL</td>\n",
              "      <td>16-03-2020</td>\n",
              "      <td>Me: I don't need to stock up on food, I'll jus...</td>\n",
              "      <td>Positive</td>\n",
              "    </tr>\n",
              "    <tr>\n",
              "      <th>15</th>\n",
              "      <td>3814</td>\n",
              "      <td>48766</td>\n",
              "      <td>Houston Texas</td>\n",
              "      <td>16-03-2020</td>\n",
              "      <td>Lines at the grocery store have been unpredict...</td>\n",
              "      <td>Positive</td>\n",
              "    </tr>\n",
              "    <tr>\n",
              "      <th>16</th>\n",
              "      <td>3815</td>\n",
              "      <td>48767</td>\n",
              "      <td>Saudi Arabia</td>\n",
              "      <td>16-03-2020</td>\n",
              "      <td>????? ????? ????? ????? ??\\r\\r\\n?????? ????? ?...</td>\n",
              "      <td>Neutral</td>\n",
              "    </tr>\n",
              "    <tr>\n",
              "      <th>17</th>\n",
              "      <td>3816</td>\n",
              "      <td>48768</td>\n",
              "      <td>Ontario Canada</td>\n",
              "      <td>16-03-2020</td>\n",
              "      <td>@eyeonthearctic 16MAR20 Russia consumer survei...</td>\n",
              "      <td>Neutral</td>\n",
              "    </tr>\n",
              "    <tr>\n",
              "      <th>18</th>\n",
              "      <td>3817</td>\n",
              "      <td>48769</td>\n",
              "      <td>North America</td>\n",
              "      <td>16-03-2020</td>\n",
              "      <td>Amazon Glitch Stymies Whole Foods, Fresh Groce...</td>\n",
              "      <td>Extremely Positive</td>\n",
              "    </tr>\n",
              "    <tr>\n",
              "      <th>19</th>\n",
              "      <td>3818</td>\n",
              "      <td>48770</td>\n",
              "      <td>Denver CO</td>\n",
              "      <td>16-03-2020</td>\n",
              "      <td>For those who aren't struggling, please consid...</td>\n",
              "      <td>Positive</td>\n",
              "    </tr>\n",
              "    <tr>\n",
              "      <th>20</th>\n",
              "      <td>3819</td>\n",
              "      <td>48771</td>\n",
              "      <td>southampton soxx xxx</td>\n",
              "      <td>16-03-2020</td>\n",
              "      <td>with 100  nations inficted with  covid  19  th...</td>\n",
              "      <td>Extremely Negative</td>\n",
              "    </tr>\n",
              "    <tr>\n",
              "      <th>21</th>\n",
              "      <td>3820</td>\n",
              "      <td>48772</td>\n",
              "      <td>Global</td>\n",
              "      <td>16-03-2020</td>\n",
              "      <td>https://t.co/AVKrR9syff\\r\\r\\n\\r\\r\\nThe COVID-1...</td>\n",
              "      <td>Neutral</td>\n",
              "    </tr>\n",
              "    <tr>\n",
              "      <th>24</th>\n",
              "      <td>3823</td>\n",
              "      <td>48775</td>\n",
              "      <td>Downstage centre</td>\n",
              "      <td>16-03-2020</td>\n",
              "      <td>@10DowningStreet @grantshapps what is being do...</td>\n",
              "      <td>Negative</td>\n",
              "    </tr>\n",
              "  </tbody>\n",
              "</table>\n",
              "</div>\n",
              "      <button class=\"colab-df-convert\" onclick=\"convertToInteractive('df-f2b80310-8286-49df-a2fa-1a95ec5df1ce')\"\n",
              "              title=\"Convert this dataframe to an interactive table.\"\n",
              "              style=\"display:none;\">\n",
              "        \n",
              "  <svg xmlns=\"http://www.w3.org/2000/svg\" height=\"24px\"viewBox=\"0 0 24 24\"\n",
              "       width=\"24px\">\n",
              "    <path d=\"M0 0h24v24H0V0z\" fill=\"none\"/>\n",
              "    <path d=\"M18.56 5.44l.94 2.06.94-2.06 2.06-.94-2.06-.94-.94-2.06-.94 2.06-2.06.94zm-11 1L8.5 8.5l.94-2.06 2.06-.94-2.06-.94L8.5 2.5l-.94 2.06-2.06.94zm10 10l.94 2.06.94-2.06 2.06-.94-2.06-.94-.94-2.06-.94 2.06-2.06.94z\"/><path d=\"M17.41 7.96l-1.37-1.37c-.4-.4-.92-.59-1.43-.59-.52 0-1.04.2-1.43.59L10.3 9.45l-7.72 7.72c-.78.78-.78 2.05 0 2.83L4 21.41c.39.39.9.59 1.41.59.51 0 1.02-.2 1.41-.59l7.78-7.78 2.81-2.81c.8-.78.8-2.07 0-2.86zM5.41 20L4 18.59l7.72-7.72 1.47 1.35L5.41 20z\"/>\n",
              "  </svg>\n",
              "      </button>\n",
              "      \n",
              "  <style>\n",
              "    .colab-df-container {\n",
              "      display:flex;\n",
              "      flex-wrap:wrap;\n",
              "      gap: 12px;\n",
              "    }\n",
              "\n",
              "    .colab-df-convert {\n",
              "      background-color: #E8F0FE;\n",
              "      border: none;\n",
              "      border-radius: 50%;\n",
              "      cursor: pointer;\n",
              "      display: none;\n",
              "      fill: #1967D2;\n",
              "      height: 32px;\n",
              "      padding: 0 0 0 0;\n",
              "      width: 32px;\n",
              "    }\n",
              "\n",
              "    .colab-df-convert:hover {\n",
              "      background-color: #E2EBFA;\n",
              "      box-shadow: 0px 1px 2px rgba(60, 64, 67, 0.3), 0px 1px 3px 1px rgba(60, 64, 67, 0.15);\n",
              "      fill: #174EA6;\n",
              "    }\n",
              "\n",
              "    [theme=dark] .colab-df-convert {\n",
              "      background-color: #3B4455;\n",
              "      fill: #D2E3FC;\n",
              "    }\n",
              "\n",
              "    [theme=dark] .colab-df-convert:hover {\n",
              "      background-color: #434B5C;\n",
              "      box-shadow: 0px 1px 3px 1px rgba(0, 0, 0, 0.15);\n",
              "      filter: drop-shadow(0px 1px 2px rgba(0, 0, 0, 0.3));\n",
              "      fill: #FFFFFF;\n",
              "    }\n",
              "  </style>\n",
              "\n",
              "      <script>\n",
              "        const buttonEl =\n",
              "          document.querySelector('#df-f2b80310-8286-49df-a2fa-1a95ec5df1ce button.colab-df-convert');\n",
              "        buttonEl.style.display =\n",
              "          google.colab.kernel.accessAllowed ? 'block' : 'none';\n",
              "\n",
              "        async function convertToInteractive(key) {\n",
              "          const element = document.querySelector('#df-f2b80310-8286-49df-a2fa-1a95ec5df1ce');\n",
              "          const dataTable =\n",
              "            await google.colab.kernel.invokeFunction('convertToInteractive',\n",
              "                                                     [key], {});\n",
              "          if (!dataTable) return;\n",
              "\n",
              "          const docLinkHtml = 'Like what you see? Visit the ' +\n",
              "            '<a target=\"_blank\" href=https://colab.research.google.com/notebooks/data_table.ipynb>data table notebook</a>'\n",
              "            + ' to learn more about interactive tables.';\n",
              "          element.innerHTML = '';\n",
              "          dataTable['output_type'] = 'display_data';\n",
              "          await google.colab.output.renderOutput(dataTable, element);\n",
              "          const docLink = document.createElement('div');\n",
              "          docLink.innerHTML = docLinkHtml;\n",
              "          element.appendChild(docLink);\n",
              "        }\n",
              "      </script>\n",
              "    </div>\n",
              "  </div>\n",
              "  "
            ]
          },
          "metadata": {},
          "execution_count": 98
        }
      ]
    },
    {
      "cell_type": "code",
      "source": [
        "data"
      ],
      "metadata": {
        "colab": {
          "base_uri": "https://localhost:8080/",
          "height": 423
        },
        "id": "77m2Z5bW0Fwj",
        "outputId": "b5d159c8-c1a3-43c0-820b-e50ed20ed0db"
      },
      "execution_count": 99,
      "outputs": [
        {
          "output_type": "execute_result",
          "data": {
            "text/plain": [
              "      UserName  ScreenName                     Location     TweetAt  \\\n",
              "0         3799       48751                       London  16-03-2020   \n",
              "1         3800       48752                           UK  16-03-2020   \n",
              "2         3801       48753                    Vagabonds  16-03-2020   \n",
              "5         3804       48756           T 3631970882363649  16-03-2020   \n",
              "6         3805       48757             3592654178753267  16-03-2020   \n",
              "...        ...         ...                          ...         ...   \n",
              "41147    44946       89898                  Brooklyn NY  14-04-2020   \n",
              "41149    44948       89900              Toronto Ontario  14-04-2020   \n",
              "41150    44949       89901                         OHIO  14-04-2020   \n",
              "41152    44951       89903  Wellington City New Zealand  14-04-2020   \n",
              "41156    44955       89907    i love you so much  hehim  14-04-2020   \n",
              "\n",
              "                                           OriginalTweet Sentiment  \n",
              "0      @MeNyrbie @Phil_Gahan @Chrisitv https://t.co/i...   Neutral  \n",
              "1      advice Talk to your neighbours family to excha...  Positive  \n",
              "2      Coronavirus Australia: Woolworths to give elde...  Positive  \n",
              "5      As news of the regionÂs first confirmed COVID...  Positive  \n",
              "6      Cashier at grocery store was sharing his insig...  Positive  \n",
              "...                                                  ...       ...  \n",
              "41147  YÂall really shitting that much more at home?...  Negative  \n",
              "41149  Still shocked by the number of #Toronto superm...  Negative  \n",
              "41150  I never that weÂd be in a situation &amp; wor...  Positive  \n",
              "41152  Airline pilots offering to stock supermarket s...   Neutral  \n",
              "41156  @TartiiCat Well new/used Rift S are going for ...  Negative  \n",
              "\n",
              "[32567 rows x 6 columns]"
            ],
            "text/html": [
              "\n",
              "  <div id=\"df-9901246e-48d2-409a-a694-5cdc42a7a5f4\">\n",
              "    <div class=\"colab-df-container\">\n",
              "      <div>\n",
              "<style scoped>\n",
              "    .dataframe tbody tr th:only-of-type {\n",
              "        vertical-align: middle;\n",
              "    }\n",
              "\n",
              "    .dataframe tbody tr th {\n",
              "        vertical-align: top;\n",
              "    }\n",
              "\n",
              "    .dataframe thead th {\n",
              "        text-align: right;\n",
              "    }\n",
              "</style>\n",
              "<table border=\"1\" class=\"dataframe\">\n",
              "  <thead>\n",
              "    <tr style=\"text-align: right;\">\n",
              "      <th></th>\n",
              "      <th>UserName</th>\n",
              "      <th>ScreenName</th>\n",
              "      <th>Location</th>\n",
              "      <th>TweetAt</th>\n",
              "      <th>OriginalTweet</th>\n",
              "      <th>Sentiment</th>\n",
              "    </tr>\n",
              "  </thead>\n",
              "  <tbody>\n",
              "    <tr>\n",
              "      <th>0</th>\n",
              "      <td>3799</td>\n",
              "      <td>48751</td>\n",
              "      <td>London</td>\n",
              "      <td>16-03-2020</td>\n",
              "      <td>@MeNyrbie @Phil_Gahan @Chrisitv https://t.co/i...</td>\n",
              "      <td>Neutral</td>\n",
              "    </tr>\n",
              "    <tr>\n",
              "      <th>1</th>\n",
              "      <td>3800</td>\n",
              "      <td>48752</td>\n",
              "      <td>UK</td>\n",
              "      <td>16-03-2020</td>\n",
              "      <td>advice Talk to your neighbours family to excha...</td>\n",
              "      <td>Positive</td>\n",
              "    </tr>\n",
              "    <tr>\n",
              "      <th>2</th>\n",
              "      <td>3801</td>\n",
              "      <td>48753</td>\n",
              "      <td>Vagabonds</td>\n",
              "      <td>16-03-2020</td>\n",
              "      <td>Coronavirus Australia: Woolworths to give elde...</td>\n",
              "      <td>Positive</td>\n",
              "    </tr>\n",
              "    <tr>\n",
              "      <th>5</th>\n",
              "      <td>3804</td>\n",
              "      <td>48756</td>\n",
              "      <td>T 3631970882363649</td>\n",
              "      <td>16-03-2020</td>\n",
              "      <td>As news of the regionÂs first confirmed COVID...</td>\n",
              "      <td>Positive</td>\n",
              "    </tr>\n",
              "    <tr>\n",
              "      <th>6</th>\n",
              "      <td>3805</td>\n",
              "      <td>48757</td>\n",
              "      <td>3592654178753267</td>\n",
              "      <td>16-03-2020</td>\n",
              "      <td>Cashier at grocery store was sharing his insig...</td>\n",
              "      <td>Positive</td>\n",
              "    </tr>\n",
              "    <tr>\n",
              "      <th>...</th>\n",
              "      <td>...</td>\n",
              "      <td>...</td>\n",
              "      <td>...</td>\n",
              "      <td>...</td>\n",
              "      <td>...</td>\n",
              "      <td>...</td>\n",
              "    </tr>\n",
              "    <tr>\n",
              "      <th>41147</th>\n",
              "      <td>44946</td>\n",
              "      <td>89898</td>\n",
              "      <td>Brooklyn NY</td>\n",
              "      <td>14-04-2020</td>\n",
              "      <td>YÂall really shitting that much more at home?...</td>\n",
              "      <td>Negative</td>\n",
              "    </tr>\n",
              "    <tr>\n",
              "      <th>41149</th>\n",
              "      <td>44948</td>\n",
              "      <td>89900</td>\n",
              "      <td>Toronto Ontario</td>\n",
              "      <td>14-04-2020</td>\n",
              "      <td>Still shocked by the number of #Toronto superm...</td>\n",
              "      <td>Negative</td>\n",
              "    </tr>\n",
              "    <tr>\n",
              "      <th>41150</th>\n",
              "      <td>44949</td>\n",
              "      <td>89901</td>\n",
              "      <td>OHIO</td>\n",
              "      <td>14-04-2020</td>\n",
              "      <td>I never that weÂd be in a situation &amp;amp; wor...</td>\n",
              "      <td>Positive</td>\n",
              "    </tr>\n",
              "    <tr>\n",
              "      <th>41152</th>\n",
              "      <td>44951</td>\n",
              "      <td>89903</td>\n",
              "      <td>Wellington City New Zealand</td>\n",
              "      <td>14-04-2020</td>\n",
              "      <td>Airline pilots offering to stock supermarket s...</td>\n",
              "      <td>Neutral</td>\n",
              "    </tr>\n",
              "    <tr>\n",
              "      <th>41156</th>\n",
              "      <td>44955</td>\n",
              "      <td>89907</td>\n",
              "      <td>i love you so much  hehim</td>\n",
              "      <td>14-04-2020</td>\n",
              "      <td>@TartiiCat Well new/used Rift S are going for ...</td>\n",
              "      <td>Negative</td>\n",
              "    </tr>\n",
              "  </tbody>\n",
              "</table>\n",
              "<p>32567 rows × 6 columns</p>\n",
              "</div>\n",
              "      <button class=\"colab-df-convert\" onclick=\"convertToInteractive('df-9901246e-48d2-409a-a694-5cdc42a7a5f4')\"\n",
              "              title=\"Convert this dataframe to an interactive table.\"\n",
              "              style=\"display:none;\">\n",
              "        \n",
              "  <svg xmlns=\"http://www.w3.org/2000/svg\" height=\"24px\"viewBox=\"0 0 24 24\"\n",
              "       width=\"24px\">\n",
              "    <path d=\"M0 0h24v24H0V0z\" fill=\"none\"/>\n",
              "    <path d=\"M18.56 5.44l.94 2.06.94-2.06 2.06-.94-2.06-.94-.94-2.06-.94 2.06-2.06.94zm-11 1L8.5 8.5l.94-2.06 2.06-.94-2.06-.94L8.5 2.5l-.94 2.06-2.06.94zm10 10l.94 2.06.94-2.06 2.06-.94-2.06-.94-.94-2.06-.94 2.06-2.06.94z\"/><path d=\"M17.41 7.96l-1.37-1.37c-.4-.4-.92-.59-1.43-.59-.52 0-1.04.2-1.43.59L10.3 9.45l-7.72 7.72c-.78.78-.78 2.05 0 2.83L4 21.41c.39.39.9.59 1.41.59.51 0 1.02-.2 1.41-.59l7.78-7.78 2.81-2.81c.8-.78.8-2.07 0-2.86zM5.41 20L4 18.59l7.72-7.72 1.47 1.35L5.41 20z\"/>\n",
              "  </svg>\n",
              "      </button>\n",
              "      \n",
              "  <style>\n",
              "    .colab-df-container {\n",
              "      display:flex;\n",
              "      flex-wrap:wrap;\n",
              "      gap: 12px;\n",
              "    }\n",
              "\n",
              "    .colab-df-convert {\n",
              "      background-color: #E8F0FE;\n",
              "      border: none;\n",
              "      border-radius: 50%;\n",
              "      cursor: pointer;\n",
              "      display: none;\n",
              "      fill: #1967D2;\n",
              "      height: 32px;\n",
              "      padding: 0 0 0 0;\n",
              "      width: 32px;\n",
              "    }\n",
              "\n",
              "    .colab-df-convert:hover {\n",
              "      background-color: #E2EBFA;\n",
              "      box-shadow: 0px 1px 2px rgba(60, 64, 67, 0.3), 0px 1px 3px 1px rgba(60, 64, 67, 0.15);\n",
              "      fill: #174EA6;\n",
              "    }\n",
              "\n",
              "    [theme=dark] .colab-df-convert {\n",
              "      background-color: #3B4455;\n",
              "      fill: #D2E3FC;\n",
              "    }\n",
              "\n",
              "    [theme=dark] .colab-df-convert:hover {\n",
              "      background-color: #434B5C;\n",
              "      box-shadow: 0px 1px 3px 1px rgba(0, 0, 0, 0.15);\n",
              "      filter: drop-shadow(0px 1px 2px rgba(0, 0, 0, 0.3));\n",
              "      fill: #FFFFFF;\n",
              "    }\n",
              "  </style>\n",
              "\n",
              "      <script>\n",
              "        const buttonEl =\n",
              "          document.querySelector('#df-9901246e-48d2-409a-a694-5cdc42a7a5f4 button.colab-df-convert');\n",
              "        buttonEl.style.display =\n",
              "          google.colab.kernel.accessAllowed ? 'block' : 'none';\n",
              "\n",
              "        async function convertToInteractive(key) {\n",
              "          const element = document.querySelector('#df-9901246e-48d2-409a-a694-5cdc42a7a5f4');\n",
              "          const dataTable =\n",
              "            await google.colab.kernel.invokeFunction('convertToInteractive',\n",
              "                                                     [key], {});\n",
              "          if (!dataTable) return;\n",
              "\n",
              "          const docLinkHtml = 'Like what you see? Visit the ' +\n",
              "            '<a target=\"_blank\" href=https://colab.research.google.com/notebooks/data_table.ipynb>data table notebook</a>'\n",
              "            + ' to learn more about interactive tables.';\n",
              "          element.innerHTML = '';\n",
              "          dataTable['output_type'] = 'display_data';\n",
              "          await google.colab.output.renderOutput(dataTable, element);\n",
              "          const docLink = document.createElement('div');\n",
              "          docLink.innerHTML = docLinkHtml;\n",
              "          element.appendChild(docLink);\n",
              "        }\n",
              "      </script>\n",
              "    </div>\n",
              "  </div>\n",
              "  "
            ]
          },
          "metadata": {},
          "execution_count": 99
        }
      ]
    },
    {
      "cell_type": "code",
      "source": [
        "data['OriginalTweet'][0]"
      ],
      "metadata": {
        "colab": {
          "base_uri": "https://localhost:8080/",
          "height": 36
        },
        "id": "HsQt_znC5zNd",
        "outputId": "eaba7d19-b492-4c11-e635-48264eba8eed"
      },
      "execution_count": 100,
      "outputs": [
        {
          "output_type": "execute_result",
          "data": {
            "text/plain": [
              "'@MeNyrbie @Phil_Gahan @Chrisitv https://t.co/iFz9FAn2Pa and https://t.co/xX6ghGFzCC and https://t.co/I2NlzdxNo8'"
            ],
            "application/vnd.google.colaboratory.intrinsic+json": {
              "type": "string"
            }
          },
          "metadata": {},
          "execution_count": 100
        }
      ]
    },
    {
      "cell_type": "code",
      "source": [
        "data['Sentiment'].value_counts().plot(kind = 'bar')"
      ],
      "metadata": {
        "colab": {
          "base_uri": "https://localhost:8080/",
          "height": 372
        },
        "id": "xDuz907f6C6k",
        "outputId": "357643f3-2d57-4f03-8fca-d3ba7c171634"
      },
      "execution_count": 101,
      "outputs": [
        {
          "output_type": "execute_result",
          "data": {
            "text/plain": [
              "<matplotlib.axes._subplots.AxesSubplot at 0x7f8bdb794a50>"
            ]
          },
          "metadata": {},
          "execution_count": 101
        },
        {
          "output_type": "display_data",
          "data": {
            "text/plain": [
              "<Figure size 432x288 with 1 Axes>"
            ],
            "image/png": "[encoded data removed]"
          },
          "metadata": {
            "needs_background": "light"
          }
        }
      ]
    },
    {
      "cell_type": "code",
      "source": [
        "from nltk.corpus import stopwords "
      ],
      "metadata": {
        "id": "pusN--n_7Hfw"
      },
      "execution_count": 102,
      "outputs": []
    },
    {
      "cell_type": "code",
      "source": [
        "# import string\n",
        "# def remove_puncuation(string1):\n",
        "#   translator = str.maketrans('','',string.punctuation)\n",
        "#   return string1.translate(translator)"
      ],
      "metadata": {
        "id": "cA0aJZxrZGjO"
      },
      "execution_count": 103,
      "outputs": []
    },
    {
      "cell_type": "code",
      "source": [
        "# data['Tokenize_OriginalTweet'] = data['OriginalTweet'].apply(remove_puncuation)"
      ],
      "metadata": {
        "id": "TiQehk01Z5m6"
      },
      "execution_count": 104,
      "outputs": []
    },
    {
      "cell_type": "code",
      "source": [
        "data"
      ],
      "metadata": {
        "colab": {
          "base_uri": "https://localhost:8080/",
          "height": 423
        },
        "id": "cQiYljPSaE6Y",
        "outputId": "821581ed-4300-4a24-cbb1-bdfc25caf242"
      },
      "execution_count": 105,
      "outputs": [
        {
          "output_type": "execute_result",
          "data": {
            "text/plain": [
              "      UserName  ScreenName                     Location     TweetAt  \\\n",
              "0         3799       48751                       London  16-03-2020   \n",
              "1         3800       48752                           UK  16-03-2020   \n",
              "2         3801       48753                    Vagabonds  16-03-2020   \n",
              "5         3804       48756           T 3631970882363649  16-03-2020   \n",
              "6         3805       48757             3592654178753267  16-03-2020   \n",
              "...        ...         ...                          ...         ...   \n",
              "41147    44946       89898                  Brooklyn NY  14-04-2020   \n",
              "41149    44948       89900              Toronto Ontario  14-04-2020   \n",
              "41150    44949       89901                         OHIO  14-04-2020   \n",
              "41152    44951       89903  Wellington City New Zealand  14-04-2020   \n",
              "41156    44955       89907    i love you so much  hehim  14-04-2020   \n",
              "\n",
              "                                           OriginalTweet Sentiment  \n",
              "0      @MeNyrbie @Phil_Gahan @Chrisitv https://t.co/i...   Neutral  \n",
              "1      advice Talk to your neighbours family to excha...  Positive  \n",
              "2      Coronavirus Australia: Woolworths to give elde...  Positive  \n",
              "5      As news of the regionÂs first confirmed COVID...  Positive  \n",
              "6      Cashier at grocery store was sharing his insig...  Positive  \n",
              "...                                                  ...       ...  \n",
              "41147  YÂall really shitting that much more at home?...  Negative  \n",
              "41149  Still shocked by the number of #Toronto superm...  Negative  \n",
              "41150  I never that weÂd be in a situation &amp; wor...  Positive  \n",
              "41152  Airline pilots offering to stock supermarket s...   Neutral  \n",
              "41156  @TartiiCat Well new/used Rift S are going for ...  Negative  \n",
              "\n",
              "[32567 rows x 6 columns]"
            ],
            "text/html": [
              "\n",
              "  <div id=\"df-f048fb0a-8077-4cfa-9243-4e20534c9a5c\">\n",
              "    <div class=\"colab-df-container\">\n",
              "      <div>\n",
              "<style scoped>\n",
              "    .dataframe tbody tr th:only-of-type {\n",
              "        vertical-align: middle;\n",
              "    }\n",
              "\n",
              "    .dataframe tbody tr th {\n",
              "        vertical-align: top;\n",
              "    }\n",
              "\n",
              "    .dataframe thead th {\n",
              "        text-align: right;\n",
              "    }\n",
              "</style>\n",
              "<table border=\"1\" class=\"dataframe\">\n",
              "  <thead>\n",
              "    <tr style=\"text-align: right;\">\n",
              "      <th></th>\n",
              "      <th>UserName</th>\n",
              "      <th>ScreenName</th>\n",
              "      <th>Location</th>\n",
              "      <th>TweetAt</th>\n",
              "      <th>OriginalTweet</th>\n",
              "      <th>Sentiment</th>\n",
              "    </tr>\n",
              "  </thead>\n",
              "  <tbody>\n",
              "    <tr>\n",
              "      <th>0</th>\n",
              "      <td>3799</td>\n",
              "      <td>48751</td>\n",
              "      <td>London</td>\n",
              "      <td>16-03-2020</td>\n",
              "      <td>@MeNyrbie @Phil_Gahan @Chrisitv https://t.co/i...</td>\n",
              "      <td>Neutral</td>\n",
              "    </tr>\n",
              "    <tr>\n",
              "      <th>1</th>\n",
              "      <td>3800</td>\n",
              "      <td>48752</td>\n",
              "      <td>UK</td>\n",
              "      <td>16-03-2020</td>\n",
              "      <td>advice Talk to your neighbours family to excha...</td>\n",
              "      <td>Positive</td>\n",
              "    </tr>\n",
              "    <tr>\n",
              "      <th>2</th>\n",
              "      <td>3801</td>\n",
              "      <td>48753</td>\n",
              "      <td>Vagabonds</td>\n",
              "      <td>16-03-2020</td>\n",
              "      <td>Coronavirus Australia: Woolworths to give elde...</td>\n",
              "      <td>Positive</td>\n",
              "    </tr>\n",
              "    <tr>\n",
              "      <th>5</th>\n",
              "      <td>3804</td>\n",
              "      <td>48756</td>\n",
              "      <td>T 3631970882363649</td>\n",
              "      <td>16-03-2020</td>\n",
              "      <td>As news of the regionÂs first confirmed COVID...</td>\n",
              "      <td>Positive</td>\n",
              "    </tr>\n",
              "    <tr>\n",
              "      <th>6</th>\n",
              "      <td>3805</td>\n",
              "      <td>48757</td>\n",
              "      <td>3592654178753267</td>\n",
              "      <td>16-03-2020</td>\n",
              "      <td>Cashier at grocery store was sharing his insig...</td>\n",
              "      <td>Positive</td>\n",
              "    </tr>\n",
              "    <tr>\n",
              "      <th>...</th>\n",
              "      <td>...</td>\n",
              "      <td>...</td>\n",
              "      <td>...</td>\n",
              "      <td>...</td>\n",
              "      <td>...</td>\n",
              "      <td>...</td>\n",
              "    </tr>\n",
              "    <tr>\n",
              "      <th>41147</th>\n",
              "      <td>44946</td>\n",
              "      <td>89898</td>\n",
              "      <td>Brooklyn NY</td>\n",
              "      <td>14-04-2020</td>\n",
              "      <td>YÂall really shitting that much more at home?...</td>\n",
              "      <td>Negative</td>\n",
              "    </tr>\n",
              "    <tr>\n",
              "      <th>41149</th>\n",
              "      <td>44948</td>\n",
              "      <td>89900</td>\n",
              "      <td>Toronto Ontario</td>\n",
              "      <td>14-04-2020</td>\n",
              "      <td>Still shocked by the number of #Toronto superm...</td>\n",
              "      <td>Negative</td>\n",
              "    </tr>\n",
              "    <tr>\n",
              "      <th>41150</th>\n",
              "      <td>44949</td>\n",
              "      <td>89901</td>\n",
              "      <td>OHIO</td>\n",
              "      <td>14-04-2020</td>\n",
              "      <td>I never that weÂd be in a situation &amp;amp; wor...</td>\n",
              "      <td>Positive</td>\n",
              "    </tr>\n",
              "    <tr>\n",
              "      <th>41152</th>\n",
              "      <td>44951</td>\n",
              "      <td>89903</td>\n",
              "      <td>Wellington City New Zealand</td>\n",
              "      <td>14-04-2020</td>\n",
              "      <td>Airline pilots offering to stock supermarket s...</td>\n",
              "      <td>Neutral</td>\n",
              "    </tr>\n",
              "    <tr>\n",
              "      <th>41156</th>\n",
              "      <td>44955</td>\n",
              "      <td>89907</td>\n",
              "      <td>i love you so much  hehim</td>\n",
              "      <td>14-04-2020</td>\n",
              "      <td>@TartiiCat Well new/used Rift S are going for ...</td>\n",
              "      <td>Negative</td>\n",
              "    </tr>\n",
              "  </tbody>\n",
              "</table>\n",
              "<p>32567 rows × 6 columns</p>\n",
              "</div>\n",
              "      <button class=\"colab-df-convert\" onclick=\"convertToInteractive('df-f048fb0a-8077-4cfa-9243-4e20534c9a5c')\"\n",
              "              title=\"Convert this dataframe to an interactive table.\"\n",
              "              style=\"display:none;\">\n",
              "        \n",
              "  <svg xmlns=\"http://www.w3.org/2000/svg\" height=\"24px\"viewBox=\"0 0 24 24\"\n",
              "       width=\"24px\">\n",
              "    <path d=\"M0 0h24v24H0V0z\" fill=\"none\"/>\n",
              "    <path d=\"M18.56 5.44l.94 2.06.94-2.06 2.06-.94-2.06-.94-.94-2.06-.94 2.06-2.06.94zm-11 1L8.5 8.5l.94-2.06 2.06-.94-2.06-.94L8.5 2.5l-.94 2.06-2.06.94zm10 10l.94 2.06.94-2.06 2.06-.94-2.06-.94-.94-2.06-.94 2.06-2.06.94z\"/><path d=\"M17.41 7.96l-1.37-1.37c-.4-.4-.92-.59-1.43-.59-.52 0-1.04.2-1.43.59L10.3 9.45l-7.72 7.72c-.78.78-.78 2.05 0 2.83L4 21.41c.39.39.9.59 1.41.59.51 0 1.02-.2 1.41-.59l7.78-7.78 2.81-2.81c.8-.78.8-2.07 0-2.86zM5.41 20L4 18.59l7.72-7.72 1.47 1.35L5.41 20z\"/>\n",
              "  </svg>\n",
              "      </button>\n",
              "      \n",
              "  <style>\n",
              "    .colab-df-container {\n",
              "      display:flex;\n",
              "      flex-wrap:wrap;\n",
              "      gap: 12px;\n",
              "    }\n",
              "\n",
              "    .colab-df-convert {\n",
              "      background-color: #E8F0FE;\n",
              "      border: none;\n",
              "      border-radius: 50%;\n",
              "      cursor: pointer;\n",
              "      display: none;\n",
              "      fill: #1967D2;\n",
              "      height: 32px;\n",
              "      padding: 0 0 0 0;\n",
              "      width: 32px;\n",
              "    }\n",
              "\n",
              "    .colab-df-convert:hover {\n",
              "      background-color: #E2EBFA;\n",
              "      box-shadow: 0px 1px 2px rgba(60, 64, 67, 0.3), 0px 1px 3px 1px rgba(60, 64, 67, 0.15);\n",
              "      fill: #174EA6;\n",
              "    }\n",
              "\n",
              "    [theme=dark] .colab-df-convert {\n",
              "      background-color: #3B4455;\n",
              "      fill: #D2E3FC;\n",
              "    }\n",
              "\n",
              "    [theme=dark] .colab-df-convert:hover {\n",
              "      background-color: #434B5C;\n",
              "      box-shadow: 0px 1px 3px 1px rgba(0, 0, 0, 0.15);\n",
              "      filter: drop-shadow(0px 1px 2px rgba(0, 0, 0, 0.3));\n",
              "      fill: #FFFFFF;\n",
              "    }\n",
              "  </style>\n",
              "\n",
              "      <script>\n",
              "        const buttonEl =\n",
              "          document.querySelector('#df-f048fb0a-8077-4cfa-9243-4e20534c9a5c button.colab-df-convert');\n",
              "        buttonEl.style.display =\n",
              "          google.colab.kernel.accessAllowed ? 'block' : 'none';\n",
              "\n",
              "        async function convertToInteractive(key) {\n",
              "          const element = document.querySelector('#df-f048fb0a-8077-4cfa-9243-4e20534c9a5c');\n",
              "          const dataTable =\n",
              "            await google.colab.kernel.invokeFunction('convertToInteractive',\n",
              "                                                     [key], {});\n",
              "          if (!dataTable) return;\n",
              "\n",
              "          const docLinkHtml = 'Like what you see? Visit the ' +\n",
              "            '<a target=\"_blank\" href=https://colab.research.google.com/notebooks/data_table.ipynb>data table notebook</a>'\n",
              "            + ' to learn more about interactive tables.';\n",
              "          element.innerHTML = '';\n",
              "          dataTable['output_type'] = 'display_data';\n",
              "          await google.colab.output.renderOutput(dataTable, element);\n",
              "          const docLink = document.createElement('div');\n",
              "          docLink.innerHTML = docLinkHtml;\n",
              "          element.appendChild(docLink);\n",
              "        }\n",
              "      </script>\n",
              "    </div>\n",
              "  </div>\n",
              "  "
            ]
          },
          "metadata": {},
          "execution_count": 105
        }
      ]
    },
    {
      "cell_type": "code",
      "source": [
        "def convert_lower(text):\n",
        "  return text.lower()"
      ],
      "metadata": {
        "id": "TYN2sZcEaewn"
      },
      "execution_count": 106,
      "outputs": []
    },
    {
      "cell_type": "code",
      "source": [
        "data['Tokenize_OriginalTweet'] = data['OriginalTweet'].apply(convert_lower)"
      ],
      "metadata": {
        "id": "ZSU5T0G3a0bH"
      },
      "execution_count": 107,
      "outputs": []
    },
    {
      "cell_type": "code",
      "source": [
        "data"
      ],
      "metadata": {
        "colab": {
          "base_uri": "https://localhost:8080/",
          "height": 423
        },
        "id": "ygTU2Lpwa779",
        "outputId": "894490b6-0f0b-4f08-be0a-718cbc97f905"
      },
      "execution_count": 108,
      "outputs": [
        {
          "output_type": "execute_result",
          "data": {
            "text/plain": [
              "      UserName  ScreenName                     Location     TweetAt  \\\n",
              "0         3799       48751                       London  16-03-2020   \n",
              "1         3800       48752                           UK  16-03-2020   \n",
              "2         3801       48753                    Vagabonds  16-03-2020   \n",
              "5         3804       48756           T 3631970882363649  16-03-2020   \n",
              "6         3805       48757             3592654178753267  16-03-2020   \n",
              "...        ...         ...                          ...         ...   \n",
              "41147    44946       89898                  Brooklyn NY  14-04-2020   \n",
              "41149    44948       89900              Toronto Ontario  14-04-2020   \n",
              "41150    44949       89901                         OHIO  14-04-2020   \n",
              "41152    44951       89903  Wellington City New Zealand  14-04-2020   \n",
              "41156    44955       89907    i love you so much  hehim  14-04-2020   \n",
              "\n",
              "                                           OriginalTweet Sentiment  \\\n",
              "0      @MeNyrbie @Phil_Gahan @Chrisitv https://t.co/i...   Neutral   \n",
              "1      advice Talk to your neighbours family to excha...  Positive   \n",
              "2      Coronavirus Australia: Woolworths to give elde...  Positive   \n",
              "5      As news of the regionÂs first confirmed COVID...  Positive   \n",
              "6      Cashier at grocery store was sharing his insig...  Positive   \n",
              "...                                                  ...       ...   \n",
              "41147  YÂall really shitting that much more at home?...  Negative   \n",
              "41149  Still shocked by the number of #Toronto superm...  Negative   \n",
              "41150  I never that weÂd be in a situation &amp; wor...  Positive   \n",
              "41152  Airline pilots offering to stock supermarket s...   Neutral   \n",
              "41156  @TartiiCat Well new/used Rift S are going for ...  Negative   \n",
              "\n",
              "                                  Tokenize_OriginalTweet  \n",
              "0      @menyrbie @phil_gahan @chrisitv https://t.co/i...  \n",
              "1      advice talk to your neighbours family to excha...  \n",
              "2      coronavirus australia: woolworths to give elde...  \n",
              "5      as news of the regionâs first confirmed covid...  \n",
              "6      cashier at grocery store was sharing his insig...  \n",
              "...                                                  ...  \n",
              "41147  yâall really shitting that much more at home?...  \n",
              "41149  still shocked by the number of #toronto superm...  \n",
              "41150  i never that weâd be in a situation &amp; wor...  \n",
              "41152  airline pilots offering to stock supermarket s...  \n",
              "41156  @tartiicat well new/used rift s are going for ...  \n",
              "\n",
              "[32567 rows x 7 columns]"
            ],
            "text/html": [
              "\n",
              "  <div id=\"df-37285870-25e9-40c1-a826-e551192ab904\">\n",
              "    <div class=\"colab-df-container\">\n",
              "      <div>\n",
              "<style scoped>\n",
              "    .dataframe tbody tr th:only-of-type {\n",
              "        vertical-align: middle;\n",
              "    }\n",
              "\n",
              "    .dataframe tbody tr th {\n",
              "        vertical-align: top;\n",
              "    }\n",
              "\n",
              "    .dataframe thead th {\n",
              "        text-align: right;\n",
              "    }\n",
              "</style>\n",
              "<table border=\"1\" class=\"dataframe\">\n",
              "  <thead>\n",
              "    <tr style=\"text-align: right;\">\n",
              "      <th></th>\n",
              "      <th>UserName</th>\n",
              "      <th>ScreenName</th>\n",
              "      <th>Location</th>\n",
              "      <th>TweetAt</th>\n",
              "      <th>OriginalTweet</th>\n",
              "      <th>Sentiment</th>\n",
              "      <th>Tokenize_OriginalTweet</th>\n",
              "    </tr>\n",
              "  </thead>\n",
              "  <tbody>\n",
              "    <tr>\n",
              "      <th>0</th>\n",
              "      <td>3799</td>\n",
              "      <td>48751</td>\n",
              "      <td>London</td>\n",
              "      <td>16-03-2020</td>\n",
              "      <td>@MeNyrbie @Phil_Gahan @Chrisitv https://t.co/i...</td>\n",
              "      <td>Neutral</td>\n",
              "      <td>@menyrbie @phil_gahan @chrisitv https://t.co/i...</td>\n",
              "    </tr>\n",
              "    <tr>\n",
              "      <th>1</th>\n",
              "      <td>3800</td>\n",
              "      <td>48752</td>\n",
              "      <td>UK</td>\n",
              "      <td>16-03-2020</td>\n",
              "      <td>advice Talk to your neighbours family to excha...</td>\n",
              "      <td>Positive</td>\n",
              "      <td>advice talk to your neighbours family to excha...</td>\n",
              "    </tr>\n",
              "    <tr>\n",
              "      <th>2</th>\n",
              "      <td>3801</td>\n",
              "      <td>48753</td>\n",
              "      <td>Vagabonds</td>\n",
              "      <td>16-03-2020</td>\n",
              "      <td>Coronavirus Australia: Woolworths to give elde...</td>\n",
              "      <td>Positive</td>\n",
              "      <td>coronavirus australia: woolworths to give elde...</td>\n",
              "    </tr>\n",
              "    <tr>\n",
              "      <th>5</th>\n",
              "      <td>3804</td>\n",
              "      <td>48756</td>\n",
              "      <td>T 3631970882363649</td>\n",
              "      <td>16-03-2020</td>\n",
              "      <td>As news of the regionÂs first confirmed COVID...</td>\n",
              "      <td>Positive</td>\n",
              "      <td>as news of the regionâs first confirmed covid...</td>\n",
              "    </tr>\n",
              "    <tr>\n",
              "      <th>6</th>\n",
              "      <td>3805</td>\n",
              "      <td>48757</td>\n",
              "      <td>3592654178753267</td>\n",
              "      <td>16-03-2020</td>\n",
              "      <td>Cashier at grocery store was sharing his insig...</td>\n",
              "      <td>Positive</td>\n",
              "      <td>cashier at grocery store was sharing his insig...</td>\n",
              "    </tr>\n",
              "    <tr>\n",
              "      <th>...</th>\n",
              "      <td>...</td>\n",
              "      <td>...</td>\n",
              "      <td>...</td>\n",
              "      <td>...</td>\n",
              "      <td>...</td>\n",
              "      <td>...</td>\n",
              "      <td>...</td>\n",
              "    </tr>\n",
              "    <tr>\n",
              "      <th>41147</th>\n",
              "      <td>44946</td>\n",
              "      <td>89898</td>\n",
              "      <td>Brooklyn NY</td>\n",
              "      <td>14-04-2020</td>\n",
              "      <td>YÂall really shitting that much more at home?...</td>\n",
              "      <td>Negative</td>\n",
              "      <td>yâall really shitting that much more at home?...</td>\n",
              "    </tr>\n",
              "    <tr>\n",
              "      <th>41149</th>\n",
              "      <td>44948</td>\n",
              "      <td>89900</td>\n",
              "      <td>Toronto Ontario</td>\n",
              "      <td>14-04-2020</td>\n",
              "      <td>Still shocked by the number of #Toronto superm...</td>\n",
              "      <td>Negative</td>\n",
              "      <td>still shocked by the number of #toronto superm...</td>\n",
              "    </tr>\n",
              "    <tr>\n",
              "      <th>41150</th>\n",
              "      <td>44949</td>\n",
              "      <td>89901</td>\n",
              "      <td>OHIO</td>\n",
              "      <td>14-04-2020</td>\n",
              "      <td>I never that weÂd be in a situation &amp;amp; wor...</td>\n",
              "      <td>Positive</td>\n",
              "      <td>i never that weâd be in a situation &amp;amp; wor...</td>\n",
              "    </tr>\n",
              "    <tr>\n",
              "      <th>41152</th>\n",
              "      <td>44951</td>\n",
              "      <td>89903</td>\n",
              "      <td>Wellington City New Zealand</td>\n",
              "      <td>14-04-2020</td>\n",
              "      <td>Airline pilots offering to stock supermarket s...</td>\n",
              "      <td>Neutral</td>\n",
              "      <td>airline pilots offering to stock supermarket s...</td>\n",
              "    </tr>\n",
              "    <tr>\n",
              "      <th>41156</th>\n",
              "      <td>44955</td>\n",
              "      <td>89907</td>\n",
              "      <td>i love you so much  hehim</td>\n",
              "      <td>14-04-2020</td>\n",
              "      <td>@TartiiCat Well new/used Rift S are going for ...</td>\n",
              "      <td>Negative</td>\n",
              "      <td>@tartiicat well new/used rift s are going for ...</td>\n",
              "    </tr>\n",
              "  </tbody>\n",
              "</table>\n",
              "<p>32567 rows × 7 columns</p>\n",
              "</div>\n",
              "      <button class=\"colab-df-convert\" onclick=\"convertToInteractive('df-37285870-25e9-40c1-a826-e551192ab904')\"\n",
              "              title=\"Convert this dataframe to an interactive table.\"\n",
              "              style=\"display:none;\">\n",
              "        \n",
              "  <svg xmlns=\"http://www.w3.org/2000/svg\" height=\"24px\"viewBox=\"0 0 24 24\"\n",
              "       width=\"24px\">\n",
              "    <path d=\"M0 0h24v24H0V0z\" fill=\"none\"/>\n",
              "    <path d=\"M18.56 5.44l.94 2.06.94-2.06 2.06-.94-2.06-.94-.94-2.06-.94 2.06-2.06.94zm-11 1L8.5 8.5l.94-2.06 2.06-.94-2.06-.94L8.5 2.5l-.94 2.06-2.06.94zm10 10l.94 2.06.94-2.06 2.06-.94-2.06-.94-.94-2.06-.94 2.06-2.06.94z\"/><path d=\"M17.41 7.96l-1.37-1.37c-.4-.4-.92-.59-1.43-.59-.52 0-1.04.2-1.43.59L10.3 9.45l-7.72 7.72c-.78.78-.78 2.05 0 2.83L4 21.41c.39.39.9.59 1.41.59.51 0 1.02-.2 1.41-.59l7.78-7.78 2.81-2.81c.8-.78.8-2.07 0-2.86zM5.41 20L4 18.59l7.72-7.72 1.47 1.35L5.41 20z\"/>\n",
              "  </svg>\n",
              "      </button>\n",
              "      \n",
              "  <style>\n",
              "    .colab-df-container {\n",
              "      display:flex;\n",
              "      flex-wrap:wrap;\n",
              "      gap: 12px;\n",
              "    }\n",
              "\n",
              "    .colab-df-convert {\n",
              "      background-color: #E8F0FE;\n",
              "      border: none;\n",
              "      border-radius: 50%;\n",
              "      cursor: pointer;\n",
              "      display: none;\n",
              "      fill: #1967D2;\n",
              "      height: 32px;\n",
              "      padding: 0 0 0 0;\n",
              "      width: 32px;\n",
              "    }\n",
              "\n",
              "    .colab-df-convert:hover {\n",
              "      background-color: #E2EBFA;\n",
              "      box-shadow: 0px 1px 2px rgba(60, 64, 67, 0.3), 0px 1px 3px 1px rgba(60, 64, 67, 0.15);\n",
              "      fill: #174EA6;\n",
              "    }\n",
              "\n",
              "    [theme=dark] .colab-df-convert {\n",
              "      background-color: #3B4455;\n",
              "      fill: #D2E3FC;\n",
              "    }\n",
              "\n",
              "    [theme=dark] .colab-df-convert:hover {\n",
              "      background-color: #434B5C;\n",
              "      box-shadow: 0px 1px 3px 1px rgba(0, 0, 0, 0.15);\n",
              "      filter: drop-shadow(0px 1px 2px rgba(0, 0, 0, 0.3));\n",
              "      fill: #FFFFFF;\n",
              "    }\n",
              "  </style>\n",
              "\n",
              "      <script>\n",
              "        const buttonEl =\n",
              "          document.querySelector('#df-37285870-25e9-40c1-a826-e551192ab904 button.colab-df-convert');\n",
              "        buttonEl.style.display =\n",
              "          google.colab.kernel.accessAllowed ? 'block' : 'none';\n",
              "\n",
              "        async function convertToInteractive(key) {\n",
              "          const element = document.querySelector('#df-37285870-25e9-40c1-a826-e551192ab904');\n",
              "          const dataTable =\n",
              "            await google.colab.kernel.invokeFunction('convertToInteractive',\n",
              "                                                     [key], {});\n",
              "          if (!dataTable) return;\n",
              "\n",
              "          const docLinkHtml = 'Like what you see? Visit the ' +\n",
              "            '<a target=\"_blank\" href=https://colab.research.google.com/notebooks/data_table.ipynb>data table notebook</a>'\n",
              "            + ' to learn more about interactive tables.';\n",
              "          element.innerHTML = '';\n",
              "          dataTable['output_type'] = 'display_data';\n",
              "          await google.colab.output.renderOutput(dataTable, element);\n",
              "          const docLink = document.createElement('div');\n",
              "          docLink.innerHTML = docLinkHtml;\n",
              "          element.appendChild(docLink);\n",
              "        }\n",
              "      </script>\n",
              "    </div>\n",
              "  </div>\n",
              "  "
            ]
          },
          "metadata": {},
          "execution_count": 108
        }
      ]
    },
    {
      "cell_type": "code",
      "source": [
        "import nltk\n",
        "nltk.download('stopwords')"
      ],
      "metadata": {
        "colab": {
          "base_uri": "https://localhost:8080/"
        },
        "id": "1ZSbX-4Ia9Hh",
        "outputId": "c29e64a5-36ca-4747-d6f3-af80f1e9e8e0"
      },
      "execution_count": 109,
      "outputs": [
        {
          "output_type": "stream",
          "name": "stderr",
          "text": [
            "[nltk_data] Downloading package stopwords to /root/nltk_data...\n",
            "[nltk_data]   Package stopwords is already up-to-date!\n"
          ]
        },
        {
          "output_type": "execute_result",
          "data": {
            "text/plain": [
              "True"
            ]
          },
          "metadata": {},
          "execution_count": 109
        }
      ]
    },
    {
      "cell_type": "code",
      "source": [
        "sw = stopwords.words('english')\n",
        "np.array(sw)"
      ],
      "metadata": {
        "colab": {
          "base_uri": "https://localhost:8080/"
        },
        "id": "R0q-Qgrbbj4P",
        "outputId": "749959b2-3256-4295-ed1c-918e479ab537"
      },
      "execution_count": 110,
      "outputs": [
        {
          "output_type": "execute_result",
          "data": {
            "text/plain": [
              "array(['i', 'me', 'my', 'myself', 'we', 'our', 'ours', 'ourselves', 'you',\n",
              "       \"you're\", \"you've\", \"you'll\", \"you'd\", 'your', 'yours', 'yourself',\n",
              "       'yourselves', 'he', 'him', 'his', 'himself', 'she', \"she's\", 'her',\n",
              "       'hers', 'herself', 'it', \"it's\", 'its', 'itself', 'they', 'them',\n",
              "       'their', 'theirs', 'themselves', 'what', 'which', 'who', 'whom',\n",
              "       'this', 'that', \"that'll\", 'these', 'those', 'am', 'is', 'are',\n",
              "       'was', 'were', 'be', 'been', 'being', 'have', 'has', 'had',\n",
              "       'having', 'do', 'does', 'did', 'doing', 'a', 'an', 'the', 'and',\n",
              "       'but', 'if', 'or', 'because', 'as', 'until', 'while', 'of', 'at',\n",
              "       'by', 'for', 'with', 'about', 'against', 'between', 'into',\n",
              "       'through', 'during', 'before', 'after', 'above', 'below', 'to',\n",
              "       'from', 'up', 'down', 'in', 'out', 'on', 'off', 'over', 'under',\n",
              "       'again', 'further', 'then', 'once', 'here', 'there', 'when',\n",
              "       'where', 'why', 'how', 'all', 'any', 'both', 'each', 'few', 'more',\n",
              "       'most', 'other', 'some', 'such', 'no', 'nor', 'not', 'only', 'own',\n",
              "       'same', 'so', 'than', 'too', 'very', 's', 't', 'can', 'will',\n",
              "       'just', 'don', \"don't\", 'should', \"should've\", 'now', 'd', 'll',\n",
              "       'm', 'o', 're', 've', 'y', 'ain', 'aren', \"aren't\", 'couldn',\n",
              "       \"couldn't\", 'didn', \"didn't\", 'doesn', \"doesn't\", 'hadn', \"hadn't\",\n",
              "       'hasn', \"hasn't\", 'haven', \"haven't\", 'isn', \"isn't\", 'ma',\n",
              "       'mightn', \"mightn't\", 'mustn', \"mustn't\", 'needn', \"needn't\",\n",
              "       'shan', \"shan't\", 'shouldn', \"shouldn't\", 'wasn', \"wasn't\",\n",
              "       'weren', \"weren't\", 'won', \"won't\", 'wouldn', \"wouldn't\"],\n",
              "      dtype='<U10')"
            ]
          },
          "metadata": {},
          "execution_count": 110
        }
      ]
    },
    {
      "cell_type": "code",
      "source": [
        "def remove_stopword(text):\n",
        "  words = [word for word in text.split() if word not in sw]\n",
        "  return ' '.join(words)"
      ],
      "metadata": {
        "id": "8-fdBDFObsI-"
      },
      "execution_count": 111,
      "outputs": []
    },
    {
      "cell_type": "code",
      "source": [
        "data['Tokenize_OriginalTweet'] = data['Tokenize_OriginalTweet'].apply(remove_stopword)"
      ],
      "metadata": {
        "id": "_45GeLH1dzDP"
      },
      "execution_count": 112,
      "outputs": []
    },
    {
      "cell_type": "code",
      "source": [
        "data"
      ],
      "metadata": {
        "colab": {
          "base_uri": "https://localhost:8080/",
          "height": 423
        },
        "id": "lmyO6PEWeAEE",
        "outputId": "016ac145-7978-4c0d-d5a3-4454c5741510"
      },
      "execution_count": 113,
      "outputs": [
        {
          "output_type": "execute_result",
          "data": {
            "text/plain": [
              "      UserName  ScreenName                     Location     TweetAt  \\\n",
              "0         3799       48751                       London  16-03-2020   \n",
              "1         3800       48752                           UK  16-03-2020   \n",
              "2         3801       48753                    Vagabonds  16-03-2020   \n",
              "5         3804       48756           T 3631970882363649  16-03-2020   \n",
              "6         3805       48757             3592654178753267  16-03-2020   \n",
              "...        ...         ...                          ...         ...   \n",
              "41147    44946       89898                  Brooklyn NY  14-04-2020   \n",
              "41149    44948       89900              Toronto Ontario  14-04-2020   \n",
              "41150    44949       89901                         OHIO  14-04-2020   \n",
              "41152    44951       89903  Wellington City New Zealand  14-04-2020   \n",
              "41156    44955       89907    i love you so much  hehim  14-04-2020   \n",
              "\n",
              "                                           OriginalTweet Sentiment  \\\n",
              "0      @MeNyrbie @Phil_Gahan @Chrisitv https://t.co/i...   Neutral   \n",
              "1      advice Talk to your neighbours family to excha...  Positive   \n",
              "2      Coronavirus Australia: Woolworths to give elde...  Positive   \n",
              "5      As news of the regionÂs first confirmed COVID...  Positive   \n",
              "6      Cashier at grocery store was sharing his insig...  Positive   \n",
              "...                                                  ...       ...   \n",
              "41147  YÂall really shitting that much more at home?...  Negative   \n",
              "41149  Still shocked by the number of #Toronto superm...  Negative   \n",
              "41150  I never that weÂd be in a situation &amp; wor...  Positive   \n",
              "41152  Airline pilots offering to stock supermarket s...   Neutral   \n",
              "41156  @TartiiCat Well new/used Rift S are going for ...  Negative   \n",
              "\n",
              "                                  Tokenize_OriginalTweet  \n",
              "0      @menyrbie @phil_gahan @chrisitv https://t.co/i...  \n",
              "1      advice talk neighbours family exchange phone n...  \n",
              "2      coronavirus australia: woolworths give elderly...  \n",
              "5      news regionâs first confirmed covid-19 case c...  \n",
              "6      cashier grocery store sharing insights #covid_...  \n",
              "...                                                  ...  \n",
              "41147  yâall really shitting much home?? #covid19 #c...  \n",
              "41149  still shocked number #toronto supermarket empl...  \n",
              "41150  never weâd situation &amp; world going superm...  \n",
              "41152  airline pilots offering stock supermarket shel...  \n",
              "41156  @tartiicat well new/used rift going $700.00 am...  \n",
              "\n",
              "[32567 rows x 7 columns]"
            ],
            "text/html": [
              "\n",
              "  <div id=\"df-99ad67d9-e50d-457d-951b-e57f12ede4a8\">\n",
              "    <div class=\"colab-df-container\">\n",
              "      <div>\n",
              "<style scoped>\n",
              "    .dataframe tbody tr th:only-of-type {\n",
              "        vertical-align: middle;\n",
              "    }\n",
              "\n",
              "    .dataframe tbody tr th {\n",
              "        vertical-align: top;\n",
              "    }\n",
              "\n",
              "    .dataframe thead th {\n",
              "        text-align: right;\n",
              "    }\n",
              "</style>\n",
              "<table border=\"1\" class=\"dataframe\">\n",
              "  <thead>\n",
              "    <tr style=\"text-align: right;\">\n",
              "      <th></th>\n",
              "      <th>UserName</th>\n",
              "      <th>ScreenName</th>\n",
              "      <th>Location</th>\n",
              "      <th>TweetAt</th>\n",
              "      <th>OriginalTweet</th>\n",
              "      <th>Sentiment</th>\n",
              "      <th>Tokenize_OriginalTweet</th>\n",
              "    </tr>\n",
              "  </thead>\n",
              "  <tbody>\n",
              "    <tr>\n",
              "      <th>0</th>\n",
              "      <td>3799</td>\n",
              "      <td>48751</td>\n",
              "      <td>London</td>\n",
              "      <td>16-03-2020</td>\n",
              "      <td>@MeNyrbie @Phil_Gahan @Chrisitv https://t.co/i...</td>\n",
              "      <td>Neutral</td>\n",
              "      <td>@menyrbie @phil_gahan @chrisitv https://t.co/i...</td>\n",
              "    </tr>\n",
              "    <tr>\n",
              "      <th>1</th>\n",
              "      <td>3800</td>\n",
              "      <td>48752</td>\n",
              "      <td>UK</td>\n",
              "      <td>16-03-2020</td>\n",
              "      <td>advice Talk to your neighbours family to excha...</td>\n",
              "      <td>Positive</td>\n",
              "      <td>advice talk neighbours family exchange phone n...</td>\n",
              "    </tr>\n",
              "    <tr>\n",
              "      <th>2</th>\n",
              "      <td>3801</td>\n",
              "      <td>48753</td>\n",
              "      <td>Vagabonds</td>\n",
              "      <td>16-03-2020</td>\n",
              "      <td>Coronavirus Australia: Woolworths to give elde...</td>\n",
              "      <td>Positive</td>\n",
              "      <td>coronavirus australia: woolworths give elderly...</td>\n",
              "    </tr>\n",
              "    <tr>\n",
              "      <th>5</th>\n",
              "      <td>3804</td>\n",
              "      <td>48756</td>\n",
              "      <td>T 3631970882363649</td>\n",
              "      <td>16-03-2020</td>\n",
              "      <td>As news of the regionÂs first confirmed COVID...</td>\n",
              "      <td>Positive</td>\n",
              "      <td>news regionâs first confirmed covid-19 case c...</td>\n",
              "    </tr>\n",
              "    <tr>\n",
              "      <th>6</th>\n",
              "      <td>3805</td>\n",
              "      <td>48757</td>\n",
              "      <td>3592654178753267</td>\n",
              "      <td>16-03-2020</td>\n",
              "      <td>Cashier at grocery store was sharing his insig...</td>\n",
              "      <td>Positive</td>\n",
              "      <td>cashier grocery store sharing insights #covid_...</td>\n",
              "    </tr>\n",
              "    <tr>\n",
              "      <th>...</th>\n",
              "      <td>...</td>\n",
              "      <td>...</td>\n",
              "      <td>...</td>\n",
              "      <td>...</td>\n",
              "      <td>...</td>\n",
              "      <td>...</td>\n",
              "      <td>...</td>\n",
              "    </tr>\n",
              "    <tr>\n",
              "      <th>41147</th>\n",
              "      <td>44946</td>\n",
              "      <td>89898</td>\n",
              "      <td>Brooklyn NY</td>\n",
              "      <td>14-04-2020</td>\n",
              "      <td>YÂall really shitting that much more at home?...</td>\n",
              "      <td>Negative</td>\n",
              "      <td>yâall really shitting much home?? #covid19 #c...</td>\n",
              "    </tr>\n",
              "    <tr>\n",
              "      <th>41149</th>\n",
              "      <td>44948</td>\n",
              "      <td>89900</td>\n",
              "      <td>Toronto Ontario</td>\n",
              "      <td>14-04-2020</td>\n",
              "      <td>Still shocked by the number of #Toronto superm...</td>\n",
              "      <td>Negative</td>\n",
              "      <td>still shocked number #toronto supermarket empl...</td>\n",
              "    </tr>\n",
              "    <tr>\n",
              "      <th>41150</th>\n",
              "      <td>44949</td>\n",
              "      <td>89901</td>\n",
              "      <td>OHIO</td>\n",
              "      <td>14-04-2020</td>\n",
              "      <td>I never that weÂd be in a situation &amp;amp; wor...</td>\n",
              "      <td>Positive</td>\n",
              "      <td>never weâd situation &amp;amp; world going superm...</td>\n",
              "    </tr>\n",
              "    <tr>\n",
              "      <th>41152</th>\n",
              "      <td>44951</td>\n",
              "      <td>89903</td>\n",
              "      <td>Wellington City New Zealand</td>\n",
              "      <td>14-04-2020</td>\n",
              "      <td>Airline pilots offering to stock supermarket s...</td>\n",
              "      <td>Neutral</td>\n",
              "      <td>airline pilots offering stock supermarket shel...</td>\n",
              "    </tr>\n",
              "    <tr>\n",
              "      <th>41156</th>\n",
              "      <td>44955</td>\n",
              "      <td>89907</td>\n",
              "      <td>i love you so much  hehim</td>\n",
              "      <td>14-04-2020</td>\n",
              "      <td>@TartiiCat Well new/used Rift S are going for ...</td>\n",
              "      <td>Negative</td>\n",
              "      <td>@tartiicat well new/used rift going $700.00 am...</td>\n",
              "    </tr>\n",
              "  </tbody>\n",
              "</table>\n",
              "<p>32567 rows × 7 columns</p>\n",
              "</div>\n",
              "      <button class=\"colab-df-convert\" onclick=\"convertToInteractive('df-99ad67d9-e50d-457d-951b-e57f12ede4a8')\"\n",
              "              title=\"Convert this dataframe to an interactive table.\"\n",
              "              style=\"display:none;\">\n",
              "        \n",
              "  <svg xmlns=\"http://www.w3.org/2000/svg\" height=\"24px\"viewBox=\"0 0 24 24\"\n",
              "       width=\"24px\">\n",
              "    <path d=\"M0 0h24v24H0V0z\" fill=\"none\"/>\n",
              "    <path d=\"M18.56 5.44l.94 2.06.94-2.06 2.06-.94-2.06-.94-.94-2.06-.94 2.06-2.06.94zm-11 1L8.5 8.5l.94-2.06 2.06-.94-2.06-.94L8.5 2.5l-.94 2.06-2.06.94zm10 10l.94 2.06.94-2.06 2.06-.94-2.06-.94-.94-2.06-.94 2.06-2.06.94z\"/><path d=\"M17.41 7.96l-1.37-1.37c-.4-.4-.92-.59-1.43-.59-.52 0-1.04.2-1.43.59L10.3 9.45l-7.72 7.72c-.78.78-.78 2.05 0 2.83L4 21.41c.39.39.9.59 1.41.59.51 0 1.02-.2 1.41-.59l7.78-7.78 2.81-2.81c.8-.78.8-2.07 0-2.86zM5.41 20L4 18.59l7.72-7.72 1.47 1.35L5.41 20z\"/>\n",
              "  </svg>\n",
              "      </button>\n",
              "      \n",
              "  <style>\n",
              "    .colab-df-container {\n",
              "      display:flex;\n",
              "      flex-wrap:wrap;\n",
              "      gap: 12px;\n",
              "    }\n",
              "\n",
              "    .colab-df-convert {\n",
              "      background-color: #E8F0FE;\n",
              "      border: none;\n",
              "      border-radius: 50%;\n",
              "      cursor: pointer;\n",
              "      display: none;\n",
              "      fill: #1967D2;\n",
              "      height: 32px;\n",
              "      padding: 0 0 0 0;\n",
              "      width: 32px;\n",
              "    }\n",
              "\n",
              "    .colab-df-convert:hover {\n",
              "      background-color: #E2EBFA;\n",
              "      box-shadow: 0px 1px 2px rgba(60, 64, 67, 0.3), 0px 1px 3px 1px rgba(60, 64, 67, 0.15);\n",
              "      fill: #174EA6;\n",
              "    }\n",
              "\n",
              "    [theme=dark] .colab-df-convert {\n",
              "      background-color: #3B4455;\n",
              "      fill: #D2E3FC;\n",
              "    }\n",
              "\n",
              "    [theme=dark] .colab-df-convert:hover {\n",
              "      background-color: #434B5C;\n",
              "      box-shadow: 0px 1px 3px 1px rgba(0, 0, 0, 0.15);\n",
              "      filter: drop-shadow(0px 1px 2px rgba(0, 0, 0, 0.3));\n",
              "      fill: #FFFFFF;\n",
              "    }\n",
              "  </style>\n",
              "\n",
              "      <script>\n",
              "        const buttonEl =\n",
              "          document.querySelector('#df-99ad67d9-e50d-457d-951b-e57f12ede4a8 button.colab-df-convert');\n",
              "        buttonEl.style.display =\n",
              "          google.colab.kernel.accessAllowed ? 'block' : 'none';\n",
              "\n",
              "        async function convertToInteractive(key) {\n",
              "          const element = document.querySelector('#df-99ad67d9-e50d-457d-951b-e57f12ede4a8');\n",
              "          const dataTable =\n",
              "            await google.colab.kernel.invokeFunction('convertToInteractive',\n",
              "                                                     [key], {});\n",
              "          if (!dataTable) return;\n",
              "\n",
              "          const docLinkHtml = 'Like what you see? Visit the ' +\n",
              "            '<a target=\"_blank\" href=https://colab.research.google.com/notebooks/data_table.ipynb>data table notebook</a>'\n",
              "            + ' to learn more about interactive tables.';\n",
              "          element.innerHTML = '';\n",
              "          dataTable['output_type'] = 'display_data';\n",
              "          await google.colab.output.renderOutput(dataTable, element);\n",
              "          const docLink = document.createElement('div');\n",
              "          docLink.innerHTML = docLinkHtml;\n",
              "          element.appendChild(docLink);\n",
              "        }\n",
              "      </script>\n",
              "    </div>\n",
              "  </div>\n",
              "  "
            ]
          },
          "metadata": {},
          "execution_count": 113
        }
      ]
    },
    {
      "cell_type": "code",
      "source": [
        "#https://www.machinelearningplus.com/nlp/natural-language-processing-guide/\n",
        "a = data['OriginalTweet'][5]"
      ],
      "metadata": {
        "id": "Eb41gCOSeDNQ"
      },
      "execution_count": 114,
      "outputs": []
    },
    {
      "cell_type": "code",
      "source": [
        "import nltk\n",
        "nltk.download('wordnet')"
      ],
      "metadata": {
        "colab": {
          "base_uri": "https://localhost:8080/"
        },
        "id": "h_crJ_Pud1qj",
        "outputId": "f9569a4f-7290-47d5-bb1c-96e5b31f2ac2"
      },
      "execution_count": 115,
      "outputs": [
        {
          "output_type": "stream",
          "name": "stderr",
          "text": [
            "[nltk_data] Downloading package wordnet to /root/nltk_data...\n",
            "[nltk_data]   Package wordnet is already up-to-date!\n"
          ]
        },
        {
          "output_type": "execute_result",
          "data": {
            "text/plain": [
              "True"
            ]
          },
          "metadata": {},
          "execution_count": 115
        }
      ]
    },
    {
      "cell_type": "code",
      "source": [
        "import nltk\n",
        "nltk.download('omw-1.4')"
      ],
      "metadata": {
        "colab": {
          "base_uri": "https://localhost:8080/"
        },
        "id": "yoVhtNfLeIif",
        "outputId": "f47eaa48-85f7-42d1-df96-df0848d53078"
      },
      "execution_count": 116,
      "outputs": [
        {
          "output_type": "stream",
          "name": "stderr",
          "text": [
            "[nltk_data] Downloading package omw-1.4 to /root/nltk_data...\n",
            "[nltk_data]   Package omw-1.4 is already up-to-date!\n"
          ]
        },
        {
          "output_type": "execute_result",
          "data": {
            "text/plain": [
              "True"
            ]
          },
          "metadata": {},
          "execution_count": 116
        }
      ]
    },
    {
      "cell_type": "code",
      "source": [
        "from nltk.stem.snowball import SnowballStemmer"
      ],
      "metadata": {
        "id": "kWbE4GVxf8xU"
      },
      "execution_count": 117,
      "outputs": []
    },
    {
      "cell_type": "code",
      "source": [
        "# create an object of stemming function\n",
        "stemmer = SnowballStemmer(\"english\")\n",
        "\n",
        "def stemming(text):    \n",
        "    '''a function which stems each word in the given text'''\n",
        "    text = [stemmer.stem(word) for word in text.split()]\n",
        "    return \" \".join(text)"
      ],
      "metadata": {
        "id": "ARruDTkGfacN"
      },
      "execution_count": 118,
      "outputs": []
    },
    {
      "cell_type": "code",
      "source": [
        "from nltk.stem import WordNetLemmatizer, SnowballStemmer\n",
        "lemmatizer = WordNetLemmatizer()\n",
        "def text_preprocessing(text):\n",
        "  text = remove_special(text)\n",
        "  text = re.sub(r'(\\s)https\\w+', r'\\1', text)\n",
        "\n",
        "  text = [lemmatizer.lemmatize(word) for word in text.split()]\n",
        "  return \" \".join(text)"
      ],
      "metadata": {
        "id": "Z2ymn66Mcghg"
      },
      "execution_count": 119,
      "outputs": []
    },
    {
      "cell_type": "code",
      "source": [
        "text_preprocessing(a)"
      ],
      "metadata": {
        "colab": {
          "base_uri": "https://localhost:8080/",
          "height": 55
        },
        "id": "WhwQ7YO7xjX6",
        "outputId": "8255dff2-3486-4362-cdd8-0d6ba3a5eadf"
      },
      "execution_count": 120,
      "outputs": [
        {
          "output_type": "execute_result",
          "data": {
            "text/plain": [
              "'As news of the region first confirmed COVID19 case came out of Sullivan County last week people flocked to area store to purchase cleaning supply hand sanitizer food toilet paper and other good TimDodson report'"
            ],
            "application/vnd.google.colaboratory.intrinsic+json": {
              "type": "string"
            }
          },
          "metadata": {},
          "execution_count": 120
        }
      ]
    },
    {
      "cell_type": "code",
      "source": [
        "a"
      ],
      "metadata": {
        "colab": {
          "base_uri": "https://localhost:8080/",
          "height": 55
        },
        "id": "O9DqpBeRFiq4",
        "outputId": "5dbe821a-ca34-400a-be86-d39f50fada60"
      },
      "execution_count": 121,
      "outputs": [
        {
          "output_type": "execute_result",
          "data": {
            "text/plain": [
              "'As news of the regionÂ\\x92s first confirmed COVID-19 case came out of Sullivan County last week, people flocked to area stores to purchase cleaning supplies, hand sanitizer, food, toilet paper and other goods, @Tim_Dodson reports https://t.co/cfXch7a2lU'"
            ],
            "application/vnd.google.colaboratory.intrinsic+json": {
              "type": "string"
            }
          },
          "metadata": {},
          "execution_count": 121
        }
      ]
    },
    {
      "cell_type": "code",
      "source": [
        "data['Tokenize_OriginalTweet'] = data['Tokenize_OriginalTweet'].apply(text_preprocessing)"
      ],
      "metadata": {
        "id": "ZBWzJmpPx5Vm"
      },
      "execution_count": 122,
      "outputs": []
    },
    {
      "cell_type": "code",
      "source": [
        "data"
      ],
      "metadata": {
        "colab": {
          "base_uri": "https://localhost:8080/",
          "height": 423
        },
        "id": "IXax7yUEx_qB",
        "outputId": "072e2d51-43d7-402c-ebbc-a595f0b4e1a4"
      },
      "execution_count": 123,
      "outputs": [
        {
          "output_type": "execute_result",
          "data": {
            "text/plain": [
              "      UserName  ScreenName                     Location     TweetAt  \\\n",
              "0         3799       48751                       London  16-03-2020   \n",
              "1         3800       48752                           UK  16-03-2020   \n",
              "2         3801       48753                    Vagabonds  16-03-2020   \n",
              "5         3804       48756           T 3631970882363649  16-03-2020   \n",
              "6         3805       48757             3592654178753267  16-03-2020   \n",
              "...        ...         ...                          ...         ...   \n",
              "41147    44946       89898                  Brooklyn NY  14-04-2020   \n",
              "41149    44948       89900              Toronto Ontario  14-04-2020   \n",
              "41150    44949       89901                         OHIO  14-04-2020   \n",
              "41152    44951       89903  Wellington City New Zealand  14-04-2020   \n",
              "41156    44955       89907    i love you so much  hehim  14-04-2020   \n",
              "\n",
              "                                           OriginalTweet Sentiment  \\\n",
              "0      @MeNyrbie @Phil_Gahan @Chrisitv https://t.co/i...   Neutral   \n",
              "1      advice Talk to your neighbours family to excha...  Positive   \n",
              "2      Coronavirus Australia: Woolworths to give elde...  Positive   \n",
              "5      As news of the regionÂs first confirmed COVID...  Positive   \n",
              "6      Cashier at grocery store was sharing his insig...  Positive   \n",
              "...                                                  ...       ...   \n",
              "41147  YÂall really shitting that much more at home?...  Negative   \n",
              "41149  Still shocked by the number of #Toronto superm...  Negative   \n",
              "41150  I never that weÂd be in a situation &amp; wor...  Positive   \n",
              "41152  Airline pilots offering to stock supermarket s...   Neutral   \n",
              "41156  @TartiiCat Well new/used Rift S are going for ...  Negative   \n",
              "\n",
              "                                  Tokenize_OriginalTweet  \n",
              "0                            menyrbie philgahan chrisitv  \n",
              "1      advice talk neighbour family exchange phone nu...  \n",
              "2      coronavirus australia woolworth give elderly d...  \n",
              "5      news region first confirmed covid19 case came ...  \n",
              "6      cashier grocery store sharing insight covid19 ...  \n",
              "...                                                  ...  \n",
              "41147  yall really shitting much home covid19 coronav...  \n",
              "41149  still shocked number toronto supermarket emplo...  \n",
              "41150  never wed situation amp world going supermarke...  \n",
              "41152  airline pilot offering stock supermarket shelf...  \n",
              "41156  tartiicat well newused rift going 70000 amazon...  \n",
              "\n",
              "[32567 rows x 7 columns]"
            ],
            "text/html": [
              "\n",
              "  <div id=\"df-d1bbdc76-cfcb-4bb4-a860-3eaaf69fc222\">\n",
              "    <div class=\"colab-df-container\">\n",
              "      <div>\n",
              "<style scoped>\n",
              "    .dataframe tbody tr th:only-of-type {\n",
              "        vertical-align: middle;\n",
              "    }\n",
              "\n",
              "    .dataframe tbody tr th {\n",
              "        vertical-align: top;\n",
              "    }\n",
              "\n",
              "    .dataframe thead th {\n",
              "        text-align: right;\n",
              "    }\n",
              "</style>\n",
              "<table border=\"1\" class=\"dataframe\">\n",
              "  <thead>\n",
              "    <tr style=\"text-align: right;\">\n",
              "      <th></th>\n",
              "      <th>UserName</th>\n",
              "      <th>ScreenName</th>\n",
              "      <th>Location</th>\n",
              "      <th>TweetAt</th>\n",
              "      <th>OriginalTweet</th>\n",
              "      <th>Sentiment</th>\n",
              "      <th>Tokenize_OriginalTweet</th>\n",
              "    </tr>\n",
              "  </thead>\n",
              "  <tbody>\n",
              "    <tr>\n",
              "      <th>0</th>\n",
              "      <td>3799</td>\n",
              "      <td>48751</td>\n",
              "      <td>London</td>\n",
              "      <td>16-03-2020</td>\n",
              "      <td>@MeNyrbie @Phil_Gahan @Chrisitv https://t.co/i...</td>\n",
              "      <td>Neutral</td>\n",
              "      <td>menyrbie philgahan chrisitv</td>\n",
              "    </tr>\n",
              "    <tr>\n",
              "      <th>1</th>\n",
              "      <td>3800</td>\n",
              "      <td>48752</td>\n",
              "      <td>UK</td>\n",
              "      <td>16-03-2020</td>\n",
              "      <td>advice Talk to your neighbours family to excha...</td>\n",
              "      <td>Positive</td>\n",
              "      <td>advice talk neighbour family exchange phone nu...</td>\n",
              "    </tr>\n",
              "    <tr>\n",
              "      <th>2</th>\n",
              "      <td>3801</td>\n",
              "      <td>48753</td>\n",
              "      <td>Vagabonds</td>\n",
              "      <td>16-03-2020</td>\n",
              "      <td>Coronavirus Australia: Woolworths to give elde...</td>\n",
              "      <td>Positive</td>\n",
              "      <td>coronavirus australia woolworth give elderly d...</td>\n",
              "    </tr>\n",
              "    <tr>\n",
              "      <th>5</th>\n",
              "      <td>3804</td>\n",
              "      <td>48756</td>\n",
              "      <td>T 3631970882363649</td>\n",
              "      <td>16-03-2020</td>\n",
              "      <td>As news of the regionÂs first confirmed COVID...</td>\n",
              "      <td>Positive</td>\n",
              "      <td>news region first confirmed covid19 case came ...</td>\n",
              "    </tr>\n",
              "    <tr>\n",
              "      <th>6</th>\n",
              "      <td>3805</td>\n",
              "      <td>48757</td>\n",
              "      <td>3592654178753267</td>\n",
              "      <td>16-03-2020</td>\n",
              "      <td>Cashier at grocery store was sharing his insig...</td>\n",
              "      <td>Positive</td>\n",
              "      <td>cashier grocery store sharing insight covid19 ...</td>\n",
              "    </tr>\n",
              "    <tr>\n",
              "      <th>...</th>\n",
              "      <td>...</td>\n",
              "      <td>...</td>\n",
              "      <td>...</td>\n",
              "      <td>...</td>\n",
              "      <td>...</td>\n",
              "      <td>...</td>\n",
              "      <td>...</td>\n",
              "    </tr>\n",
              "    <tr>\n",
              "      <th>41147</th>\n",
              "      <td>44946</td>\n",
              "      <td>89898</td>\n",
              "      <td>Brooklyn NY</td>\n",
              "      <td>14-04-2020</td>\n",
              "      <td>YÂall really shitting that much more at home?...</td>\n",
              "      <td>Negative</td>\n",
              "      <td>yall really shitting much home covid19 coronav...</td>\n",
              "    </tr>\n",
              "    <tr>\n",
              "      <th>41149</th>\n",
              "      <td>44948</td>\n",
              "      <td>89900</td>\n",
              "      <td>Toronto Ontario</td>\n",
              "      <td>14-04-2020</td>\n",
              "      <td>Still shocked by the number of #Toronto superm...</td>\n",
              "      <td>Negative</td>\n",
              "      <td>still shocked number toronto supermarket emplo...</td>\n",
              "    </tr>\n",
              "    <tr>\n",
              "      <th>41150</th>\n",
              "      <td>44949</td>\n",
              "      <td>89901</td>\n",
              "      <td>OHIO</td>\n",
              "      <td>14-04-2020</td>\n",
              "      <td>I never that weÂd be in a situation &amp;amp; wor...</td>\n",
              "      <td>Positive</td>\n",
              "      <td>never wed situation amp world going supermarke...</td>\n",
              "    </tr>\n",
              "    <tr>\n",
              "      <th>41152</th>\n",
              "      <td>44951</td>\n",
              "      <td>89903</td>\n",
              "      <td>Wellington City New Zealand</td>\n",
              "      <td>14-04-2020</td>\n",
              "      <td>Airline pilots offering to stock supermarket s...</td>\n",
              "      <td>Neutral</td>\n",
              "      <td>airline pilot offering stock supermarket shelf...</td>\n",
              "    </tr>\n",
              "    <tr>\n",
              "      <th>41156</th>\n",
              "      <td>44955</td>\n",
              "      <td>89907</td>\n",
              "      <td>i love you so much  hehim</td>\n",
              "      <td>14-04-2020</td>\n",
              "      <td>@TartiiCat Well new/used Rift S are going for ...</td>\n",
              "      <td>Negative</td>\n",
              "      <td>tartiicat well newused rift going 70000 amazon...</td>\n",
              "    </tr>\n",
              "  </tbody>\n",
              "</table>\n",
              "<p>32567 rows × 7 columns</p>\n",
              "</div>\n",
              "      <button class=\"colab-df-convert\" onclick=\"convertToInteractive('df-d1bbdc76-cfcb-4bb4-a860-3eaaf69fc222')\"\n",
              "              title=\"Convert this dataframe to an interactive table.\"\n",
              "              style=\"display:none;\">\n",
              "        \n",
              "  <svg xmlns=\"http://www.w3.org/2000/svg\" height=\"24px\"viewBox=\"0 0 24 24\"\n",
              "       width=\"24px\">\n",
              "    <path d=\"M0 0h24v24H0V0z\" fill=\"none\"/>\n",
              "    <path d=\"M18.56 5.44l.94 2.06.94-2.06 2.06-.94-2.06-.94-.94-2.06-.94 2.06-2.06.94zm-11 1L8.5 8.5l.94-2.06 2.06-.94-2.06-.94L8.5 2.5l-.94 2.06-2.06.94zm10 10l.94 2.06.94-2.06 2.06-.94-2.06-.94-.94-2.06-.94 2.06-2.06.94z\"/><path d=\"M17.41 7.96l-1.37-1.37c-.4-.4-.92-.59-1.43-.59-.52 0-1.04.2-1.43.59L10.3 9.45l-7.72 7.72c-.78.78-.78 2.05 0 2.83L4 21.41c.39.39.9.59 1.41.59.51 0 1.02-.2 1.41-.59l7.78-7.78 2.81-2.81c.8-.78.8-2.07 0-2.86zM5.41 20L4 18.59l7.72-7.72 1.47 1.35L5.41 20z\"/>\n",
              "  </svg>\n",
              "      </button>\n",
              "      \n",
              "  <style>\n",
              "    .colab-df-container {\n",
              "      display:flex;\n",
              "      flex-wrap:wrap;\n",
              "      gap: 12px;\n",
              "    }\n",
              "\n",
              "    .colab-df-convert {\n",
              "      background-color: #E8F0FE;\n",
              "      border: none;\n",
              "      border-radius: 50%;\n",
              "      cursor: pointer;\n",
              "      display: none;\n",
              "      fill: #1967D2;\n",
              "      height: 32px;\n",
              "      padding: 0 0 0 0;\n",
              "      width: 32px;\n",
              "    }\n",
              "\n",
              "    .colab-df-convert:hover {\n",
              "      background-color: #E2EBFA;\n",
              "      box-shadow: 0px 1px 2px rgba(60, 64, 67, 0.3), 0px 1px 3px 1px rgba(60, 64, 67, 0.15);\n",
              "      fill: #174EA6;\n",
              "    }\n",
              "\n",
              "    [theme=dark] .colab-df-convert {\n",
              "      background-color: #3B4455;\n",
              "      fill: #D2E3FC;\n",
              "    }\n",
              "\n",
              "    [theme=dark] .colab-df-convert:hover {\n",
              "      background-color: #434B5C;\n",
              "      box-shadow: 0px 1px 3px 1px rgba(0, 0, 0, 0.15);\n",
              "      filter: drop-shadow(0px 1px 2px rgba(0, 0, 0, 0.3));\n",
              "      fill: #FFFFFF;\n",
              "    }\n",
              "  </style>\n",
              "\n",
              "      <script>\n",
              "        const buttonEl =\n",
              "          document.querySelector('#df-d1bbdc76-cfcb-4bb4-a860-3eaaf69fc222 button.colab-df-convert');\n",
              "        buttonEl.style.display =\n",
              "          google.colab.kernel.accessAllowed ? 'block' : 'none';\n",
              "\n",
              "        async function convertToInteractive(key) {\n",
              "          const element = document.querySelector('#df-d1bbdc76-cfcb-4bb4-a860-3eaaf69fc222');\n",
              "          const dataTable =\n",
              "            await google.colab.kernel.invokeFunction('convertToInteractive',\n",
              "                                                     [key], {});\n",
              "          if (!dataTable) return;\n",
              "\n",
              "          const docLinkHtml = 'Like what you see? Visit the ' +\n",
              "            '<a target=\"_blank\" href=https://colab.research.google.com/notebooks/data_table.ipynb>data table notebook</a>'\n",
              "            + ' to learn more about interactive tables.';\n",
              "          element.innerHTML = '';\n",
              "          dataTable['output_type'] = 'display_data';\n",
              "          await google.colab.output.renderOutput(dataTable, element);\n",
              "          const docLink = document.createElement('div');\n",
              "          docLink.innerHTML = docLinkHtml;\n",
              "          element.appendChild(docLink);\n",
              "        }\n",
              "      </script>\n",
              "    </div>\n",
              "  </div>\n",
              "  "
            ]
          },
          "metadata": {},
          "execution_count": 123
        }
      ]
    },
    {
      "cell_type": "code",
      "source": [
        "tifid = TfidfVectorizer(max_df = 0.9,min_df = 10, ngram_range=(1,2))\n",
        "X = tifid.fit_transform(data['Tokenize_OriginalTweet'])"
      ],
      "metadata": {
        "id": "d8v90NIaM1KA"
      },
      "execution_count": 124,
      "outputs": []
    },
    {
      "cell_type": "code",
      "source": [
        "print(tifid.get_feature_names())"
      ],
      "metadata": {
        "colab": {
          "base_uri": "https://localhost:8080/"
        },
        "id": "FCDmW8zkNWY1",
        "outputId": "19c3077d-070e-440b-e714-4a2a8b2fae70"
      },
      "execution_count": 125,
      "outputs": [
        {
          "output_type": "stream",
          "name": "stdout",
          "text": [
            "['00', '000', '10', '10 000', '10 day', '10 million', '10 people', '10 year', '100', '100 000', '100 crore', '100 people', '100 per', '1000', '10000', '100000', '100k', '101', '10am', '10downingstreet', '11', '12', '12 million', '12 month', '12 week', '120', '1200', '13', '130', '14', '14 day', '15', '15 minute', '150', '16', '17', '17 year', '18', '1800', '18002199739', '18002199739 speak', '18year', '18year low', '19', '19 case', '19 consumer', '19 coronavirus', '19 crisis', '19 impact', '19 lockdown', '19 outbreak', '19 pandemic', '19 panic', '19 people', '19 please', '19 price', '19 recent', '19 related', '19 response', '19 situation', '19 supermarket', '19 test', '19 testing', '19 update', '19 via', '19 virus', '1999', '19th', '19th assist', '1st', '1st responder', '1st time', '20', '20 per', '20 second', '20 year', '200', '200 ml', '2000', '2002', '2003', '2008', '2014', '2016', '2018', '2019', '2020', '2020 consumer', '2020 coronavirus', '2020 covid19', '2021', '21', '21 day', '21daylockdown', '21dayslockdown', '22', '23', '24', '24 hour', '247', '25', '25 million', '250', '2500', '25th', '26', '27', '28', '29', '2italy', '2italy 3wuhan', '2m', '2m apart', '2nd', '2ply', '2x', '30', '30 day', '30 year', '300', '3000', '31', '32', '33', '34', '35', '350', '35000', '35k', '36', '37', '38', '3d', '3m', '3ply', '3pm', '3rd', '3wuhan', '3wuhan grocery', '3x', '40', '400', '4000', '41', '42', '43', '44', '45', '46', '47', '48', '48 hour', '49', '4pm', '4th', '50', '500', '5000', '50000', '54', '55', '57', '58', '5g', '5pm', '5th', '60', '60 alcohol', '600', '6000', '62', '65', '66', '67', '6am', '6ft', '6pm', '6th', '70', '700', '75', '77', '7am', '7news', '7pm', '7th', '80', '800', '8000', '85', '8am', '8pm', '90', '900', '911', '95', '99', '99 cent', '999', '9am', '9th', 'ab', 'abc', 'abcnews', 'ability', 'able', 'able buy', 'able get', 'able go', 'able keep', 'able stock', 'about', 'absolute', 'absolutely', 'absurd', 'abt', 'abuse', 'abused', 'accc', 'accelerate', 'accelerated', 'accelerating', 'accept', 'acceptable', 'accepting', 'access', 'access food', 'accessible', 'accessory', 'accommodation', 'according', 'account', 'accurate', 'accused', 'achieve', 'across', 'across america', 'across country', 'across globe', 'across nation', 'across state', 'across supermarket', 'across uk', 'across world', 'act', 'act kindness', 'acting', 'acting like', 'action', 'active', 'actively', 'activity', 'actor', 'actual', 'actually', 'actually need', 'ad', 'adapt', 'adapting', 'add', 'added', 'adding', 'addition', 'additional', 'additive', 'address', 'addressed', 'addressing', 'adequate', 'adhering', 'adjust', 'adjusted', 'adjusting', 'administration', 'adult', 'advance', 'advanced', 'advantage', 'advantage coronavirus', 'advantage covid19', 'advantage fear', 'advantage people', 'advantage situation', 'adventure', 'advertising', 'advice', 'advice consumer', 'advise', 'advised', 'advising', 'advisory', 'advocacy', 'advocate', 'aerosol', 'af', 'affair', 'affect', 'affected', 'affected consumer', 'affected coronavirus', 'affected covid19', 'affecting', 'afford', 'afford stock', 'affordable', 'affordable price', 'afghanistan', 'afloat', 'afraid', 'africa', 'african', 'after', 'aftermath', 'afternoon', 'ag', 'again', 'age', 'age coronavirus', 'aged', 'agency', 'agenparl', 'agent', 'aggressive', 'ago', 'agree', 'agreed', 'agreement', 'agricultural', 'agriculture', 'ahead', 'ai', 'aid', 'aim', 'aimed', 'ain', 'aint', 'air', 'airborne', 'airline', 'airport', 'aisle', 'aisle supermarket', 'aka', 'al', 'alarm', 'alarming', 'alberta', 'albertsons', 'alcohol', 'alcohol based', 'alcohol hand', 'alcohol sanitizer', 'alcoholbased', 'aldi', 'aldiaustralia', 'aldiuk', 'aldiuk lidlgb', 'alert', 'alert giveawayalert', 'alex', 'alike', 'alive', 'all', 'all hand', 'allah', 'allegedly', 'allergy', 'alleviate', 'allow', 'allowed', 'allowed go', 'allowing', 'allows', 'almost', 'aloe', 'alone', 'alonetogether', 'along', 'alongside', 'alphabet', 'already', 'also', 'also need', 'altered', 'alternate', 'alternative', 'although', 'always', 'am', 'amazing', 'amazon', 'amazon delivery', 'amazon ebay', 'amazonuk', 'ambulance', 'america', 'american', 'american consumer', 'american people', 'amid', 'amid coronavirus', 'amid covid', 'amid covid19', 'amid outbreak', 'amid pandemic', 'amid panic', 'amidst', 'amidst coronavirus', 'amidst covid19', 'ammo', 'among', 'amongst', 'amount', 'amount food', 'amount people', 'amp', 'amp business', 'amp ceo', 'amp collapse', 'amp consumer', 'amp coronavirus', 'amp covid19', 'amp delivery', 'amp demand', 'amp employee', 'amp essential', 'amp everyone', 'amp family', 'amp food', 'amp friend', 'amp gas', 'amp get', 'amp go', 'amp grocery', 'amp hand', 'amp health', 'amp help', 'amp keep', 'amp local', 'amp make', 'amp many', 'amp mask', 'amp medical', 'amp need', 'amp nurse', 'amp online', 'amp others', 'amp panic', 'amp people', 'amp pharmacy', 'amp price', 'amp restaurant', 'amp retail', 'amp sanitizer', 'amp sanitizers', 'amp service', 'amp shop', 'amp social', 'amp stay', 'amp stock', 'amp store', 'amp supermarket', 'amp supply', 'amp support', 'amp use', 'amp water', 'ample', 'an', 'analysis', 'analyst', 'analytics', 'and', 'andor', 'andrew', 'angel', 'angela', 'angeles', 'angry', 'animal', 'announce', 'announced', 'announcement', 'announces', 'announcing', 'annoying', 'annual', 'another', 'another day', 'answer', 'answer question', 'answered', 'anti', 'antibacterial', 'anticipate', 'anticipated', 'anticipation', 'antiviral', 'antonio', 'anxiety', 'anxious', 'any', 'anybody', 'anymore', 'anyone', 'anyone else', 'anyone know', 'anyone need', 'anything', 'anything else', 'anytime', 'anyway', 'anywhere', 'aoc', 'ap', 'apart', 'apartment', 'apocalypse', 'apologise', 'apologize', 'app', 'appalling', 'apparel', 'apparent', 'apparently', 'appeal', 'appealing', 'appear', 'appearing', 'appears', 'applaud', 'apple', 'appliance', 'application', 'applied', 'applies', 'apply', 'appointment', 'appreciate', 'appreciated', 'appreciation', 'approach', 'appropriate', 'appropriately', 'approve', 'approved', 'approximately', 'apps', 'apr', 'april', 'april 14', 'april 2020', 'ar', 'arab', 'arabia', 'arabia russia', 'are', 'area', 'area food', 'arent', 'argue', 'arguing', 'argument', 'arising', 'arizona', 'arm', 'armed', 'army', 'around', 'around clock', 'around coronavirus', 'around country', 'around covid19', 'around globe', 'around supermarket', 'around world', 'arrangement', 'arrest', 'arrested', 'arrive', 'arrived', 'arriving', 'arrow', 'arsehole', 'art', 'article', 'artificial', 'artist', 'arvindkejriwal', 'as', 'asap', 'asda', 'asda morrison', 'asda tesco', 'asdaserviceteam', 'ashamed', 'ashley', 'asia', 'asian', 'asian supermarket', 'aside', 'ask', 'askebay', 'asked', 'asking', 'asks', 'aspect', 'ass', 'assessment', 'asset', 'asset price', 'asshole', 'assist', 'assist working', 'assistance', 'assistance amid', 'assistance customer', 'assistant', 'associate', 'associated', 'association', 'assume', 'assure', 'assured', 'assures', 'asthma', 'astronomical', 'asymptomatic', 'at', 'athlete', 'athome', 'atlanta', 'atleast', 'atm', 'atrisk', 'attached', 'attack', 'attempt', 'attempting', 'attend', 'attendant', 'attention', 'attitude', 'attorney', 'attorney general', 'au', 'auction', 'audience', 'auspol', 'auspol coronavirus', 'aussie', 'austin', 'australia', 'australian', 'author', 'authority', 'auto', 'automatically', 'automation', 'automotive', 'avail', 'availability', 'available', 'available consumer', 'available coronavirus', 'available online', 'available use', 'average', 'avoid', 'avoid coronavirus', 'avoid crowd', 'avoid going', 'avoid scam', 'avoid touching', 'avoiding', 'aware', 'awareness', 'away', 'away people', 'awesome', 'awful', 'b2b', 'b4', 'baby', 'baby formula', 'back', 'back coronavirus', 'back covid19', 'back grocery', 'back home', 'back normal', 'back stock', 'back supermarket', 'back work', 'bacteria', 'bad', 'bad enough', 'bad news', 'badly', 'bag', 'bail', 'bailout', 'bailouts', 'baked', 'baker', 'bakery', 'baking', 'balance', 'ball', 'ban', 'banana', 'band', 'bandana', 'bangladesh', 'bank', 'bank account', 'bank across', 'bank amp', 'bank demand', 'bank greater', 'bank meet', 'bank need', 'bank pressure', 'bank seeing', 'banker', 'banking', 'bankruptcy', 'banned', 'banning', 'bar', 'bar restaurant', 'bare', 'barely', 'bargain', 'bargain price', 'barrel', 'barrier', 'base', 'based', 'based hand', 'based sanitizer', 'basic', 'basic food', 'basic necessity', 'basically', 'basis', 'basket', 'bastard', 'bat', 'bathroom', 'battered', 'battle', 'battle coronavirus', 'battling', 'bay', 'bay area', 'bbb', 'bbc', 'bbc news', 'bbcbreakfast', 'bbcnews', 'bc', 'bc covid19', 'bcg', 'be', 'beach', 'bean', 'bear', 'beat', 'beautiful', 'beauty', 'became', 'because', 'become', 'becomes', 'becoming', 'bed', 'beef', 'beer', 'before', 'began', 'begin', 'beginning', 'beginning die', 'begun', 'behalf', 'behave', 'behaving', 'behavior', 'behavior change', 'behavior changing', 'behavior covid19', 'behavior shift', 'behavior threshold', 'behavioral', 'behaviour', 'behind', 'beijing', 'being', 'bekind', 'belief', 'believe', 'bell', 'below', 'benchmark', 'beneficiary', 'benefit', 'benefiting', 'bernie', 'berniesanders', 'besafe', 'besides', 'best', 'best covid19', 'best practice', 'best price', 'best thing', 'best time', 'best way', 'bet', 'better', 'beverage', 'beware', 'beware fraudulent', 'beyond', 'bid', 'bidding', 'bidding federal', 'bidet', 'big', 'big box', 'big business', 'big deal', 'big supermarket', 'big thank', 'big thanks', 'bigger', 'biggest', 'biggest supermarket', 'bike', 'bill', 'billion', 'billionaire', 'bin', 'binge', 'bio', 'bird', 'birthday', 'birx', 'bit', 'bitch', 'bitcoin', 'bite', 'biz', 'black', 'black marketing', 'blame', 'blaming', 'bleach', 'bleak', 'bless', 'blessed', 'blessing', 'block', 'blockchain', 'blockchain crypto', 'blocked', 'blocking', 'blog', 'blog post', 'blood', 'bloody', 'bloomberg', 'blow', 'blue', 'board', 'body', 'bog', 'bog roll', 'bogus', 'bond', 'bonus', 'book', 'book online', 'booked', 'booking', 'boom', 'boomer', 'booming', 'boost', 'boosting', 'boot', 'booze', 'border', 'bored', 'boredom', 'boris', 'boris johnson', 'borisjohnson', 'born', 'borrower', 'bos', 'boss', 'boston', 'bottle', 'bottle 200', 'bottle coronavirus', 'bottle hand', 'bottle wine', 'bottled', 'bottled water', 'bottom', 'bottom line', 'bought', 'bought food', 'bounce', 'bounce back', 'bound', 'bout', 'box', 'boy', 'boycott', 'brace', 'bracing', 'brad', 'brad paisley', 'bradpaisley', 'bragging', 'brain', 'branch', 'brand', 'brand need', 'branding', 'brave', 'bread', 'bread milk', 'break', 'breakdown', 'breakfast', 'breaking', 'breaking news', 'breakingnews', 'breath', 'breathing', 'brent', 'brewery', 'brexit', 'brick', 'brick mortar', 'brickandmortar', 'briefing', 'bright', 'bright side', 'brilliant', 'bring', 'bringing', 'brings', 'brit', 'britain', 'british', 'briton', 'bro', 'broadband', 'broke', 'broken', 'brooklyn', 'brother', 'brought', 'brown', 'brussels', 'btc', 'btw', 'bubble', 'buck', 'buddy', 'budget', 'bug', 'build', 'building', 'built', 'bulk', 'bulk buy', 'bulk buying', 'bullshit', 'bump', 'bunch', 'bundle', 'bunker', 'bunny', 'burden', 'bureau', 'burn', 'bus', 'bus driver', 'business', 'business across', 'business amp', 'business closed', 'business consumer', 'business coronavirus', 'business covid19', 'business customer', 'business like', 'business model', 'business need', 'business owner', 'business usual', 'businessnews', 'bust', 'busy', 'busy supermarket', 'but', 'butcher', 'butt', 'butter', 'button', 'buy', 'buy essential', 'buy food', 'buy grocery', 'buy hand', 'buy local', 'buy need', 'buy online', 'buy sell', 'buy supermarket', 'buy thing', 'buy toilet', 'buyer', 'buying', 'buying amp', 'buying coronavirus', 'buying covid19', 'buying due', 'buying essential', 'buying everything', 'buying food', 'buying grocery', 'buying hoarding', 'buying need', 'buying online', 'buying supermarket', 'buying thing', 'buying toilet', 'buying via', 'by', 'ca', 'cab', 'cabinet', 'cafe', 'cake', 'calculator', 'calgary', 'california', 'californialockdown', 'californian', 'call', 'call 18002199739', 'called', 'calling', 'calm', 'calpol', 'came', 'came across', 'came back', 'came home', 'camera', 'camp', 'campaign', 'campus', 'can', 'can afford', 'can believe', 'can buy', 'can even', 'can find', 'can get', 'can go', 'can keep', 'canada', 'canadian', 'canberra', 'cancel', 'canceled', 'cancellation', 'cancelled', 'cancelled due', 'cancelling', 'cancer', 'candy', 'cannabis', 'canned', 'canned food', 'canned good', 'cannot', 'cannot afford', 'cannot find', 'cannot get', 'canonindia', 'cant', 'cant afford', 'cant believe', 'cant buy', 'cant even', 'cant find', 'cant get', 'cant go', 'cant help', 'cant wait', 'cap', 'capability', 'capacity', 'cape', 'capital', 'capital spending', 'capitalism', 'capitalist', 'capped', 'car', 'car park', 'carbon', 'card', 'cardboard', 'care', 'care act', 'care firm', 'care home', 'care nurse', 'care professional', 'care worker', 'career', 'careful', 'carefully', 'caregiver', 'carers', 'cargo', 'caring', 'carolina', 'carried', 'carrier', 'carry', 'carrying', 'cart', 'cartel', 'carton', 'cartoon', 'case', 'case coronavirus', 'case covid19', 'case rise', 'cash', 'cashier', 'cashier grocery', 'cashing', 'cashless', 'cat', 'cat food', 'catch', 'catching', 'catching coronavirus', 'catching covid19', 'category', 'cattle', 'caught', 'cause', 'cause covid19', 'caused', 'caused coronavirus', 'caused covid19', 'causing', 'caution', 'cautious', 'cbc', 'cbc news', 'cbd', 'cbs', 'cc', 'ccp', 'cdc', 'cdcgov', 'cdnpoli', 'celebrate', 'celebrity', 'cell', 'cent', 'cent per', 'center', 'central', 'centre', 'ceo', 'cereal', 'certain', 'certainly', 'certified', 'cfpb', 'chain', 'chain amp', 'chain say', 'chain store', 'chair', 'chairman', 'challenge', 'challenge covid19', 'challenging', 'challenging time', 'chance', 'chancellor', 'change', 'change consumer', 'change covid19', 'change way', 'changed', 'changed consumer', 'changing', 'changing consumer', 'channel', 'chaos', 'charge', 'charged', 'charging', 'charity', 'charmin', 'chart', 'chat', 'chatting', 'cheap', 'cheap price', 'cheaper', 'cheapest', 'check', 'check article', 'check latest', 'check local', 'check out', 'check website', 'checked', 'checker', 'checking', 'checkout', 'checkout line', 'cheer', 'cheese', 'chef', 'chemical', 'chemist', 'chicago', 'chicken', 'chief', 'child', 'child care', 'childcare', 'chill', 'china', 'china consumer', 'china coronavirus', 'chinavirus', 'chinese', 'chinese consumer', 'chinese virus', 'chinesevirus', 'chinesewuhanvirus', 'chip', 'chloroquine', 'chocolate', 'choice', 'choose', 'chopped', 'chris', 'christ', 'christian', 'christmas', 'church', 'cigarette', 'cinema', 'circle', 'circumstance', 'citizen', 'city', 'civil', 'claim', 'claimed', 'claiming', 'clap', 'class', 'classed', 'classified', 'clean', 'clean hand', 'cleaned', 'cleaner', 'cleaning', 'cleaning product', 'cleaning supply', 'clear', 'clear shelf', 'cleared', 'clearing', 'clearly', 'clerk', 'cleveland', 'click', 'click collect', 'click link', 'client', 'climate', 'climate change', 'climb', 'clinic', 'clinical', 'clip', 'clock', 'clorox', 'clorox wipe', 'close', 'close contact', 'close retail', 'close store', 'closed', 'closed covid19', 'closed due', 'closed notice', 'closed still', 'closely', 'closer', 'closing', 'closing retail', 'closing store', 'closure', 'cloth', 'clothes', 'clothing', 'cloud', 'clown', 'club', 'clue', 'cm', 'cmagovuk', 'cmomaharashtra', 'cnbc', 'cnn', 'co', 'co2', 'coal', 'coast', 'code', 'coffee', 'coin', 'cold', 'cole', 'cole woolworth', 'collaboration', 'collapse', 'collapse global', 'collapse oil', 'collapsed', 'collapsing', 'colleague', 'collect', 'collected', 'collecting', 'collection', 'collective', 'collector', 'college', 'color', 'colorado', 'com', 'combat', 'combat coronavirus', 'combat covid19', 'combat spread', 'combating', 'combination', 'combined', 'come', 'come back', 'come contact', 'come covid19', 'come people', 'come together', 'comedy', 'comfort', 'comfort food', 'comfortable', 'comic', 'coming', 'coming back', 'coming day', 'coming month', 'coming soon', 'coming together', 'coming week', 'comment', 'commerce', 'commercial', 'commission', 'commissioner', 'commit', 'commitment', 'committed', 'committed helping', 'committee', 'commodity', 'commodity price', 'common', 'common sense', 'commonsense', 'communicate', 'communication', 'community', 'community coronavirus', 'community covid19', 'community member', 'community spread', 'company', 'company like', 'company offering', 'company said', 'compare', 'compared', 'compassion', 'compensation', 'compete', 'competing', 'competition', 'competition consumer', 'competition puzzle', 'competitive', 'compiled', 'complain', 'complaining', 'complaint', 'complete', 'completely', 'complex', 'compliance', 'complimentary', 'comply', 'comprehensive', 'compromised', 'computer', 'con', 'concept', 'concern', 'concern around', 'concern coronavirus', 'concern covid19', 'concerned', 'concerning', 'concert', 'condition', 'condom', 'conduct', 'conducted', 'conference', 'confidence', 'confident', 'confinement', 'confirm', 'confirmed', 'confirmed case', 'confirmed covid19', 'confirms', 'confused', 'confusion', 'congress', 'connect', 'connected', 'connection', 'consequence', 'conservative', 'consider', 'consider donating', 'considerate', 'consideration', 'considered', 'considered essential', 'considering', 'considers', 'consistent', 'console', 'conspiracy', 'constant', 'constantly', 'construction', 'consultation', 'consume', 'consumer', 'consumer advice', 'consumer advocate', 'consumer affair', 'consumer alert', 'consumer amp', 'consumer attitude', 'consumer base', 'consumer behavior', 'consumer behaviour', 'consumer brand', 'consumer business', 'consumer buying', 'consumer commission', 'consumer company', 'consumer complaint', 'consumer concern', 'consumer confidence', 'consumer coronavirus', 'consumer covid19', 'consumer credit', 'consumer data', 'consumer debt', 'consumer demand', 'consumer economy', 'consumer electronics', 'consumer expectation', 'consumer fear', 'consumer finance', 'consumer financial', 'consumer fraud', 'consumer good', 'consumer group', 'consumer habit', 'consumer health', 'consumer impact', 'consumer industry', 'consumer information', 'consumer insight', 'consumer law', 'consumer lending', 'consumer loan', 'consumer market', 'consumer need', 'consumer panic', 'consumer price', 'consumer privacy', 'consumer product', 'consumer protection', 'consumer psychologist', 'consumer purchase', 'consumer purchasing', 'consumer report', 'consumer research', 'consumer resource', 'consumer response', 'consumer retail', 'consumer right', 'consumer sector', 'consumer sentiment', 'consumer service', 'consumer shopping', 'consumer small', 'consumer spending', 'consumer staple', 'consumer stock', 'consumer survey', 'consumer trend', 'consumer trust', 'consumer warning', 'consumerbehavior', 'consumerbehavior coronavirus', 'consumerbehaviour', 'consumerfriendly', 'consumerinsights', 'consumerprotection', 'consumption', 'contact', 'contact people', 'contacted', 'contactless', 'contagion', 'contagious', 'contain', 'contain spread', 'container', 'containing', 'containment', 'contains', 'contaminated', 'contamination', 'content', 'contest', 'contest alert', 'contestalert', 'context', 'continue', 'continue fall', 'continue work', 'continued', 'continues', 'continues spread', 'continuing', 'contract', 'contracted', 'contracting', 'contracting covid19', 'contraction', 'contrast', 'contribute', 'contributing', 'contribution', 'control', 'control price', 'controlled', 'convenience', 'convenience store', 'convenient', 'conversation', 'converted', 'convid19uk', 'convinced', 'cook', 'cooked', 'cooking', 'cooky', 'cool', 'coop', 'cooperation', 'coordinator', 'cop', 'cope', 'coping', 'copper', 'copy', 'corn', 'corn price', 'corner', 'corner shop', 'cornwall', 'corona', 'corona coronavirus', 'corona covid19', 'corona virus', 'coronaalert', 'coronacrisis', 'coronacrisis coronavirus', 'coronacrisis coronaviruspandemic', 'coronacrisis covid19', 'coronacrisisuk', 'coronacrisisuk covid19', 'coronalockdown', 'coronamemes', 'coronaoutbreak', 'coronapandemic', 'coronapocalypse', 'coronapocolypse', 'coronapocolypse coronavirus', 'coronauk', 'coronavid19', 'coronavillains', 'coronavirus', 'coronavirus 7news', 'coronavirus affect', 'coronavirus affecting', 'coronavirus also', 'coronavirus amp', 'coronavirus business', 'coronavirus can', 'coronavirus case', 'coronavirus cause', 'coronavirus chaos', 'coronavirus china', 'coronavirus chinavirus', 'coronavirus chinesevirus', 'coronavirus concern', 'coronavirus consumer', 'coronavirus corona', 'coronavirus coronacrisis', 'coronavirus coronapocolypse', 'coronavirus coronavirus', 'coronavirus coronavirusindia', 'coronavirus coronaviruslockdown', 'coronavirus coronavirusoutbreak', 'coronavirus coronaviruspandemic', 'coronavirus coronavirusuk', 'coronavirus coronavirusupdate', 'coronavirus coronavirusupdates', 'coronavirus coronavirususa', 'coronavirus could', 'coronavirus covid', 'coronavirus covid19', 'coronavirus covid19uk', 'coronavirus covid2019', 'coronavirus covidiots', 'coronavirus crisis', 'coronavirus death', 'coronavirus disease', 'coronavirus ecommerce', 'coronavirus economy', 'coronavirus emergency', 'coronavirus epidemic', 'coronavirus fear', 'coronavirus food', 'coronavirus front', 'coronavirus go', 'coronavirus going', 'coronavirus got', 'coronavirus grocery', 'coronavirus grocerystores', 'coronavirus handsanitizer', 'coronavirus health', 'coronavirus hit', 'coronavirus hoarding', 'coronavirus impact', 'coronavirus impacting', 'coronavirus india', 'coronavirus infection', 'coronavirus latest', 'coronavirus least', 'coronavirus lockdown', 'coronavirus lockdownuk', 'coronavirus make', 'coronavirus mask', 'coronavirus may', 'coronavirus mean', 'coronavirus must', 'coronavirus need', 'coronavirus news', 'coronavirus oil', 'coronavirus online', 'coronavirus onlineshopping', 'coronavirus outbreak', 'coronavirus pandemic', 'coronavirus panic', 'coronavirus panicbuying', 'coronavirus patient', 'coronavirus people', 'coronavirus please', 'coronavirus price', 'coronavirus quarantine', 'coronavirus quarantinelife', 'coronavirus question', 'coronavirus read', 'coronavirus recession', 'coronavirus related', 'coronavirus relief', 'coronavirus response', 'coronavirus restriction', 'coronavirus retail', 'coronavirus sanitizer', 'coronavirus sarscov2', 'coronavirus scam', 'coronavirus selfisolation', 'coronavirus shopping', 'coronavirus shutdown', 'coronavirus situation', 'coronavirus socialdistancing', 'coronavirus spread', 'coronavirus stay', 'coronavirus stayathome', 'coronavirus stayhome', 'coronavirus stayhomesavelives', 'coronavirus staysafe', 'coronavirus stock', 'coronavirus stockpiling', 'coronavirus stockup', 'coronavirus stophoarding', 'coronavirus stoppanicbuying', 'coronavirus supermarket', 'coronavirus supply', 'coronavirus symptom', 'coronavirus task', 'coronavirus test', 'coronavirus testing', 'coronavirus time', 'coronavirus tip', 'coronavirus toiletpaper', 'coronavirus toiletpaperpanic', 'coronavirus uk', 'coronavirus update', 'coronavirus via', 'coronavirus virus', 'coronavirus washyourhands', 'coronavirus world', 'coronavirus would', 'coronavirusau', 'coronavirusaus', 'coronavirusaustralia', 'coronaviruschallenge', 'coronaviruschallenge coronavirus', 'coronavirusindia', 'coronavirusinpakistan', 'coronavirusinsa', 'coronaviruslockdown', 'coronaviruslockdown coronavirus', 'coronaviruslockdown covid2019', 'coronaviruslockdownuk', 'coronavirusmemes', 'coronavirusnewyork', 'coronavirusnz', 'coronavirusoutbreak', 'coronavirusoutbreak coronavirus', 'coronavirusoutbreak coronaviruspandemic', 'coronavirusoutbreak covid19', 'coronavirusoutbreak covid2019', 'coronavirusoutbreakindia', 'coronaviruspakistan', 'coronaviruspandemic', 'coronaviruspandemic coronacrisis', 'coronaviruspandemic coronavirus', 'coronaviruspandemic coronavirusoutbreak', 'coronaviruspandemic covid19', 'coronavirusrelated', 'coronavirussa', 'coronavirussouthafrica', 'coronavirustruth', 'coronavirusuk', 'coronavirusuk coronavirus', 'coronavirusuk covid19', 'coronavirusupdate', 'coronavirusupdate coronavirus', 'coronavirusupdate covid19', 'coronavirusupdates', 'coronavirususa', 'coronavirususa coronavirus', 'coronavirususa covid19', 'corp', 'corporate', 'corporation', 'correct', 'correction', 'corrupt', 'corruption', 'corvid19', 'corvid19uk', 'cosmetic', 'cost', 'costco', 'costing', 'cotton', 'cough', 'cough spread', 'coughed', 'coughing', 'coughing grocery', 'coughing produce', 'coughing sneezing', 'could', 'could change', 'could fall', 'could find', 'could get', 'could go', 'could help', 'could hit', 'could lead', 'could see', 'could soon', 'could use', 'couldnt', 'council', 'count', 'countdown', 'counter', 'countless', 'country', 'country coronavirus', 'country covid19', 'country going', 'county', 'couple', 'couple day', 'couple week', 'coupled', 'coupon', 'courier', 'course', 'court', 'courtesy', 'cousin', 'cov', 'covd19', 'cover', 'coverage', 'covered', 'covering', 'covi', 'covid', 'covid 19', 'covid coronavirus', 'covid covid19', 'covid19', 'covid19 affect', 'covid19 affected', 'covid19 affecting', 'covid19 also', 'covid19 amp', 'covid19 business', 'covid19 case', 'covid19 caused', 'covid19 change', 'covid19 changed', 'covid19 changing', 'covid19 closure', 'covid19 concern', 'covid19 consumer', 'covid19 contest', 'covid19 continues', 'covid19 corona', 'covid19 coronacrisis', 'covid19 coronacrisisuk', 'covid19 coronavirus', 'covid19 coronavirusoutbreak', 'covid19 coronaviruspandemic', 'covid19 coronavirusuk', 'covid19 coronavirusupdate', 'covid19 coronavirususa', 'covid19 could', 'covid19 covid', 'covid19 covid19', 'covid19 covid19pandemic', 'covid19 covid19uk', 'covid19 covid19us', 'covid19 covid2019', 'covid19 covidagenparl', 'covid19 covidiots', 'covid19 crisis', 'covid19 death', 'covid19 demand', 'covid19 dont', 'covid19 ecommerce', 'covid19 economic', 'covid19 economy', 'covid19 effect', 'covid19 emergency', 'covid19 epidemic', 'covid19 era', 'covid19 expert', 'covid19 fear', 'covid19 food', 'covid19 get', 'covid19 going', 'covid19 got', 'covid19 grocery', 'covid19 health', 'covid19 help', 'covid19 here', 'covid19 hit', 'covid19 im', 'covid19 impact', 'covid19 impacted', 'covid19 impacting', 'covid19 infection', 'covid19 information', 'covid19 isnt', 'covid19 isolation', 'covid19 it', 'covid19 let', 'covid19 like', 'covid19 lockdown', 'covid19 made', 'covid19 make', 'covid19 many', 'covid19 may', 'covid19 mean', 'covid19 must', 'covid19 need', 'covid19 news', 'covid19 oil', 'covid19 one', 'covid19 online', 'covid19 outbreak', 'covid19 pandemic', 'covid19 panic', 'covid19 panicbuying', 'covid19 patient', 'covid19 people', 'covid19 please', 'covid19 precaution', 'covid19 price', 'covid19 quarantine', 'covid19 quarantinelife', 'covid19 quaratinelife', 'covid19 read', 'covid19 real', 'covid19 really', 'covid19 recent', 'covid19 recession', 'covid19 related', 'covid19 relief', 'covid19 resource', 'covid19 response', 'covid19 restriction', 'covid19 retail', 'covid19 sanitizer', 'covid19 scam', 'covid19 seriously', 'covid19 shopping', 'covid19 shutdown', 'covid19 situation', 'covid19 socialdistanacing', 'covid19 socialdistancing', 'covid19 spread', 'covid19 spreading', 'covid19 stayathome', 'covid19 stayhome', 'covid19 stayhomesavelives', 'covid19 still', 'covid19 stophoarding', 'covid19 store', 'covid19 story', 'covid19 supermarket', 'covid19 supply', 'covid19 symptom', 'covid19 take', 'covid19 test', 'covid19 testing', 'covid19 thing', 'covid19 time', 'covid19 toiletpaper', 'covid19 treatment', 'covid19 trend', 'covid19 update', 'covid19 via', 'covid19 virus', 'covid19 we', 'covid19 work', 'covid19 world', 'covid19 would', 'covid19au', 'covid19aus', 'covid19australia', 'covid19canada', 'covid19india', 'covid19ireland', 'covid19ke', 'covid19nigeria', 'covid19nz', 'covid19on', 'covid19out', 'covid19outbreak', 'covid19pandemic', 'covid19ph', 'covid19related', 'covid19s', 'covid19sa', 'covid19southafrica', 'covid19ug', 'covid19uk', 'covid19uk coronavirus', 'covid19uk coronavirusuk', 'covid19uk covid19', 'covid19us', 'covid19usa', 'covid2019', 'covid2019 coronavirus', 'covid2019 coronavirusoutbreak', 'covid2019 covid19', 'covid2019 pandemic', 'covid2019au', 'covid2019india', 'covidagenparl', 'covidcanada', 'covididiots', 'covidindia', 'covidiot', 'covidiots', 'covidiots covid19', 'cow', 'coworkers', 'coz', 'cpg', 'crack', 'craft', 'crap', 'crash', 'crashed', 'crashing', 'crazy', 'crazy time', 'cre', 'cream', 'create', 'created', 'creates', 'creating', 'creative', 'credit', 'credit card', 'crew', 'crime', 'criminal', 'crisis', 'crisis consumer', 'crisis continues', 'crisis coronavirus', 'crisis covid19', 'crisis demand', 'crisis donating', 'crisis food', 'crisis like', 'crisis mckinsey', 'crisis need', 'crisis price', 'crisis via', 'crisp', 'crisp linen', 'critical', 'critical care', 'critical drug', 'critical time', 'crook', 'crop', 'crore', 'cross', 'crowd', 'crowded', 'crowded area', 'crowding', 'crucial', 'crude', 'crude oil', 'crude price', 'crudeoil', 'cruise', 'crunch', 'crush', 'cry', 'crypto', 'crypto bitcoin', 'cryptocurrency', 'cstores', 'ct', 'culture', 'cunt', 'cuomo', 'cup', 'cupboard', 'curb', 'curb spread', 'curbside', 'curbside pickup', 'cure', 'cure coronavirus', 'cure covid19', 'curfew', 'curious', 'currency', 'current', 'current coronavirus', 'current covid19', 'current crisis', 'current price', 'current situation', 'currently', 'curtail', 'curve', 'custom', 'customer', 'customer amp', 'customer call', 'customer coronavirus', 'customer employee', 'customer experiencing', 'customer need', 'customer service', 'customer turbo', 'cut', 'cut food', 'cut oil', 'cut output', 'cut price', 'cut production', 'cute', 'cutting', 'cutting price', 'cuz', 'cv', 'cx', 'cyber', 'cybersecurity', 'cycle', 'da', 'dad', 'daily', 'daily basis', 'daily life', 'dailymailuk', 'dairy', 'dairy farmer', 'dallas', 'damage', 'damaging', 'damn', 'dan', 'dance', 'danger', 'dangerous', 'danielandrewsmp', 'danish', 'danish supermarket', 'dark', 'data', 'data price', 'data show', 'database', 'date', 'daughter', 'david', 'dawn', 'day', 'day ago', 'day coronavirus', 'day covid19', 'day day', 'day go', 'day lockdown', 'day one', 'day week', 'day work', 'dc', 'de', 'dead', 'deadline', 'deadly', 'deadly virus', 'deal', 'deal coronavirus', 'deal covid19', 'dealer', 'dealing', 'dear', 'dear world', 'death', 'death toll', 'debate', 'debit', 'debt', 'debt collection', 'decade', 'december', 'decent', 'decide', 'decided', 'decision', 'deck', 'deck grocery', 'declaration', 'declare', 'declared', 'decline', 'declined', 'declined sharply', 'declining', 'decrease', 'decreased', 'dedicated', 'dedicated shopping', 'deemed', 'deemed essential', 'deep', 'deeper', 'deeply', 'defeat', 'defense', 'deficit', 'definitely', 'degree', 'delaware', 'delay', 'delayed', 'delhi', 'deli', 'deliberately', 'delicious', 'deliver', 'deliver food', 'delivered', 'delivering', 'delivering elderly', 'delivering food', 'delivers', 'delivery', 'delivery amp', 'delivery apps', 'delivery company', 'delivery coronavirus', 'delivery driver', 'delivery food', 'delivery people', 'delivery service', 'delivery slot', 'delivery supermarket', 'delivery time', 'delivery worker', 'dem', 'demand', 'demand amid', 'demand amp', 'demand caused', 'demand consumer', 'demand coronavirus', 'demand covid', 'demand covid19', 'demand due', 'demand food', 'demand good', 'demand grocery', 'demand high', 'demand increase', 'demand online', 'demand pandemic', 'demand people', 'demand price', 'demand service', 'demand supply', 'demand via', 'demand vulnerable', 'demanding', 'democrat', 'democratic', 'denial', 'denied', 'denmark', 'department', 'department agriculture', 'department consumer', 'department store', 'depend', 'dependent', 'deposit', 'depot', 'depressed', 'depression', 'dept', 'deputy', 'described', 'deserve', 'deserved', 'design', 'designated', 'designed', 'designer', 'desire', 'desk', 'despair', 'desperate', 'desperately', 'desperation', 'despicable', 'despite', 'despite coronavirus', 'despite covid19', 'destroy', 'destroy demand', 'destroyed', 'destruction', 'detail', 'determined', 'dettol', 'devastating', 'develop', 'developed', 'developing', 'development', 'device', 'dey', 'diabetes', 'diagnosed', 'diagnosis', 'diamond', 'diary', 'dick', 'did', 'didnt', 'die', 'die coronavirus', 'die hunger', 'died', 'died coronavirus', 'died covid', 'died covid19', 'diesel', 'diesel price', 'diet', 'difference', 'different', 'differently', 'difficult', 'difficult time', 'difficulty', 'dig', 'digital', 'digital money', 'digitalmarketing', 'dilemma', 'dining', 'dinner', 'dip', 'dire', 'direct', 'direct consumer', 'direction', 'directive', 'directly', 'director', 'directtoconsumer', 'dirty', 'dis', 'disability', 'disabled', 'disabled people', 'disappear', 'disappointed', 'disaster', 'discount', 'discounted', 'discounted price', 'discover', 'discovered', 'discretionary', 'discus', 'discussed', 'discussing', 'discussion', 'disease', 'disease 2019', 'disease covid19', 'disgraceful', 'disgusted', 'disgusting', 'dish', 'disinfect', 'disinfectant', 'disinfectant wipe', 'disinfecting', 'disney', 'dispenser', 'display', 'disposable', 'dispute', 'disrupt', 'disrupted', 'disruption', 'distance', 'distance people', 'distancing', 'distancing amp', 'distancing coronavirus', 'distancing measure', 'distancing rule', 'distiller', 'distillery', 'distribute', 'distributed', 'distributing', 'distribution', 'distributor', 'district', 'disturbing', 'dive', 'dividend', 'division', 'diy', 'dm', 'dm price', 'dna', 'do', 'do coronavirus', 'doc', 'dock', 'doctor', 'doctor amp', 'doctor grocery', 'doctor nurse', 'document', 'doesnt', 'dog', 'dog food', 'doing', 'dollar', 'domestic', 'don', 'donald', 'donald trump', 'donaldtrump', 'donate', 'donate food', 'donate money', 'donated', 'donated combined', 'donates', 'donating', 'donating food', 'donation', 'done', 'done online', 'dont', 'dont enough', 'dont forget', 'dont get', 'dont go', 'dont know', 'dont let', 'dont need', 'dont panic', 'dont see', 'dont think', 'dont understand', 'dont want', 'door', 'door door', 'door open', 'doorstep', 'dot', 'double', 'double whammy', 'doubled', 'doubled price', 'doubling', 'doubt', 'doug', 'dow', 'down', 'download', 'downside', 'downtown', 'downturn', 'downward', 'dozen', 'dr', 'drain', 'drama', 'dramatic', 'dramatically', 'drastic', 'drastically', 'drawing', 'dream', 'dress', 'drharshvardhan', 'dried', 'drink', 'drinking', 'drive', 'drive price', 'drive thru', 'driven', 'driver', 'driver amp', 'driver grocery', 'driver many', 'driver supermarket', 'drivethru', 'driving', 'driving price', 'drone', 'drone delivery', 'drop', 'drop consumer', 'drop demand', 'drop oil', 'drop price', 'droplet', 'dropped', 'dropping', 'drove', 'drug', 'drug administration', 'drug company', 'drug price', 'drug store', 'drugstore', 'dry', 'dtc', 'dubai', 'dude', 'due', 'due 19', 'due corona', 'due coronavirus', 'due covid', 'due covid19', 'due covid2019', 'due current', 'due demand', 'due high', 'due impact', 'due lack', 'due lockdown', 'due pandemic', 'due panic', 'dumb', 'dump', 'dump milk', 'dumped', 'dumping', 'dumping milk', 'duration', 'dust', 'dutch', 'duty', 'dwindling', 'dy', 'dy covid19', 'dying', 'dying coronavirus', 'dying covid19', 'dynamic', 'ear', 'earlier', 'earlier today', 'early', 'early morning', 'earn', 'earned', 'earnings', 'earth', 'earthquake', 'ease', 'easier', 'easily', 'easing', 'east', 'easter', 'easter egg', 'eastern', 'eastersunday', 'easy', 'easyfundraising', 'eat', 'eating', 'eats', 'ebay', 'ebayuk', 'ecommerce', 'ecommerce retail', 'ecommerce sale', 'economic', 'economic activity', 'economic downturn', 'economic fallout', 'economic impact', 'economic recovery', 'economic shutdown', 'economic slowdown', 'economically', 'economics', 'economist', 'economy', 'economy coronavirus', 'economy covid19', 'ed', 'edge', 'edible', 'edition', 'editor', 'editorial', 'edmonton', 'educate', 'education', 'effect', 'effect coronavirus', 'effect covid', 'effect covid19', 'effected', 'effective', 'effectively', 'efficient', 'effort', 'eg', 'egg', 'egg price', 'egypt', 'eight', 'either', 'el', 'elbow', 'elder', 'elderly', 'elderly amid', 'elderly amp', 'elderly disabled', 'elderly neighbour', 'elderly people', 'elderly vulnerable', 'elderly woman', 'elected', 'election', 'electric', 'electricity', 'electricity price', 'electronics', 'eligible', 'eliminate', 'elite', 'else', 'elsewhere', 'em', 'email', 'email text', 'emarketer', 'emerge', 'emergency', 'emergency food', 'emergency personnel', 'emergency service', 'emergency worker', 'emerging', 'emotion', 'emotional', 'empathy', 'employ', 'employed', 'employee', 'employee coronavirus', 'employee covid19', 'employee customer', 'employee death', 'employee dy', 'employee emergency', 'employee essential', 'employee supermarket', 'employee tested', 'employee truck', 'employee working', 'employer', 'employment', 'emptied', 'empty', 'empty grocery', 'empty shelf', 'empty supermarket', 'emptying', 'emptying supermarket', 'emptyshelves', 'emts', 'en', 'enable', 'encounter', 'encourage', 'encouraged', 'encouraging', 'end', 'end april', 'ended', 'ending', 'endless', 'endure', 'enemy', 'energy', 'energy price', 'enforce', 'enforced', 'enforcement', 'enforcing', 'engage', 'engaged', 'engagement', 'engaging', 'engine', 'engineer', 'england', 'english', 'enhanced', 'enjoy', 'enjoying', 'enormous', 'enough', 'enough everyone', 'enough food', 'enough go', 'enough money', 'enough stock', 'enough supply', 'ensure', 'ensure food', 'ensuring', 'enter', 'enter grocery', 'enter supermarket', 'entered', 'entering', 'enterprise', 'enters', 'entertainment', 'entire', 'entire family', 'entirely', 'entitled', 'entity', 'entrance', 'entrepreneur', 'entry', 'environment', 'environmental', 'epa', 'epidemic', 'episode', 'equal', 'equipment', 'equity', 'equivalent', 'era', 'errand', 'escape', 'esp', 'especially', 'essay', 'essential', 'essential business', 'essential commodity', 'essential covid19', 'essential food', 'essential good', 'essential grocery', 'essential item', 'essential product', 'essential retail', 'essential service', 'essential shopping', 'essential store', 'essential supply', 'essential worker', 'essentialworkers', 'est', 'establishment', 'estate', 'estate market', 'estate price', 'estimate', 'estimated', 'et', 'etc', 'ethanol', 'ethic', 'ethical', 'eu', 'euro', 'europe', 'european', 'eve', 'even', 'even coronavirus', 'even covid19', 'even get', 'even go', 'even though', 'even worse', 'evening', 'event', 'eventually', 'ever', 'ever seen', 'everlywell', 'every', 'every day', 'every grocery', 'every person', 'every single', 'every supermarket', 'every time', 'every week', 'everybody', 'everyday', 'everyone', 'everyone covid19', 'everyone else', 'everyone get', 'everyone keep', 'everyone need', 'everyone panic', 'everyone stay', 'everyone work', 'everyone working', 'everyones', 'everything', 'everything else', 'everything going', 'everything keep', 'everything need', 'everywhere', 'eviction', 'evidence', 'evil', 'evolve', 'evolving', 'ex', 'exact', 'exactly', 'examines', 'example', 'exceed', 'excellent', 'except', 'exception', 'excess', 'excessive', 'excessive price', 'exchange', 'excited', 'exciting', 'exclusive', 'exclusively', 'excuse', 'exec', 'executive', 'executive director', 'executive get', 'executive order', 'exempt', 'exercise', 'exhausted', 'exist', 'existing', 'exit', 'exorbitant', 'exorbitant price', 'expand', 'expanded', 'expanding', 'expands', 'expect', 'expect paper', 'expectation', 'expected', 'expecting', 'expects', 'expense', 'expensive', 'experience', 'experienced', 'experiencing', 'experiencing hardship', 'expert', 'expert say', 'explain', 'explained', 'explaining', 'explains', 'explode', 'exploit', 'exploitation', 'exploiting', 'explore', 'explores', 'exploring', 'exponentially', 'export', 'exporter', 'exporting', 'expose', 'exposed', 'exposed covid19', 'exposing', 'exposure', 'exposure covid19', 'express', 'extend', 'extended', 'extending', 'extends', 'extension', 'extensive', 'extent', 'extortionate', 'extortionate price', 'extra', 'extraordinary', 'extreme', 'extremely', 'eye', 'fabric', 'face', 'face coronavirus', 'face covering', 'face covid19', 'face mask', 'face shield', 'facebook', 'faced', 'facemask', 'facemasks', 'facial', 'facilitate', 'facility', 'facing', 'fact', 'factor', 'factory', 'fail', 'failed', 'failing', 'fails', 'failure', 'fair', 'fair one', 'fair price', 'faith', 'fake', 'fake news', 'fakenews', 'fall', 'fall oil', 'fall price', 'fall sharply', 'fallen', 'falling', 'falling oil', 'falling price', 'fallout', 'false', 'family', 'family amp', 'family friend', 'family member', 'family need', 'famous', 'fan', 'fantastic', 'fao', 'faq', 'far', 'fare', 'fargo', 'fargo committed', 'farm', 'farmer', 'farmer dump', 'farmer dumping', 'farmer market', 'farming', 'farmworkers', 'fascinating', 'fashion', 'fast', 'fast food', 'faster', 'fastest', 'fastest growing', 'fastfood', 'fat', 'fatality', 'father', 'fauci', 'fault', 'favorite', 'favourite', 'fb', 'fcc', 'fda', 'fear', 'fear coronavirus', 'fear covid19', 'fear surrounding', 'fearful', 'feature', 'featuring', 'feb', 'february', 'fed', 'federal', 'federal government', 'federal response', 'federal trade', 'fee', 'feed', 'feed family', 'feedback', 'feeding', 'feel', 'feel free', 'feel like', 'feel safe', 'feeling', 'fell', 'fellow', 'felt', 'felt like', 'fema', 'festival', 'fever', 'fewer', 'ffs', 'field', 'fight', 'fight coronavirus', 'fight covid', 'fight covid19', 'fightcovid19', 'fighting', 'fighting coronavirus', 'fighting covid19', 'figure', 'fiji', 'fijian', 'file', 'file complaint', 'filed', 'fill', 'filled', 'filling', 'filling shelf', 'film', 'filter', 'final', 'finally', 'finance', 'financial', 'financial crisis', 'financial hardship', 'financial impact', 'financial institution', 'financial market', 'financial protection', 'financial service', 'financially', 'find', 'find food', 'find grocery', 'find here', 'find toilet', 'finding', 'fine', 'fined', 'finger', 'finish', 'finished', 'finland', 'fintech', 'fire', 'firearm', 'fired', 'firefighter', 'firm', 'firm raise', 'first', 'first day', 'first hour', 'first responder', 'first thing', 'first time', 'fiscal', 'fish', 'fish tank', 'fisherman', 'fishing', 'fit', 'fitness', 'five', 'fix', 'fix price', 'fixed', 'fixed price', 'fixing', 'fl', 'fl oz', 'flat', 'flatten', 'flatten curve', 'flattenthecurve', 'flexibility', 'flexible', 'flight', 'flipkart', 'flood', 'flooding', 'floor', 'florida', 'floridian', 'flour', 'flow', 'flower', 'flu', 'flush', 'fly', 'flyer', 'flying', 'flying shelf', 'fmcg', 'focus', 'focus consumer', 'focused', 'focusing', 'folk', 'follow', 'follow link', 'followed', 'follower', 'following', 'follows', 'food', 'food amid', 'food amp', 'food assistance', 'food available', 'food bank', 'food basic', 'food beverage', 'food box', 'food business', 'food buy', 'food buying', 'food chain', 'food consumer', 'food coronavirus', 'food covid', 'food covid19', 'food crisis', 'food delivered', 'food delivery', 'food demand', 'food distribution', 'food donation', 'food drink', 'food drive', 'food drug', 'food due', 'food essential', 'food etc', 'food even', 'food everyone', 'food family', 'food food', 'food get', 'food go', 'food going', 'food grocery', 'food home', 'food household', 'food industry', 'food inflation', 'food insecurity', 'food item', 'food left', 'food like', 'food many', 'food market', 'food medicine', 'food need', 'food online', 'food order', 'food panic', 'food pantry', 'food parcel', 'food people', 'food please', 'food price', 'food producer', 'food product', 'food production', 'food redistribution', 'food relief', 'food restaurant', 'food retail', 'food retailer', 'food safety', 'food security', 'food service', 'food shelf', 'food shop', 'food shopping', 'food shortage', 'food stamp', 'food stock', 'food store', 'food stuff', 'food supermarket', 'food supplier', 'food supply', 'food system', 'food table', 'food toilet', 'food toiletry', 'food waste', 'food water', 'food woman', 'food worker', 'foodbank', 'foodbanks', 'fooddelivery', 'foodindustry', 'foodsafety', 'foodsecurity', 'foodservice', 'foodshortages', 'foodstuff', 'foodsupply', 'foodwaste', 'fool', 'foot', 'foot apart', 'foot away', 'foot traffic', 'football', 'footfall', 'for', 'forbes', 'force', 'force majeure', 'forced', 'forced close', 'forcing', 'ford', 'fordnation', 'forecast', 'foreclosure', 'foreign', 'foreseeable', 'foreseeable future', 'forever', 'forex', 'forget', 'forgot', 'forgotten', 'form', 'former', 'formula', 'fortunate', 'forum', 'forward', 'fossil', 'fossil fuel', 'found', 'foundation', 'founder', 'four', 'four people', 'fox', 'fox news', 'foxnews', 'fr', 'fracking', 'fractured', 'fragile', 'france', 'franchise', 'francisco', 'fraud', 'fraudsters', 'fraudulent', 'fraudulent coronavirus', 'freaking', 'free', 'free delivery', 'free fall', 'free food', 'free grocery', 'free hand', 'free meal', 'free school', 'free shipping', 'freedom', 'freeze', 'freezer', 'freight', 'french', 'frenzy', 'frequently', 'fresh', 'fresh food', 'fresh fruit', 'fresh produce', 'fresh vegetable', 'friday', 'fridayfeeling', 'fridaythoughts', 'fridge', 'friend', 'friend family', 'friend mine', 'friend safe', 'friendly', 'frightening', 'from', 'front', 'front line', 'frontline', 'frontline worker', 'frontliners', 'frontlines', 'frozen', 'frozen food', 'fruit', 'fruit amp', 'fruit veg', 'fruit vegetable', 'frustrating', 'ft', 'ftc', 'fuck', 'fucked', 'fucker', 'fuckin', 'fucking', 'fuel', 'fuel price', 'fulfill', 'full', 'full article', 'full list', 'full pay', 'full people', 'full report', 'full story', 'full time', 'fully', 'fully stocked', 'fun', 'function', 'fund', 'fund manager', 'funding', 'funeral', 'funny', 'furlough', 'furloughed', 'furniture', 'further', 'future', 'fyi', 'gain', 'gained', 'gallon', 'game', 'gamestop', 'gaming', 'gang', 'gap', 'garage', 'garbage', 'garbage collector', 'garden', 'gardening', 'garlic', 'gary', 'gas', 'gas price', 'gas station', 'gasoline', 'gasoline price', 'gasprices', 'gate', 'gather', 'gathering', 'gauging', 'gave', 'gavinnewsom', 'gazette', 'gb', 'gcc', 'gdp', 'gear', 'gel', 'gen', 'general', 'general public', 'generally', 'generation', 'generous', 'genius', 'genuinely', 'george', 'georgia', 'germ', 'german', 'germany', 'gesture', 'get', 'get access', 'get away', 'get back', 'get better', 'get coronavirus', 'get covid', 'get covid19', 'get delivery', 'get essential', 'get food', 'get free', 'get grip', 'get grocery', 'get hand', 'get home', 'get house', 'get infected', 'get inside', 'get it', 'get money', 'get much', 'get need', 'get one', 'get online', 'get paid', 'get people', 'get priority', 'get ready', 'get real', 'get shopping', 'get sick', 'get store', 'get supermarket', 'get supply', 'get taste', 'get tested', 'get thing', 'get together', 'get toilet', 'get touch', 'get worse', 'getting', 'getting coronavirus', 'getting covid19', 'getting food', 'getting sick', 'ghana', 'giant', 'giant died', 'gift', 'gift card', 'girl', 'give', 'give call', 'giveawayalert', 'giveawayalert competition', 'given', 'giving', 'giving back', 'glad', 'glass', 'global', 'global consumer', 'global coronavirus', 'global covid19', 'global crisis', 'global demand', 'global economic', 'global economy', 'global food', 'global market', 'global oil', 'global pandemic', 'global recession', 'global stock', 'global supply', 'globally', 'globe', 'glove', 'glove amp', 'glove grocery', 'glove hand', 'glove mask', 'glove sanitizer', 'glut', 'gluten', 'gluten free', 'gmb', 'go', 'go anywhere', 'go around', 'go back', 'go buy', 'go coronavirus', 'go far', 'go food', 'go get', 'go grocery', 'go home', 'go local', 'go long', 'go out', 'go outside', 'go panic', 'go shop', 'go shopping', 'go store', 'go supermarket', 'go up', 'go walk', 'go without', 'go work', 'goal', 'god', 'god bless', 'godrej', 'godrej consumer', 'going', 'going around', 'going covid19', 'going crazy', 'going forward', 'going get', 'going go', 'going grocery', 'going happen', 'going need', 'going on', 'going pharmacy', 'going run', 'going shop', 'going shopping', 'going store', 'going supermarket', 'going up', 'going work', 'gold', 'gold price', 'golden', 'golf', 'gone', 'gonna', 'good', 'good amp', 'good company', 'good coronavirus', 'good covid19', 'good food', 'good hygiene', 'good idea', 'good job', 'good morning', 'good news', 'good price', 'good read', 'good see', 'good service', 'good thing', 'good time', 'goodness', 'google', 'google search', 'googlenews', 'gop', 'got', 'got back', 'gotta', 'gotten', 'gouging', 'gouging consumer', 'gov', 'governance', 'government', 'government advice', 'government announced', 'government must', 'government need', 'governor', 'governor say', 'govmurphy', 'govt', 'govts', 'govuk', 'gown', 'gp', 'grab', 'grabbed', 'grade', 'grain', 'gram', 'grand', 'grandma', 'grandparent', 'grant', 'granted', 'grapple', 'grateful', 'gratitude', 'great', 'great idea', 'great job', 'great price', 'great see', 'great time', 'great way', 'greater', 'greater manchester', 'greater risk', 'greatest', 'greatly', 'greece', 'greed', 'greedy', 'greedy people', 'green', 'grew', 'grip', 'grocer', 'grocery', 'grocery amp', 'grocery chain', 'grocery clerk', 'grocery coronavirus', 'grocery covid19', 'grocery delivered', 'grocery delivery', 'grocery drug', 'grocery food', 'grocery industry', 'grocery item', 'grocery list', 'grocery online', 'grocery price', 'grocery shop', 'grocery shopping', 'grocery store', 'grocery supermarket', 'grocery supply', 'grocery worker', 'groceryindustry', 'groceryshopping', 'grocerystore', 'grocerystores', 'groceryworkers', 'ground', 'group', 'group people', 'grow', 'grower', 'growing', 'growing demand', 'grown', 'grows', 'growth', 'gt', 'gt gt', 'gtgt', 'gtgtgt', 'guarantee', 'guaranteed', 'guard', 'guardian', 'guess', 'guessing', 'guest', 'guidance', 'guide', 'guideline', 'guilty', 'gulf', 'gun', 'guy', 'gym', 'ha', 'habit', 'hack', 'hacker', 'haha', 'hair', 'half', 'hall', 'halt', 'halted', 'hamster', 'hand', 'hand clean', 'hand coronavirus', 'hand deck', 'hand frequently', 'hand glove', 'hand often', 'hand regularly', 'hand sanitiser', 'hand sanitisers', 'hand sanitizer', 'hand sanitizers', 'hand soap', 'hand use', 'hand wash', 'hand washing', 'handed', 'handing', 'handle', 'handled', 'handling', 'handsanitiser', 'handsanitizer', 'handsanitizer coronavirus', 'handsanitizers', 'handwash', 'handwashing', 'handy', 'hang', 'hanging', 'happen', 'happened', 'happening', 'happens', 'happy', 'happy easter', 'hard', 'hard find', 'hard keep', 'hard life', 'hard time', 'hard work', 'hard working', 'harder', 'hardest', 'hardly', 'hardship', 'hardship covid19', 'hardware', 'hardware store', 'harm', 'harmful', 'harper', 'harper wood', 'harvest', 'harvey', 'hashtag', 'hasnt', 'hat', 'hate', 'haul', 'have', 'havent', 'havent seen', 'havoc', 'hazard', 'hazard pay', 'he', 'head', 'headed', 'heading', 'heading grocery', 'headline', 'headquarters', 'health', 'health amp', 'health benefit', 'health care', 'health condition', 'health coronavirus', 'health crisis', 'health emergency', 'health food', 'health insurance', 'health official', 'health organization', 'health risk', 'health safety', 'health worker', 'healthcare', 'healthcare professional', 'healthcare provider', 'healthcare system', 'healthcare worker', 'healthcareheroes', 'healthy', 'healthy food', 'hear', 'heard', 'hearing', 'heart', 'heartbreaking', 'heartfelt', 'heavily', 'heavy', 'heb', 'hedge', 'height', 'heightened', 'held', 'hell', 'hello', 'help', 'help community', 'help consumer', 'help coronavirus', 'help covid19', 'help customer', 'help cut', 'help family', 'help fight', 'help find', 'help food', 'help get', 'help keep', 'help lagos', 'help local', 'help make', 'help meet', 'help need', 'help others', 'help people', 'help please', 'help prevent', 'help protect', 'help reduce', 'help shopping', 'help stock', 'help stop', 'help support', 'help vulnerable', 'help you', 'helpeachother', 'helped', 'helper', 'helpful', 'helpful tip', 'helping', 'helping customer', 'helping elderly', 'helping fight', 'helping keep', 'helpline', 'her', 'herd', 'here', 'here coronavirus', 'here covid19', 'here list', 'hero', 'hero coronavirus', 'hero covid19', 'hey', 'hi', 'hi there', 'hidden', 'hide', 'hiding', 'high', 'high demand', 'high price', 'high quality', 'high risk', 'high street', 'higher', 'higher demand', 'higher price', 'higher risk', 'highest', 'highlight', 'highlighted', 'highlighting', 'highly', 'highway', 'hike', 'hike price', 'hiked', 'hiked price', 'hiking', 'hiking price', 'hilarious', 'hill', 'him', 'hindustan', 'hindustan unilever', 'hint', 'hire', 'hire 100000', 'hiring', 'historic', 'history', 'hit', 'hit coronavirus', 'hit grocery', 'hit hard', 'hitting', 'ho', 'hoard', 'hoard food', 'hoarded', 'hoarder', 'hoarding', 'hoarding coronavirus', 'hoarding food', 'hoarding supply', 'hoarding toilet', 'hoarding toiletpaper', 'hoax', 'hobby', 'hold', 'holder', 'holding', 'hole', 'holiday', 'hollywood', 'holy', 'home', 'home amp', 'home coronavirus', 'home covid19', 'home delivery', 'home due', 'home go', 'home grocery', 'home need', 'home order', 'home people', 'home price', 'home sale', 'home shopping', 'home stay', 'home supermarket', 'home test', 'home unless', 'home use', 'home week', 'homebound', 'homedelivery', 'homeless', 'homemade', 'homemade hand', 'homeowner', 'homeschooling', 'hometown', 'honest', 'honestly', 'hong', 'hong kong', 'honor', 'hoosier', 'hope', 'hope everyone', 'hope get', 'hope price', 'hopefully', 'hoping', 'horde', 'hording', 'horrible', 'horror', 'horse', 'hospital', 'hospital staff', 'hospital worker', 'hospitality', 'host', 'hosted', 'hosting', 'hot', 'hotel', 'hotline', 'hour', 'hour coronavirus', 'hour day', 'hour elderly', 'hour senior', 'hour shift', 'hour supermarket', 'hourly', 'house', 'house coronavirus', 'house food', 'house go', 'house price', 'household', 'household item', 'household product', 'housing', 'housing market', 'housing price', 'housingmarket', 'houston', 'how', 'however', 'hr', 'ht', 'http', 'hub', 'hub turbo', 'hug', 'huge', 'huge demand', 'hugely', 'hul', 'hulnews', 'human', 'human being', 'humanity', 'humble', 'humor', 'hundred', 'hunger', 'hunger crisis', 'hungry', 'hunt', 'hunter', 'hunting', 'hurricane', 'hurry', 'hurt', 'hurting', 'husband', 'hyderabad', 'hydroxychloroquine', 'hygiene', 'hygiene product', 'hygienic', 'hypermarket', 'hysteria', 'hyvee', 'ice', 'ice cream', 'iceland', 'icelandfoods', 'icis', 'icis coronavirus', 'icu', 'icymi', 'id', 'id like', 'idea', 'ideal', 'identified', 'identify', 'identity', 'idiot', 'ie', 'if', 'iga', 'ignorance', 'ignorant', 'ignore', 'ignored', 'ignoring', 'ikea', 'ill', 'illegal', 'illinois', 'illness', 'illustration', 'im', 'im going', 'im sure', 'im worried', 'image', 'imagine', 'immediate', 'immediately', 'immigrant', 'immune', 'immune system', 'immunity', 'immunocompromised', 'impact', 'impact consumer', 'impact coronavirus', 'impact covid', 'impact covid19', 'impact global', 'impact pandemic', 'impacted', 'impacted coronavirus', 'impacted covid19', 'impacting', 'impacting consumer', 'impacting online', 'impending', 'implement', 'implemented', 'implementing', 'implication', 'import', 'importance', 'important', 'important ever', 'important thing', 'importantly', 'imported', 'importer', 'impose', 'imposed', 'impossible', 'impressed', 'improve', 'improvement', 'in', 'inc', 'incentive', 'incident', 'incl', 'include', 'included', 'includes', 'including', 'income', 'increase', 'increase demand', 'increase due', 'increase food', 'increase online', 'increase price', 'increase production', 'increased', 'increased consumer', 'increased demand', 'increased price', 'increasing', 'increasing demand', 'increasing price', 'increasingly', 'incredible', 'incredibly', 'indeed', 'indefinitely', 'independent', 'index', 'india', 'indiafightscorona', 'indiafightscoronavirus', 'indian', 'indiana', 'indicating', 'indicative', 'individual', 'indoor', 'indoors', 'induced', 'industrial', 'industry', 'inevitable', 'infect', 'infected', 'infected covid19', 'infecting', 'infection', 'infectious', 'infectious disease', 'inflate', 'inflate price', 'inflated', 'inflated price', 'inflating', 'inflating price', 'inflation', 'influence', 'influx', 'info', 'infographic', 'inform', 'information', 'information consumer', 'information covid19', 'informed', 'infrastructure', 'ingredient', 'initial', 'initiative', 'inner', 'innovation', 'innovative', 'inperson', 'input', 'insane', 'insanity', 'insecurity', 'inside', 'inside grocery', 'inside store', 'inside supermarket', 'insider', 'insight', 'insight consumer', 'insight covid19', 'insightful', 'insist', 'inspiration', 'inspire', 'inspired', 'instacart', 'instagram', 'install', 'installed', 'instance', 'instant', 'instead', 'institute', 'institution', 'instore', 'instructed', 'instruction', 'insurance', 'insurance company', 'insurer', 'intelligence', 'intended', 'intensifies', 'intensive', 'intentionally', 'interact', 'interaction', 'interactive', 'interest', 'interest rate', 'interested', 'interesting', 'interesting article', 'interesting see', 'interim', 'internal', 'international', 'internet', 'intervention', 'interview', 'interviewed', 'inthistogether', 'introduce', 'introduced', 'introducing', 'inventory', 'invest', 'investigate', 'investigating', 'investigation', 'investing', 'investment', 'investor', 'inviting', 'involved', 'involves', 'involving', 'iorestoacasa', 'iot', 'iowa', 'iphone', 'iran', 'iraq', 'ireland', 'irish', 'irony', 'irresponsible', 'irvpaswan', 'is', 'island', 'isle', 'isnt', 'isolate', 'isolated', 'isolating', 'isolation', 'israel', 'issue', 'issued', 'issuing', 'it', 'it coronavirus', 'it covid19', 'it going', 'it good', 'it hard', 'it like', 'it ll', 'it time', 'italian', 'italy', 'italy wuhan', 'item', 'item grocery', 'item high', 'item like', 'item need', 'item people', 'item stock', 'item supermarket', 'itself', 'itvnews', 'ive', 'ive got', 'ive never', 'ive seen', 'jack', 'jack price', 'jacked', 'jacked price', 'jacking', 'jacking price', 'jail', 'james', 'jan', 'janatacurfew', 'janitor', 'january', 'japan', 'jason', 'jeff', 'jeffbezos', 'jerk', 'jersey', 'jesus', 'ji', 'job', 'job due', 'job loss', 'jobless', 'joe', 'joes', 'john', 'johnson', 'join', 'joined', 'joining', 'joint', 'joke', 'jones', 'jordan', 'journalist', 'journey', 'joy', 'judge', 'judging', 'juice', 'july', 'jump', 'jumped', 'june', 'june 30', 'junk', 'just', 'justice', 'justintrudeau', 'kaduna', 'kag', 'kansa', 'kantar', 'karen', 'karma', 'keep', 'keep business', 'keep customer', 'keep demand', 'keep distance', 'keep eye', 'keep family', 'keep food', 'keep going', 'keep hand', 'keep people', 'keep price', 'keep safe', 'keep shelf', 'keep social', 'keep staff', 'keep store', 'keep supermarket', 'keep supply', 'keep up', 'keeping', 'keeping country', 'keeping distance', 'keeping food', 'keeping safe', 'keeping shelf', 'keepyourdistance', 'kelly', 'kentucky', 'kenya', 'kenyan', 'kept', 'key', 'key consumer', 'key insight', 'key worker', 'keyworker', 'keyworkers', 'kg', 'khan', 'kick', 'kicked', 'kid', 'kid grocery', 'kill', 'kill coronavirus', 'killed', 'killer', 'killing', 'kimberly', 'kind', 'kinda', 'kindly', 'kindness', 'king', 'kingdom', 'kirana', 'kiss', 'kit', 'kitchen', 'kiwi', 'kn95', 'knew', 'knock', 'know', 'know coronavirus', 'know covid19', 'know much', 'know need', 'know people', 'know right', 'know someone', 'know what', 'knowing', 'knowledge', 'known', 'kong', 'korea', 'kroger', 'kudos', 'kuwait', 'la', 'la vega', 'lab', 'label', 'labor', 'laboratory', 'labour', 'lack', 'lady', 'lagos', 'lagos food', 'laid', 'lake', 'lakh', 'lamb', 'land', 'landlord', 'landscape', 'lane', 'language', 'laptop', 'large', 'largely', 'larger', 'largest', 'largest supermarket', 'last', 'last day', 'last month', 'last night', 'last thing', 'last time', 'last two', 'last week', 'last year', 'lasting', 'late', 'lately', 'later', 'latest', 'latest article', 'latest blog', 'latest consumer', 'latest coronavirus', 'latest covid19', 'latest news', 'latest report', 'latest update', 'latter', 'laugh', 'laughing', 'launch', 'launch new', 'launched', 'launching', 'laundry', 'laundry sanitizer', 'law', 'law enforcement', 'lawmaker', 'lawsuit', 'lawyer', 'lay', 'layer', 'layoff', 'lb', 'le', 'lead', 'leader', 'leadership', 'leading', 'leaf', 'learn', 'learn more', 'learned', 'learning', 'learnt', 'least', 'least 20', 'least 60', 'least four', 'least week', 'leave', 'leave home', 'leave house', 'leave policy', 'leaving', 'leaving home', 'leaving house', 'led', 'lee', 'left', 'left behind', 'left grocery', 'left house', 'left supermarket', 'leg', 'legal', 'legislation', 'leisure', 'lemon', 'lender', 'lending', 'lending small', 'length', 'lesson', 'let', 'let alone', 'let fight', 'let forget', 'let get', 'let go', 'let help', 'let hope', 'let keep', 'let know', 'let see', 'let take', 'letter', 'letting', 'lettuce', 'lettuce ridiculous', 'level', 'level since', 'leverage', 'library', 'licence', 'license', 'lick', 'licked', 'licking', 'lidl', 'lidlgb', 'lidlgb aldiuk', 'lie', 'lied', 'life', 'life coronavirus', 'life covid19', 'life risk', 'life saving', 'lifeline', 'lifesaving', 'lifestyle', 'lifetime', 'lift', 'lifted', 'light', 'light covid', 'light covid19', 'like', 'like coronavirus', 'like covid19', 'like crazy', 'like everyone', 'like food', 'like going', 'like grocery', 'like im', 'like it', 'like many', 'like me', 'like one', 'like supermarket', 'like thank', 'like these', 'like this', 'like toilet', 'like work', 'likely', 'limit', 'limit number', 'limit spread', 'limit trip', 'limited', 'limiting', 'limiting number', 'line', 'line coronavirus', 'line covid19', 'line get', 'line grocery', 'line outside', 'line supermarket', 'line waiting', 'line worker', 'linen', 'lineup', 'lingers', 'lining', 'link', 'link below', 'link bio', 'linked', 'liquid', 'liquidity', 'liquor', 'liquor store', 'list', 'listed', 'listen', 'listening', 'listing', 'literally', 'litre', 'little', 'little bit', 'live', 'live update', 'lived', 'livelihood', 'liverpool', 'livestock', 'living', 'living wage', 'lka', 'll', 'lmao', 'lng', 'load', 'loaded', 'loading', 'loaf', 'loaf bread', 'loan', 'lobby', 'loblaws', 'local', 'local business', 'local community', 'local farm', 'local food', 'local government', 'local grocery', 'local restaurant', 'local shop', 'local store', 'local supermarket', 'locally', 'located', 'location', 'lock', 'lock down', 'lockdown', 'lockdown coronavirus', 'lockdown covid19', 'lockdown due', 'lockdown people', 'lockdown quarantine', 'lockdown21', 'lockdowneffect', 'lockdownnow', 'lockdownuk', 'lockdownuknow', 'locked', 'locust', 'log', 'logistical', 'logistics', 'logo', 'lol', 'lol coronavirus', 'london', 'londonlockdown', 'lonely', 'long', 'long covid19', 'long line', 'long queue', 'long shift', 'long term', 'long time', 'long way', 'longer', 'longterm', 'loo', 'loo roll', 'look', 'look impact', 'look like', 'looked', 'looked like', 'looking', 'looking forward', 'looking like', 'looming', 'looroll', 'loose', 'looting', 'lord', 'lorry', 'los', 'los angeles', 'losangeles', 'lose', 'lose job', 'loses', 'losing', 'losing job', 'loss', 'lost', 'lost job', 'lot', 'lot food', 'lot money', 'lot people', 'lottery', 'louis', 'love', 'loved', 'loved one', 'lovely', 'loving', 'low', 'low coronavirus', 'low crude', 'low gas', 'low income', 'low oil', 'low price', 'lowe', 'lower', 'lower gas', 'lower income', 'lower oil', 'lower price', 'lowered', 'lowered price', 'lowering', 'lowes', 'lowest', 'lowest level', 'lowest price', 'loyal', 'lt', 'luck', 'luckily', 'lucky', 'lulu', 'lulu hypermarket', 'lunch', 'lung', 'luxury', 'lying', 'lysol', 'lysol laundry', 'machine', 'mad', 'made', 'madness', 'maga', 'maharashtra', 'mail', 'mailonline', 'main', 'mainly', 'maintain', 'maintain social', 'maintaining', 'maintenance', 'majeure', 'major', 'major consumer', 'major supermarket', 'majority', 'make', 'make big', 'make difference', 'make grocery', 'make hand', 'make money', 'make people', 'make quick', 'make sense', 'make sure', 'maker', 'making', 'making hand', 'making money', 'making sure', 'malaria', 'malaysia', 'malicious', 'mall', 'man', 'man charged', 'manage', 'managed', 'managed get', 'management', 'manager', 'managing', 'manchester', 'manchester meet', 'mandate', 'mandatory', 'mankind', 'manner', 'manufacture', 'manufacturer', 'manufacturing', 'many', 'many american', 'many business', 'many company', 'many family', 'many grocery', 'many home', 'many item', 'many others', 'many people', 'many store', 'many supermarket', 'many time', 'many way', 'map', 'mar', 'march', 'march 16', 'march 17', 'march 18', 'march 19th', 'march 20', 'march 2020', 'march 23', 'march coronavirus', 'march covid19', 'march due', 'margin', 'mark', 'marked', 'market', 'market amp', 'market authority', 'market basket', 'market coronavirus', 'market covid19', 'market crash', 'market due', 'market price', 'market update', 'marketcrash', 'marketer', 'marketing', 'marketplace', 'marketresearch', 'marking', 'marksandspencer', 'mart', 'martin', 'maryland', 'mask', 'mask 10', 'mask amp', 'mask coronavirus', 'mask covid19', 'mask glove', 'mask grocery', 'mask hand', 'mask medical', 'mask price', 'mask sanitizer', 'mask sanitizers', 'mask supermarket', 'masked', 'masks4all', 'mass', 'mass gathering', 'mass panic', 'massachusetts', 'massive', 'massively', 'match', 'mate', 'material', 'math', 'matt', 'matter', 'matthancock', 'max', 'maximum', 'may', 'may cause', 'may find', 'may need', 'may take', 'maybe', 'mayor', 'mb', 'mcdonalds', 'mckinsey', 'mco', 'md', 'me', 'meal', 'mean', 'mean people', 'meaning', 'meant', 'meantime', 'meanwhile', 'measure', 'measure help', 'measure place', 'measure taken', 'meat', 'mechanism', 'med', 'medical', 'medical care', 'medical equipment', 'medical professional', 'medical staff', 'medical supply', 'medical worker', 'medicare', 'medication', 'medicine', 'medium', 'medium consumption', 'medtwitter', 'meet', 'meet consumer', 'meet demand', 'meet increased', 'meet need', 'meeting', 'mega', 'melbourne', 'member', 'member staff', 'membership', 'meme', 'memory', 'men', 'mental', 'mental health', 'mentalhealth', 'mention', 'mentioned', 'menu', 'merchandise', 'merchant', 'merkel', 'mess', 'message', 'messaging', 'met', 'metal', 'meter', 'meter apart', 'method', 'metre', 'metre apart', 'metric', 'metro', 'mexico', 'miami', 'michael', 'michigan', 'mid', 'middle', 'middle class', 'middle east', 'midnight', 'midst', 'midst coronavirus', 'midst covid19', 'mifi', 'might', 'might get', 'might help', 'might need', 'migrant', 'mild', 'mile', 'military', 'milk', 'milk bread', 'milk egg', 'milk price', 'milkman', 'mill', 'millennials', 'million', 'million american', 'million barrel', 'million people', 'millionaire', 'min', 'mind', 'mindful', 'mindset', 'mine', 'miner', 'mini', 'minimal', 'minimise', 'minimize', 'minimum', 'minimum wage', 'mining', 'minister', 'ministry', 'ministry consumer', 'minnesota', 'minute', 'miracle', 'misery', 'misinformation', 'misleading', 'miss', 'missed', 'missing', 'mission', 'missouri', 'mistake', 'mitigate', 'mix', 'mixed', 'ml', 'mo', 'mobile', 'mobility', 'mode', 'model', 'modern', 'modi', 'mohfwindia', 'mom', 'moment', 'moment going', 'moment thank', 'monday', 'mondaymorning', 'mondaymotivation', 'mondaythoughts', 'monetary', 'money', 'money buy', 'money coronavirus', 'money food', 'money online', 'money stock', 'monitor', 'monitoring', 'monopoly', 'month', 'month ago', 'month coronavirus', 'monthly', 'mood', 'moody', 'moral', 'moratorium', 'more', 'more covid19', 'morning', 'morning supermarket', 'moron', 'morrison', 'mortar', 'mortgage', 'most', 'mostly', 'mother', 'mother day', 'mount', 'mountain', 'mounting', 'mouth', 'move', 'moved', 'movement', 'movie', 'moving', 'mp', 'mr', 'mrx', 'msnbc', 'much', 'much better', 'much food', 'much money', 'much needed', 'much possible', 'much toilet', 'much toiletpaper', 'much worse', 'multiple', 'mum', 'mumbai', 'murphy', 'museveni', 'music', 'musician', 'muslim', 'must', 'must go', 'must stay', 'my', 'myself', 'myth', 'n95', 'n95 mask', 'n95masks', 'na', 'nail', 'name', 'name shame', 'narendramodi', 'narendramodi pmoindia', 'nashville', 'nation', 'national', 'national crisis', 'national emergency', 'national guard', 'nationwide', 'nationwide lockdown', 'natural', 'natural gas', 'naturally', 'nature', 'navigate', 'navigating', 'nba', 'nbcnews', 'nc', 'near', 'near future', 'near you', 'nearby', 'nearest', 'nearest supermarket', 'nearly', 'necessarily', 'necessary', 'necessity', 'need', 'need anything', 'need assistance', 'need buy', 'need coronavirus', 'need covid19', 'need food', 'need get', 'need go', 'need grocery', 'need hand', 'need help', 'need hoard', 'need it', 'need keep', 'need know', 'need make', 'need mask', 'need money', 'need need', 'need panic', 'need please', 'need protect', 'need right', 'need something', 'need stay', 'need stock', 'need stop', 'need supply', 'need support', 'need survive', 'need take', 'need think', 'need to', 'need toilet', 'need work', 'need worry', 'needed', 'needing', 'needle', 'needy', 'negative', 'negatively', 'negotiation', 'neighbor', 'neighborhood', 'neighbour', 'neighbourhood', 'neither', 'nervous', 'net', 'netflix', 'netherlands', 'network', 'never', 'never know', 'never seen', 'never thought', 'new', 'new blog', 'new case', 'new consumer', 'new coronavirus', 'new covid19', 'new grocery', 'new jersey', 'new normal', 'new online', 'new post', 'new reality', 'new report', 'new research', 'new supermarket', 'new way', 'new world', 'new york', 'new yorkers', 'new zealand', 'newly', 'newnormal', 'news', 'news coronavirus', 'news covid19', 'newsletter', 'newspaper', 'newyork', 'newyorkcity', 'next', 'next day', 'next grocery', 'next month', 'next time', 'next two', 'next week', 'next year', 'nh', 'nh staff', 'nh supermarket', 'nh worker', 'nhscovidheroes', 'nhsheroes', 'nhsstaff', 'nhsuk', 'nhsworkers', 'nice', 'nice see', 'nielsen', 'nigeria', 'nigerian', 'night', 'night shift', 'nightmare', 'nike', 'nine', 'nj', 'no', 'nobody', 'nofood', 'non', 'non essential', 'none', 'nonessential', 'nonperishable', 'nonprofit', 'nonsense', 'noodle', 'noon', 'noon price', 'nope', 'norm', 'normal', 'normal price', 'normalcy', 'normally', 'north', 'north carolina', 'northern', 'nose', 'nose mouth', 'not', 'note', 'noted', 'nothing', 'nothing left', 'nothing wrong', 'notice', 'noticed', 'noticing', 'notification', 'novel', 'novel coronavirus', 'november', 'now', 'now coronavirus', 'now covid19', 'nowhere', 'nsitharaman', 'nsw', 'number', 'number case', 'number people', 'numerous', 'nurse', 'nurse doctor', 'nurse grocery', 'nursing', 'nursing home', 'nut', 'nutrition', 'ny', 'nyc', 'nygovcuomo', 'nyse', 'nytimes', 'nz', 'nzherald', 'object', 'obligation', 'observation', 'observe', 'observed', 'observing', 'obvious', 'obviously', 'ocado', 'occupancy', 'ocd', 'october', 'odd', 'of', 'off', 'offer', 'offer free', 'offer online', 'offered', 'offering', 'offering free', 'offering online', 'office', 'officer', 'official', 'official say', 'officially', 'offline', 'offset', 'often', 'oh', 'oh wait', 'ohio', 'oil', 'oil amp', 'oil company', 'oil demand', 'oil gas', 'oil industry', 'oil market', 'oil output', 'oil price', 'oil producer', 'oil production', 'oilandgas', 'oilprice', 'oilprices', 'oilpricewar', 'oilproducing', 'ok', 'okay', 'oklahoma', 'old', 'old lady', 'old man', 'old people', 'older', 'older people', 'oman', 'omg', 'on', 'on coronavirus', 'once', 'one', 'one another', 'one coronavirus', 'one day', 'one go', 'one grocery', 'one hour', 'one many', 'one need', 'one people', 'one person', 'one place', 'one supermarket', 'one thing', 'one time', 'one two', 'one want', 'one way', 'one week', 'one would', 'ongoing', 'ongoing coronavirus', 'ongoing covid19', 'onion', 'online', 'online amp', 'online consumer', 'online coronavirus', 'online covid19', 'online delivery', 'online food', 'online grocery', 'online order', 'online ordering', 'online purchase', 'online retailer', 'online sale', 'online shop', 'online shopping', 'online store', 'online supermarket', 'online today', 'online via', 'onlineshopping', 'only', 'onpoli', 'onset', 'ontario', 'onto', 'oott', 'op', 'opec', 'opec russia', 'open', 'open business', 'open covid19', 'open letter', 'opened', 'opening', 'opening hour', 'opening time', 'operate', 'operating', 'operation', 'operational', 'operator', 'opinion', 'opportunity', 'opposite', 'opposition', 'opt', 'optimism', 'optimistic', 'option', 'option available', 'or', 'orange', 'order', 'order coronavirus', 'order food', 'order grocery', 'order online', 'order prevent', 'order today', 'ordered', 'ordering', 'ordinary', 'oregon', 'org', 'organic', 'organisation', 'organised', 'organization', 'organized', 'original', 'other', 'others', 'others coronavirus', 'otherwise', 'ottawa', 'ounce', 'our', 'out', 'out coronavirus', 'out covid19', 'outbreak', 'outbreak coronavirus', 'outbreak covid19', 'outbreak read', 'outcome', 'outdoor', 'outfit', 'outlet', 'outline', 'outlook', 'output', 'output cut', 'outrageous', 'outside', 'outside grocery', 'outside home', 'outside local', 'outside supermarket', 'over', 'overall', 'overcharging', 'overcome', 'overheard', 'overnight', 'overseas', 'oversupply', 'overtime', 'overwhelmed', 'overwhelming', 'owe', 'own', 'owned', 'owner', 'owns', 'oz', 'pa', 'pace', 'pacific', 'pack', 'pack toilet', 'package', 'packaged', 'packaged good', 'packaging', 'packed', 'packet', 'pad', 'page', 'paid', 'paid leave', 'paid sick', 'pain', 'paint', 'pair', 'paisley', 'paisley free', 'pakistan', 'pandemia', 'pandemic', 'pandemic amp', 'pandemic caused', 'pandemic change', 'pandemic consumer', 'pandemic continues', 'pandemic coronavirus', 'pandemic could', 'pandemic covid', 'pandemic covid19', 'pandemic created', 'pandemic grocery', 'pandemic hit', 'pandemic impact', 'pandemic like', 'pandemic mean', 'pandemic new', 'pandemic over', 'pandemic people', 'pandemic price', 'pandemic read', 'pandemic retail', 'pandemic via', 'panel', 'panic', 'panic attack', 'panic bought', 'panic buy', 'panic buyer', 'panic buying', 'panic coronavirus', 'panic food', 'panic mode', 'panic shopping', 'panic stay', 'panic supermarket', 'panicbuy', 'panicbuyers', 'panicbuying', 'panicbuying coronavirus', 'panicbuying covid19', 'panicbuying toiletpaper', 'panicbuyinguk', 'panickbuying', 'panicked', 'panicking', 'panicshopping', 'pant', 'pantry', 'paper', 'paper amp', 'paper coronavirus', 'paper covid19', 'paper food', 'paper grocery', 'paper hand', 'paper need', 'paper paper', 'paper product', 'paper roll', 'paper shortage', 'paper stock', 'paper supermarket', 'paper toiletpaper', 'paper towel', 'papertowels', 'paracetamol', 'paramedic', 'paranoid', 'parcel', 'parent', 'park', 'parking', 'parking lot', 'parliament', 'part', 'part covid19', 'part help', 'part time', 'participating', 'particle', 'particular', 'particularly', 'partner', 'partnered', 'partnership', 'parttime', 'party', 'pas', 'pass', 'passed', 'passenger', 'passing', 'passover', 'past', 'past day', 'past month', 'past week', 'pasta', 'pasta rice', 'path', 'pathetic', 'patience', 'patient', 'patron', 'pattern', 'paul', 'pause', 'pay', 'pay bill', 'pay rent', 'paycheck', 'paying', 'payment', 'pc', 'pe', 'pea', 'peace', 'peak', 'peep', 'penalty', 'pennsylvania', 'penny', 'pension', 'pensioner', 'people', 'people across', 'people actually', 'people allowed', 'people amid', 'people amp', 'people around', 'people bought', 'people buy', 'people buying', 'people can', 'people cant', 'people come', 'people continue', 'people coronavirus', 'people could', 'people covid', 'people covid19', 'people die', 'people dont', 'people dying', 'people even', 'people every', 'people fear', 'people food', 'people get', 'people getting', 'people go', 'people going', 'people grocery', 'people hoard', 'people hoarding', 'people home', 'people keep', 'people life', 'people like', 'people living', 'people looking', 'people losing', 'people make', 'people making', 'people may', 'people need', 'people online', 'people panic', 'people people', 'people please', 'people really', 'people result', 'people risk', 'people saying', 'people see', 'people shop', 'people shopping', 'people stay', 'people staying', 'people still', 'people stock', 'people stocking', 'people stop', 'people store', 'people supermarket', 'people take', 'people taking', 'people think', 'people time', 'people trying', 'people use', 'people walking', 'people want', 'people wearing', 'people work', 'people worked', 'people working', 'people would', 'per', 'per barrel', 'per bottle', 'per cent', 'per customer', 'per day', 'per gallon', 'per household', 'per litre', 'per person', 'per week', 'percent', 'percentage', 'perception', 'perfect', 'perfect storm', 'perfect time', 'performance', 'perfume', 'perhaps', 'period', 'period time', 'perishable', 'permanent', 'permanently', 'permission', 'permitted', 'person', 'person per', 'personal', 'personal hygiene', 'personal information', 'personal protective', 'personally', 'personnel', 'perspective', 'pet', 'pet food', 'pet store', 'peter', 'petition', 'petition via', 'petrochemical', 'petrol', 'petrol diesel', 'petrol price', 'petrol station', 'petroleum', 'ph', 'pharma', 'pharmaceutical', 'pharmacist', 'pharmacy', 'pharmacy amp', 'pharmacy staff', 'pharmacy supermarket', 'pharmacy worker', 'phase', 'philippine', 'phishing', 'phishing scam', 'phone', 'phone call', 'photo', 'photography', 'physical', 'physical distancing', 'physicaldistancing', 'physically', 'pic', 'pick', 'pick up', 'picked', 'picking', 'pickup', 'pickup delivery', 'picture', 'piece', 'piersmorgan', 'pig', 'pile', 'piled', 'piling', 'piling food', 'pipeline', 'piss', 'pissed', 'pivot', 'pivoting', 'pizza', 'place', 'place coronavirus', 'place go', 'place like', 'place order', 'placed', 'placing', 'plague', 'plain', 'plan', 'planet', 'planned', 'planning', 'plant', 'planting', 'plastic', 'plastic bag', 'plate', 'platform', 'platform ticket', 'play', 'played', 'player', 'playing', 'plea', 'pleasant', 'please', 'please call', 'please check', 'please consider', 'please contact', 'please donate', 'please dont', 'please give', 'please go', 'please help', 'please keep', 'please kind', 'please let', 'please panic', 'please please', 'please read', 'please remember', 'please report', 'please retweet', 'please rt', 'please see', 'please share', 'please sign', 'please stay', 'please stop', 'please support', 'please take', 'please tell', 'please thank', 'please think', 'please use', 'please visit', 'pleased', 'pledge', 'pledge 100', 'plentiful', 'plenty', 'plenty food', 'plexiglas', 'pls', 'plummet', 'plummeted', 'plummeting', 'plummeting oil', 'plunge', 'plunged', 'plunging', 'plunging oil', 'plus', 'ply', 'plz', 'pm', 'pmoindia', 'pmoindia narendramodi', 'po', 'pocket', 'podcast', 'poetry', 'point', 'pointing', 'police', 'police officer', 'policy', 'policy response', 'polish', 'polite', 'political', 'politician', 'politics', 'poll', 'pollution', 'pool', 'poop', 'poor', 'poor people', 'pop', 'popped', 'popping', 'popular', 'population', 'pork', 'port', 'portal', 'portfolio', 'portion', 'pose', 'position', 'positive', 'positive coronavirus', 'positive covid', 'positive covid19', 'possibility', 'possible', 'possible impact', 'possibly', 'post', 'post coronavirus', 'post covid', 'post covid19', 'post office', 'postal', 'postal service', 'postal worker', 'postcoronavirus', 'postcovid19', 'posted', 'posting', 'postman', 'postpone', 'postponed', 'pot', 'potato', 'potential', 'potentially', 'potus', 'poultry', 'pound', 'poverty', 'powder', 'power', 'powerful', 'ppe', 'ppes', 'ppl', 'pr', 'practical', 'practice', 'practice social', 'practicing', 'practicing social', 'practicing socialdistancing', 'practise', 'practising', 'praise', 'praised', 'prank', 'pray', 'prayer', 'praying', 'pre', 'precaution', 'precautionary', 'precautionary measure', 'precious', 'precovid19', 'predict', 'predicted', 'prediction', 'predicts', 'prefer', 'preference', 'pregnant', 'pregnant woman', 'premier', 'premise', 'premium', 'prep', 'preparation', 'prepare', 'prepare possible', 'prepared', 'preparedness', 'preparing', 'pres', 'prescription', 'presence', 'present', 'preserve', 'president', 'president trump', 'press', 'press conference', 'press release', 'pressure', 'pretty', 'pretty much', 'pretty sure', 'prevailing', 'prevent', 'prevent coronavirus', 'prevent covid19', 'prevent spread', 'preventing', 'prevention', 'preventive', 'previous', 'previously', 'prey', 'price', 'price 10', 'price 19', 'price 25', 'price 30', 'price 50', 'price also', 'price amid', 'price amp', 'price basic', 'price collapse', 'price come', 'price commodity', 'price continue', 'price coronavirus', 'price could', 'price covid', 'price covid19', 'price covid2019', 'price crash', 'price crisis', 'price critical', 'price cut', 'price declined', 'price demand', 'price down', 'price drop', 'price dropped', 'price dropping', 'price drug', 'price due', 'price essential', 'price expected', 'price face', 'price fair', 'price fall', 'price falling', 'price fell', 'price food', 'price get', 'price global', 'price go', 'price going', 'price gone', 'price good', 'price gouging', 'price hand', 'price help', 'price high', 'price higher', 'price hike', 'price hiked', 'price hit', 'price hygiene', 'price increase', 'price increased', 'price item', 'price jump', 'price like', 'price likely', 'price low', 'price lower', 'price lowest', 'price make', 'price making', 'price march', 'price market', 'price mask', 'price may', 'price medical', 'price might', 'price new', 'price oil', 'price online', 'price pandemic', 'price people', 'price platform', 'price plummet', 'price plummeted', 'price plunge', 'price price', 'price product', 'price put', 'price read', 'price reduced', 'price remain', 'price rise', 'price risen', 'price rising', 'price rose', 'price set', 'price since', 'price skyrocket', 'price skyrocketing', 'price slump', 'price soap', 'price soar', 'price soaring', 'price start', 'price stay', 'price still', 'price stock', 'price supply', 'price surge', 'price time', 'price toilet', 'price trick', 'price tumble', 'price up', 'price vegetable', 'price via', 'price war', 'price went', 'price would', 'priced', 'pricegougers', 'pricegouging', 'pricing', 'primarily', 'primary', 'prime', 'prime minister', 'principle', 'print', 'printing', 'prior', 'prioritize', 'prioritizing', 'priority', 'priority online', 'prison', 'privacy', 'private', 'private sector', 'privilege', 'pro', 'proactive', 'probably', 'problem', 'procedure', 'proceeds', 'process', 'processed', 'processing', 'processor', 'procurement', 'produce', 'produce grocery', 'produce hand', 'produced', 'producer', 'producing', 'producing hand', 'product', 'product amp', 'product available', 'product cleaning', 'product like', 'product price', 'product service', 'production', 'production cut', 'productive', 'prof', 'professional', 'professor', 'profile', 'profit', 'profit covid19', 'profit low', 'profiteer', 'profiteering', 'profiting', 'program', 'progress', 'project', 'projected', 'promise', 'promised', 'promising', 'promote', 'promoting', 'promotion', 'prompt', 'prompted', 'proof', 'prop', 'proper', 'properly', 'property', 'property market', 'property price', 'proportion', 'proposal', 'propose', 'proposed', 'prosecuted', 'prospect', 'protect', 'protect consumer', 'protect coronavirus', 'protect covid19', 'protect employee', 'protect family', 'protect others', 'protect people', 'protect staff', 'protected', 'protecting', 'protection', 'protection act', 'protection bureau', 'protection division', 'protection law', 'protective', 'protective equipment', 'protective gear', 'protein', 'protest', 'protocol', 'proud', 'prove', 'proven', 'provide', 'provide food', 'provided', 'provider', 'provides', 'providing', 'providing consumer', 'province', 'proving', 'provision', 'psa', 'psychologist', 'psychology', 'pt', 'pub', 'public', 'public distribution', 'public health', 'public place', 'public service', 'public transport', 'publication', 'publichealth', 'publicly', 'published', 'publix', 'pull', 'pulled', 'pulling', 'pulse', 'pump', 'pump price', 'punch', 'pune', 'purchase', 'purchase food', 'purchase grocery', 'purchased', 'purchasing', 'pure', 'purell', 'purpose', 'push', 'pushed', 'pushing', 'pushing price', 'put', 'put food', 'put place', 'put price', 'put risk', 'put together', 'putin', 'putting', 'putting life', 'putting price', 'putting risk', 'puzzle', 'puzzle join', 'q1', 'q2', 'qampa', 'qanon', 'qatar', 'qualify', 'quality', 'quantity', 'quarantine', 'quarantine coronavirus', 'quarantine covid19', 'quarantine quarantinelife', 'quarantine toiletpaper', 'quarantineactivities', 'quarantineandchill', 'quarantined', 'quarantinediaries', 'quarantinelife', 'quarantinelife coronavirus', 'quaratinelife', 'quaratinelife coronavirus', 'quarentinelife', 'quarter', 'quarterly', 'que', 'quebec', 'queen', 'queensland', 'query', 'question', 'question answered', 'question coronavirus', 'questionable', 'queue', 'queue get', 'queue outside', 'queue supermarket', 'queued', 'queueing', 'queuing', 'queuing get', 'queuing supermarket', 'quick', 'quickly', 'quicktake', 'quiet', 'quit', 'quite', 'quote', 'quoted', 'race', 'racing', 'racism', 'racist', 'rack', 'radically', 'radio', 'raid', 'raiding', 'railway', 'rain', 'raise', 'raise price', 'raised', 'raised price', 'raising', 'raising price', 'rakamoto', 'rally', 'ram', 'ramp', 'ramping', 'ran', 'rancher', 'random', 'range', 'rant', 'rapid', 'rapidly', 'rare', 'rate', 'rather', 'rating', 'ration', 'ration food', 'rationed', 'rationing', 'raw', 'raw material', 'ray', 'rbi', 'rd', 're', 're going', 're seeing', 're working', 'reach', 'reached', 'reaching', 'react', 'reacting', 'reaction', 'read', 'read article', 'read at', 'read blog', 'read consumer', 'read full', 'read here', 'read latest', 'read more', 'read via', 'reader', 'readily', 'readily available', 'reading', 'ready', 'ready go', 'real', 'real estate', 'real hero', 'real time', 'realdonaldtrump', 'realestate', 'realise', 'realised', 'reality', 'realize', 'realized', 'really', 'really dont', 'really need', 'really simple', 'really want', 'realtime', 'realtor', 'reason', 'reasonable', 'reasonable price', 'reassure', 'rebound', 'receipt', 'receive', 'received', 'receiving', 'recent', 'recent day', 'recent week', 'recently', 'recession', 'recipe', 'recipient', 'reckon', 'recognize', 'recommend', 'recommendation', 'recommended', 'recommends', 'record', 'record low', 'recorded', 'recover', 'recovered', 'recovery', 'recruit', 'recruiting', 'recycling', 'red', 'redistribute', 'redistribution', 'reduce', 'reduce price', 'reduce risk', 'reduce spread', 'reduced', 'reduced price', 'reduces', 'reducing', 'reducing price', 'reduction', 'reeling', 'reference', 'reflect', 'reflects', 'reform', 'refrain', 'refrigerator', 'refugee', 'refund', 'refuse', 'refused', 'refusing', 'regard', 'regarding', 'regarding covid19', 'regardless', 'regime', 'region', 'regional', 'register', 'registered', 'registration', 'regular', 'regular price', 'regularly', 'regulate', 'regulated', 'regulation', 'regulator', 'regulatory', 'related', 'related coronavirus', 'related covid', 'related covid19', 'related scam', 'relating', 'relation', 'relationship', 'relative', 'relatively', 'relax', 'relaxed', 'release', 'released', 'relevant', 'reliable', 'reliance', 'relief', 'relief bill', 'relief check', 'relief effort', 'relief fund', 'relief package', 'relieve', 'rely', 'relying', 'remain', 'remain open', 'remained', 'remaining', 'remains', 'remains open', 'remember', 'remind', 'reminded', 'reminder', 'reminding', 'reminds', 'remote', 'remotely', 'remove', 'removed', 'removing', 'rent', 'rent freeze', 'rent price', 'rental', 'rental price', 'renter', 'renting', 'reopen', 'reopening', 'rep', 'repair', 'repayment', 'repeat', 'replace', 'replacement', 'replenish', 'reply', 'report', 'report coronavirus', 'report covid19', 'report first', 'report here', 'report price', 'report scam', 'reported', 'reportedly', 'reporter', 'reporting', 'repost', 'representative', 'representing', 'republican', 'request', 'requested', 'require', 'required', 'requirement', 'requires', 'rescue', 'research', 'researcher', 'reserve', 'reserved', 'reshaping', 'resident', 'residential', 'resilience', 'resilient', 'resist', 'resource', 'resource center', 'resource page', 'respect', 'respectful', 'respirator', 'respiratory', 'respond', 'responded', 'respondent', 'responder', 'responder grocery', 'responding', 'responding covid19', 'responds', 'response', 'response coronavirus', 'response covid', 'response covid19', 'response team', 'responsibility', 'responsible', 'responsibly', 'rest', 'restaurant', 'restaurant food', 'restaurant worker', 'restock', 'restock shelf', 'restocked', 'restocking', 'restrict', 'restricted', 'restricting', 'restriction', 'result', 'result coronavirus', 'result covid', 'result covid19', 'resulted', 'resulting', 'resume', 'retail', 'retail amp', 'retail business', 'retail consumer', 'retail coronavirus', 'retail covid19', 'retail employee', 'retail grocery', 'retail industry', 'retail location', 'retail price', 'retail sale', 'retail sector', 'retail shop', 'retail store', 'retail worker', 'retaildive', 'retailer', 'retailing', 'retailnews', 'retailtech', 'rethink', 'retirement', 'return', 'return normal', 'returned', 'returning', 'retweet', 'reusable', 'reusable bag', 'reuters', 'reveal', 'revealed', 'reveals', 'revenue', 'review', 'revised', 'revolution', 'reward', 'ri', 'rice', 'rich', 'richard', 'rid', 'ride', 'ridiculous', 'ridiculous fruit', 'ridiculous price', 'right', 'right coronavirus', 'right now', 'right thing', 'right time', 'rightly', 'ring', 'riot', 'rip', 'ripoff', 'ripped', 'ripping', 'ripple', 'rise', 'rise demand', 'rise price', 'risen', 'rishisunak', 'rising', 'rising demand', 'rising price', 'risk', 'risk catching', 'risk coronavirus', 'risk covid19', 'risk getting', 'risk group', 'risk health', 'risk spreading', 'risking', 'risking health', 'risking life', 'risky', 'rn', 'road', 'rob', 'robbery', 'robert', 'robocalls', 'robot', 'robust', 'rock', 'role', 'roll', 'roll coronavirus', 'roll hand', 'roll toilet', 'roll toiletpaper', 'rolled', 'rolling', 'rona', 'roof', 'room', 'rose', 'rot', 'rough', 'roughly', 'round', 'roundtable', 'roundup', 'route', 'routine', 'row', 'royal', 'rt', 'rub', 'rubber', 'rubbing', 'rubbing alcohol', 'rude', 'rule', 'rumor', 'rumour', 'run', 'run food', 'run grocery', 'run out', 'running', 'running around', 'running food', 'running low', 'rural', 'rush', 'rushing', 'russia', 'russia saudi', 'russian', 'rwanda', 'rx', 'sa', 'sacrifice', 'sad', 'sadly', 'safe', 'safe amp', 'safe coronavirus', 'safe covid19', 'safe distance', 'safe everyone', 'safe go', 'safe grocery', 'safe healthy', 'safe home', 'safe online', 'safe shopping', 'safe stay', 'safeguard', 'safely', 'safer', 'saferathome', 'safest', 'safety', 'safety measure', 'safety tip', 'safetyfirst', 'safeway', 'said', 'said coronavirus', 'said people', 'said tuesday', 'sainsbury', 'sainsburys', 'sainsburys asda', 'sainsburys morrison', 'sainsburys tesco', 'sake', 'salad', 'salary', 'sale', 'sale coronavirus', 'sale price', 'salon', 'salt', 'salute', 'sam', 'same', 'sample', 'sampp', 'san', 'san francisco', 'sanction', 'sandwich', 'sanitary', 'sanitation', 'sanitation worker', 'sanitiser', 'sanitiser price', 'sanitisers', 'sanitize', 'sanitize hand', 'sanitized', 'sanitizer', 'sanitizer additive', 'sanitizer amp', 'sanitizer available', 'sanitizer coronavirus', 'sanitizer covid19', 'sanitizer disinfectant', 'sanitizer face', 'sanitizer gel', 'sanitizer glove', 'sanitizer help', 'sanitizer home', 'sanitizer italy', 'sanitizer keep', 'sanitizer kill', 'sanitizer mask', 'sanitizer production', 'sanitizer soap', 'sanitizer spray', 'sanitizer toilet', 'sanitizer wipe', 'sanitizers', 'sanitizers mask', 'sanitizing', 'sanity', 'sars', 'sarscov2', 'sat', 'saturday', 'saturdaymorning', 'saturdaythoughts', 'sauce', 'saudi', 'saudi arabia', 'saudi russia', 'saudiarabia', 'saudiarabia russia', 'sausage', 'save', 'save life', 'save money', 'saved', 'saver', 'saving', 'saving life', 'saw', 'say', 'say consumer', 'say coronavirus', 'say covid19', 'say grocery', 'say need', 'say thank', 'say they', 'say theyre', 'saying', 'sb', 'sc', 'scale', 'scam', 'scam alert', 'scam coronavirus', 'scam covid19', 'scam ftc', 'scam related', 'scammer', 'scammer bay', 'scammer exploiting', 'scammer taking', 'scammer trying', 'scammer using', 'scarce', 'scarcity', 'scare', 'scared', 'scarf', 'scary', 'scenario', 'scene', 'scent', 'schedule', 'scheduled', 'scheme', 'school', 'school closed', 'school closure', 'school meal', 'science', 'scientist', 'scmpnews', 'score', 'scotland', 'scott', 'scottish', 'scottmorrisonmp', 'scramble', 'scrambling', 'screen', 'screening', 'screw', 'scrub', 'scum', 'se', 'sea', 'seafood', 'search', 'search data', 'searching', 'season', 'seat', 'seattle', 'sec', 'second', 'secret', 'secretary', 'section', 'sector', 'secure', 'security', 'security guard', 'see', 'see grocery', 'see it', 'see many', 'see need', 'see people', 'see price', 'see supermarket', 'seed', 'seeing', 'seeing people', 'seek', 'seeking', 'seem', 'seemed', 'seems', 'seems like', 'seen', 'segment', 'select', 'selected', 'selection', 'self', 'self checkout', 'self isolate', 'self isolating', 'self isolation', 'self quarantine', 'selfcare', 'selfish', 'selfish people', 'selfishness', 'selfisolate', 'selfisolating', 'selfisolation', 'selfquarantine', 'sell', 'seller', 'selling', 'selling hand', 'selling mask', 'selling toilet', 'sem', 'senate', 'senatemajldr', 'senator', 'send', 'sending', 'senior', 'senior citizen', 'senior hour', 'senior shopping', 'sense', 'sensible', 'sensitive', 'sent', 'sentence', 'sentiment', 'sentiment coronavirus', 'seo', 'separate', 'serf', 'series', 'serious', 'seriously', 'servant', 'serve', 'served', 'service', 'service amp', 'service covid19', 'service industry', 'service need', 'service provider', 'service worker', 'serving', 'session', 'set', 'set aside', 'set price', 'setting', 'settle', 'seven', 'several', 'severe', 'severely', 'severity', 'shake', 'shale', 'shall', 'shame', 'shame you', 'shameful', 'shape', 'share', 'share price', 'share profit', 'shared', 'shareholder', 'sharing', 'sharp', 'sharp decline', 'sharply', 'sharply march', 'shaw', 'she', 'shed', 'sheep', 'sheet', 'shelf', 'shelf amp', 'shelf bare', 'shelf coronavirus', 'shelf covid19', 'shelf empty', 'shelf food', 'shelf full', 'shelf grocery', 'shelf local', 'shelf stacker', 'shelf still', 'shelf stocked', 'shelf stripped', 'shelf supermarket', 'shelter', 'shelter place', 'shelterinplace', 'shes', 'shield', 'shift', 'shift consumer', 'shift online', 'shifted', 'shifting', 'shifting consumer', 'shine', 'ship', 'shipment', 'shipping', 'shirt', 'shit', 'shitty', 'shock', 'shocked', 'shocking', 'shoe', 'shoot', 'shooting', 'shop', 'shop closed', 'shop coronavirus', 'shop essential', 'shop food', 'shop grocery', 'shop local', 'shop online', 'shop open', 'shop owner', 'shop shopping', 'shop staff', 'shop store', 'shop supermarket', 'shop worker', 'shopkeeper', 'shoplocal', 'shoponline', 'shopped', 'shopper', 'shopping', 'shopping amid', 'shopping amp', 'shopping bag', 'shopping behavior', 'shopping behaviour', 'shopping cart', 'shopping centre', 'shopping consumer', 'shopping coronavirus', 'shopping covid19', 'shopping delivery', 'shopping done', 'shopping due', 'shopping experience', 'shopping food', 'shopping get', 'shopping grocery', 'shopping habit', 'shopping home', 'shopping hour', 'shopping increase', 'shopping like', 'shopping list', 'shopping local', 'shopping mall', 'shopping online', 'shopping option', 'shopping order', 'shopping platform', 'shopping please', 'shopping retail', 'shopping scam', 'shopping service', 'shopping slot', 'shopping store', 'shopping supermarket', 'shopping surge', 'shopping time', 'shopping today', 'shopping trip', 'shopping way', 'shoppingonline', 'shoprite', 'short', 'short supply', 'short term', 'shortage', 'shortage coronavirus', 'shortage due', 'shortage food', 'shortage panic', 'shortterm', 'shot', 'shoulder', 'shouldnt', 'shout', 'shoutout', 'show', 'showed', 'shower', 'showing', 'showing symptom', 'shown', 'sht', 'shut', 'shut down', 'shutdown', 'shutoffs', 'shuts', 'shuttered', 'shutting', 'sick', 'sick leave', 'sick pay', 'sick people', 'sickness', 'side', 'sight', 'sign', 'sign petition', 'signage', 'signal', 'signed', 'significant', 'significantly', 'signing', 'silly', 'silver', 'silver lining', 'similar', 'simple', 'simply', 'since', 'since beginning', 'since coronavirus', 'since covid19', 'since january', 'since outbreak', 'since start', 'singapore', 'singing', 'single', 'single cough', 'sink', 'sir', 'sister', 'sit', 'site', 'sitting', 'situation', 'situation providing', 'six', 'six foot', 'six month', 'size', 'sketch', 'skill', 'skin', 'skip', 'sky', 'skynews', 'skyrocket', 'skyrocket amid', 'skyrocketed', 'skyrocketing', 'skytv', 'skyuk', 'slam', 'slammed', 'slap', 'slash', 'slash price', 'slashed', 'slashing', 'slashing price', 'sleep', 'slide', 'slightly', 'slip', 'slot', 'slot available', 'slot week', 'slow', 'slow spread', 'slowdown', 'slowed', 'slowing', 'slowly', 'slows', 'slump', 'sm', 'small', 'small business', 'small town', 'smallbiz', 'smallbusiness', 'smaller', 'smart', 'smartphone', 'smell', 'smh', 'smile', 'smith', 'smm', 'smoke', 'smooth', 'snack', 'snap', 'snapshot', 'sneeze', 'sneezing', 'so', 'soap', 'soap amp', 'soap hand', 'soap sanitizer', 'soap water', 'soar', 'soaring', 'socal', 'social', 'social care', 'social distance', 'social distancing', 'social medium', 'social security', 'socialdistanacing', 'socialdistance', 'socialdistancing', 'socialdistancing coronavirus', 'socialdistancing covid19', 'socialdistancing supermarket', 'socialism', 'socially', 'socialmedia', 'society', 'soft', 'software', 'sold', 'sold out', 'soldier', 'solid', 'solidarity', 'solution', 'solve', 'solved', 'some', 'somebody', 'somehow', 'someone', 'someone else', 'someone know', 'someone work', 'something', 'sometimes', 'somewhat', 'somewhere', 'son', 'song', 'soon', 'sorry', 'sort', 'sought', 'soul', 'sound', 'sound like', 'soup', 'source', 'sourcing', 'south', 'south africa', 'south african', 'south korea', 'soybean', 'space', 'spain', 'spanish', 'spar', 'spare', 'spark', 'sparked', 'sparking', 'spat', 'speak', 'speak trained', 'speaker', 'speakerpelosi', 'speaking', 'speaks', 'special', 'special edition', 'special hour', 'specialist', 'specialist option', 'specially', 'specific', 'specifically', 'speech', 'speed', 'spell', 'spend', 'spend money', 'spend time', 'spending', 'spending habit', 'spending money', 'spending time', 'spent', 'spike', 'spike demand', 'spin', 'spirit', 'spit', 'spitting', 'split', 'spoke', 'sport', 'spot', 'spotted', 'spray', 'sprayed', 'spread', 'spread 19', 'spread across', 'spread coronavirus', 'spread covid', 'spread covid19', 'spread supermarket', 'spread virus', 'spread word', 'spreading', 'spreading coronavirus', 'spreading covid19', 'spreading virus', 'spree', 'spring', 'spur', 'spy', 'square', 'srilanka', 'ssa', 'ssupnow', 'st', 'stability', 'stabilize', 'stable', 'stacker', 'stacking', 'staff', 'staff amp', 'staff customer', 'staff delivery', 'staff grocery', 'staff member', 'staff supermarket', 'staff teacher', 'staff working', 'stage', 'staggering', 'stake', 'stakeholder', 'stall', 'stamp', 'stand', 'stand line', 'standard', 'standing', 'standing line', 'staple', 'star', 'star brad', 'starbucks', 'stare', 'stark', 'start', 'started', 'starting', 'starting march', 'starting see', 'starting today', 'startup', 'starvation', 'starve', 'starving', 'stash', 'state', 'state consumer', 'state emergency', 'state government', 'state governor', 'stated', 'statement', 'statewide', 'stating', 'station', 'station attendant', 'statistic', 'stats', 'status', 'stay', 'stay away', 'stay calm', 'stay fuck', 'stay healthy', 'stay home', 'stay indoors', 'stay inside', 'stay open', 'stay safe', 'stay tuned', 'stayathome', 'stayathome coronavirus', 'stayathome covid19', 'stayathome stayhome', 'stayathome staysafe', 'stayathomeandstaysafe', 'stayathomechallenge', 'stayathomeorder', 'stayathomesavelives', 'stayed', 'stayhealthy', 'stayhome', 'stayhome coronavirus', 'stayhome covid19', 'stayhome socialdistancing', 'stayhome stayathome', 'stayhome staysafe', 'stayhomechallenge', 'stayhomesavelives', 'stayhomesavelives coronavirus', 'stayhomesavelives covid19', 'stayhomestaysafe', 'staying', 'staying home', 'staying open', 'staying safe', 'staysafe', 'staysafe covid19', 'staysafe stayhome', 'staysafestayhome', 'staysafeug', 'staythefhome', 'steady', 'steal', 'stealing', 'steam', 'steel', 'steep', 'stem', 'step', 'step back', 'step protect', 'stepped', 'stepping', 'steve', 'stick', 'stick mifi', 'sticker', 'sticking', 'still', 'still able', 'still available', 'still dont', 'still get', 'still go', 'still going', 'still need', 'still open', 'still toilet', 'still work', 'still working', 'stimulus', 'stimulus check', 'stimulus package', 'stock', 'stock amp', 'stock coronavirus', 'stock covid19', 'stock enough', 'stock food', 'stock house', 'stock last', 'stock market', 'stock pantry', 'stock pile', 'stock piling', 'stock price', 'stock shelf', 'stock supermarket', 'stock up', 'stocked', 'stocked food', 'stocked price', 'stocked supermarket', 'stocker', 'stocking', 'stocking food', 'stocking shelf', 'stockmarket', 'stockpile', 'stockpiled', 'stockpilers', 'stockpiling', 'stockpiling food', 'stockpilinguk', 'stockup', 'stolen', 'stood', 'stop', 'stop amp', 'stop buying', 'stop coronavirus', 'stop covid19', 'stop hoarding', 'stop it', 'stop panic', 'stop panicbuying', 'stop selfish', 'stop spread', 'stop stockpiling', 'stophoarding', 'stophoarding coronacrisis', 'stophoarding coronavirus', 'stophoarding covid19', 'stophoarding panicbuyinguk', 'stophoarding stopstockpiling', 'stoppanicbuying', 'stoppanicbuying coronavirus', 'stopped', 'stopping', 'stopstockpiling', 'stopthespread', 'storage', 'store', 'store across', 'store aisle', 'store also', 'store amid', 'store amp', 'store associate', 'store buy', 'store cant', 'store cashier', 'store chain', 'store clerk', 'store close', 'store closed', 'store closing', 'store closure', 'store coronavirus', 'store covid19', 'store covid2019', 'store customer', 'store day', 'store dont', 'store due', 'store employee', 'store essential', 'store even', 'store every', 'store everyone', 'store executive', 'store find', 'store first', 'store food', 'store gas', 'store get', 'store go', 'store going', 'store grocery', 'store help', 'store hour', 'store it', 'store item', 'store keep', 'store last', 'store like', 'store line', 'store location', 'store look', 'store make', 'store manager', 'store may', 'store morning', 'store nashville', 'store near', 'store need', 'store offer', 'store one', 'store online', 'store open', 'store operation', 'store owner', 'store pandemic', 'store panic', 'store parking', 'store people', 'store pharmacy', 'store pick', 'store please', 'store produce', 'store remain', 'store restaurant', 'store retail', 'store right', 'store run', 'store running', 'store sale', 'store say', 'store see', 'store shelf', 'store shop', 'store shopping', 'store socialdistancing', 'store staff', 'store stay', 'store still', 'store stock', 'store stocked', 'store supermarket', 'store supply', 'store take', 'store temporarily', 'store time', 'store today', 'store toilet', 'store trip', 'store try', 'store two', 'store wearing', 'store week', 'store work', 'store worker', 'store would', 'store yesterday', 'storm', 'story', 'straight', 'strain', 'strained', 'stranded', 'strange', 'stranger', 'strategic', 'strategy', 'stream', 'streaming', 'street', 'strength', 'stress', 'stressed', 'stressful', 'strict', 'strictly', 'strike', 'strip', 'stripped', 'stripped bare', 'stripping', 'stripping supermarket', 'strong', 'stronger', 'strongly', 'struck', 'structure', 'struggle', 'struggled', 'struggling', 'struggling get', 'struggling keep', 'struggling meet', 'stuck', 'stuck home', 'stuck inside', 'student', 'student loan', 'study', 'stuff', 'stupid', 'stupidity', 'style', 'subject', 'submit', 'subscription', 'substantial', 'substitute', 'suburban', 'success', 'successful', 'suck', 'sudden', 'suddenly', 'suffer', 'suffering', 'sufficient', 'sugar', 'suggest', 'suggested', 'suggesting', 'suggestion', 'suggests', 'suit', 'sum', 'summary', 'summer', 'sun', 'sunday', 'sundaymorning', 'sundaythoughts', 'sunshine', 'super', 'super market', 'supermarket', 'supermarket 10', 'supermarket aisle', 'supermarket amid', 'supermarket amp', 'supermarket buy', 'supermarket car', 'supermarket cashier', 'supermarket chain', 'supermarket checkout', 'supermarket coronacrisis', 'supermarket coronavirus', 'supermarket covid19', 'supermarket covid2019', 'supermarket day', 'supermarket delivery', 'supermarket denmark', 'supermarket dont', 'supermarket due', 'supermarket employee', 'supermarket empty', 'supermarket essential', 'supermarket etc', 'supermarket first', 'supermarket food', 'supermarket full', 'supermarket get', 'supermarket giant', 'supermarket go', 'supermarket good', 'supermarket grocery', 'supermarket home', 'supermarket hour', 'supermarket last', 'supermarket let', 'supermarket like', 'supermarket line', 'supermarket make', 'supermarket morning', 'supermarket near', 'supermarket need', 'supermarket new', 'supermarket offer', 'supermarket one', 'supermarket open', 'supermarket opening', 'supermarket panic', 'supermarket people', 'supermarket pharmacy', 'supermarket please', 'supermarket queue', 'supermarket right', 'supermarket run', 'supermarket sale', 'supermarket say', 'supermarket see', 'supermarket shelf', 'supermarket shop', 'supermarket shopper', 'supermarket shopping', 'supermarket shortage', 'supermarket socialdistancing', 'supermarket staff', 'supermarket still', 'supermarket stock', 'supermarket store', 'supermarket supply', 'supermarket sweep', 'supermarket take', 'supermarket time', 'supermarket today', 'supermarket toilet', 'supermarket trip', 'supermarket trolley', 'supermarket try', 'supermarket uk', 'supermarket visit', 'supermarket voucher', 'supermarket walk', 'supermarket week', 'supermarket work', 'supermarket worker', 'supermarket yesterday', 'supplement', 'supplied', 'supplier', 'supply', 'supply amp', 'supply chain', 'supply consumer', 'supply coronavirus', 'supply covid19', 'supply demand', 'supply due', 'supply food', 'supply issue', 'supply item', 'supply last', 'supply like', 'supply need', 'supply shortage', 'supplychain', 'supplychains', 'supplying', 'support', 'support community', 'support covid19', 'support food', 'support local', 'support small', 'supported', 'supporter', 'supporting', 'supportlocal', 'suppose', 'supposed', 'sure', 'sure people', 'surely', 'surface', 'surge', 'surge demand', 'surge online', 'surged', 'surgical', 'surgical mask', 'surging', 'surging demand', 'surplus', 'surplus stock', 'surprise', 'surprised', 'surprising', 'surreal', 'surrounding', 'surrounding coronavirus', 'surrounding covid19', 'survey', 'survey consumer', 'surveyed', 'survival', 'survive', 'survive coronavirus', 'survive covid19', 'survived', 'surviving', 'survivor', 'susceptible', 'suspect', 'suspected', 'suspend', 'suspended', 'suspending', 'suspension', 'suspicious', 'sustainability', 'sustainable', 'swear', 'sweep', 'sweet', 'swing', 'swiss', 'switch', 'switched', 'switching', 'sydney', 'symbol', 'symptom', 'symptom covid19', 'system', 'table', 'tablet', 'tackle', 'tackling', 'tactic', 'tag', 'take', 'take action', 'take advantage', 'take away', 'take care', 'take covid19', 'take look', 'take moment', 'take need', 'take note', 'take step', 'take time', 'takeaway', 'taken', 'takeout', 'taking', 'taking advantage', 'taking care', 'taking covid19', 'taking seriously', 'taking step', 'talk', 'talked', 'talking', 'tank', 'tap', 'tape', 'target', 'targeted', 'targeting', 'tariff', 'task', 'task force', 'taste', 'taste hard', 'tata', 'taught', 'tax', 'taxi', 'taxpayer', 'tea', 'teach', 'teacher', 'teacher supermarket', 'team', 'tear', 'tearful', 'tech', 'technical', 'technician', 'technology', 'tee', 'teen', 'teenager', 'teenager coughing', 'telegraph', 'telehealth', 'telemedicine', 'telephone', 'television', 'tell', 'tell people', 'telling', 'temp', 'temperature', 'temporarily', 'temporarily close', 'temporarily closed', 'temporarily closing', 'temporary', 'ten', 'tenant', 'tennessee', 'tension', 'term', 'terminal', 'terrible', 'terrified', 'terrifying', 'territory', 'terror', 'terroristic', 'terroristic threat', 'tesco', 'tesco asda', 'tesco coronavirus', 'tesco morrison', 'tesco sainsburys', 'tescos', 'test', 'test kit', 'test positive', 'test vaccine', 'tested', 'tested covid19', 'tested positive', 'testing', 'testing covid19', 'testing kit', 'texan', 'texas', 'text', 'text message', 'tf', 'th', 'thailand', 'thank', 'thank doctor', 'thank everyone', 'thank god', 'thank grocery', 'thank healthcare', 'thank medical', 'thank much', 'thank supermarket', 'thank you', 'thanked', 'thankful', 'thankfully', 'thanking', 'thanks', 'thanks coronavirus', 'thanks covid19', 'thankyou', 'that', 'that covid19', 'thats', 'the', 'theater', 'theft', 'thehill', 'them', 'them coronavirus', 'theme', 'themselves', 'then', 'theory', 'therapy', 'there', 'there enough', 'there food', 'there lot', 'there need', 'there nothing', 'there plenty', 'there reason', 'there still', 'therefore', 'thermometer', 'these', 'they', 'they ll', 'they re', 'they ve', 'theyll', 'theyre', 'theyve', 'thin', 'thing', 'thing coronavirus', 'thing covid19', 'thing do', 'thing get', 'thing go', 'thing going', 'thing grocery', 'thing like', 'thing need', 'thing never', 'think', 'think coronavirus', 'think covid19', 'think google', 'think it', 'think need', 'think others', 'think people', 'think would', 'thinking', 'thinkwithgoogle', 'third', 'this', 'this coronavirus', 'this moment', 'tho', 'thoroughly', 'though', 'thought', 'thought would', 'thoughtful', 'thousand', 'thousand people', 'thread', 'threat', 'threaten', 'threatened', 'threatening', 'threatens', 'three', 'three day', 'three month', 'three week', 'threshold', 'threw', 'thrive', 'throat', 'through', 'throughout', 'throw', 'throw away', 'throwing', 'thrown', 'thru', 'thursday', 'thursdaythoughts', 'thus', 'ticket', 'ticket price', 'tie', 'tight', 'tiktok', 'til', 'till', 'tim', 'time', 'time amp', 'time buy', 'time come', 'time corona', 'time coronavirus', 'time covid', 'time covid19', 'time crisis', 'time day', 'time everyone', 'time get', 'time go', 'time grocery', 'time help', 'time home', 'time like', 'time many', 'time need', 'time normal', 'time online', 'time people', 'time please', 'time see', 'time since', 'time stock', 'time stop', 'time store', 'time supermarket', 'time thank', 'time think', 'time uncertainty', 'time week', 'timeline', 'timely', 'timing', 'tin', 'tinned', 'tiny', 'tip', 'tip avoid', 'tip help', 'tipping', 'tipping point', 'tire', 'tired', 'tirelessly', 'tissue', 'tissue paper', 'title', 'to', 'today', 'today announced', 'today coronavirus', 'today first', 'today grocery', 'today saw', 'today supermarket', 'today went', 'together', 'together help', 'togo', 'toilet', 'toilet paper', 'toilet roll', 'toilet tissue', 'toiletpaper', 'toiletpaper coronavirus', 'toiletpaper covid19', 'toiletpaper shortage', 'toiletpaper toiletpaperapocalypse', 'toiletpaper toiletpapercrisis', 'toiletpaper toiletpaperpanic', 'toiletpaper toiletroll', 'toiletpaper tp', 'toiletpaperapocalypse', 'toiletpaperapocalypse toiletpaper', 'toiletpaperapocalypse toiletpapercrisis', 'toiletpaperchallenge', 'toiletpapercrisis', 'toiletpapercrisis coronavirus', 'toiletpapercrisis toiletpaper', 'toiletpapercrisis toiletpaperpanic', 'toiletpaperemergency', 'toiletpapergate', 'toiletpaperpanic', 'toiletpaperpanic coronavirus', 'toiletpaperpanic toiletpaper', 'toiletpaperpanic toiletpaperapocalypse', 'toiletpapershortage', 'toiletpaperwars', 'toiletroll', 'toiletrollchallenge', 'toiletry', 'tokyo', 'told', 'toll', 'tom', 'tomato', 'tomorrow', 'ton', 'tonight', 'tonne', 'too', 'too coronavirus', 'took', 'tool', 'top', 'top priority', 'topic', 'toronto', 'total', 'totally', 'touch', 'touch face', 'touched', 'touching', 'tough', 'tough time', 'tougher', 'tour', 'tourism', 'tourist', 'toward', 'towards', 'towel', 'town', 'town hall', 'toxic', 'toy', 'tp', 'tp coronavirus', 'tp toiletpaper', 'track', 'tracker', 'tracking', 'trade', 'trade commission', 'trader', 'trader joe', 'trader joes', 'trading', 'trading standard', 'traditional', 'traffic', 'tragedy', 'train', 'trained', 'trained specialist', 'training', 'transaction', 'transfer', 'transformed', 'transit', 'transition', 'transmission', 'transmitted', 'transparency', 'transport', 'transportation', 'trash', 'travel', 'traveling', 'travelling', 'treat', 'treat covid19', 'treated', 'treating', 'treatment', 'treatment covid19', 'tree', 'tremendous', 'trend', 'trending', 'trial', 'trick', 'trick stop', 'tried', 'trigger', 'triggered', 'trillion', 'trip', 'trip grocery', 'trip supermarket', 'triple', 'tripled', 'trolley', 'troop', 'trouble', 'truce', 'truck', 'truck driver', 'trucker', 'trucking', 'true', 'truly', 'trump', 'trump coronavirus', 'trump said', 'trump say', 'trump2020', 'trumpvirus', 'trust', 'trusted', 'truth', 'try', 'try get', 'trying', 'trying buy', 'trying find', 'trying get', 'trying keep', 'trying make', 'trying take', 'trying time', 'tshirt', 'tube', 'tuesday', 'tuesdaythoughts', 'tumble', 'tumbled', 'tuna', 'tune', 'tuned', 'turbo', 'turbo hub', 'turbo stick', 'turkey', 'turmoil', 'turn', 'turned', 'turning', 'tv', 'twat', 'tweet', 'tweeted', 'tweeting', 'twice', 'twisted', 'twitter', 'two', 'two day', 'two month', 'two people', 'two week', 'two year', 'tx', 'type', 'typical', 'typically', 'uae', 'uber', 'uganda', 'ugh', 'ugly', 'uk', 'uk consumer', 'uk coronavirus', 'uk government', 'uk house', 'uk supermarket', 'ukchange', 'ukgoverment', 'uklockdown', 'ultimate', 'ultimately', 'un', 'unable', 'unable buy', 'unable get', 'unavailable', 'unbelievable', 'uncertain', 'uncertain time', 'uncertainty', 'underlying', 'underlying health', 'understand', 'understanding', 'undervalued', 'underway', 'unemployed', 'unemployment', 'unemployment rate', 'unexpected', 'unfair', 'unfortunately', 'unilever', 'union', 'unique', 'unit', 'united', 'united kingdom', 'united state', 'unitedstates', 'universal', 'university', 'unknown', 'unless', 'unlike', 'unlikely', 'unlimited', 'unnecessarily', 'unnecessary', 'unpaid', 'unprecedented', 'unprecedented demand', 'unprecedented time', 'unrest', 'unsafe', 'unscrupulous', 'unsung', 'unsung hero', 'unused', 'up', 'up coronavirus', 'upcoming', 'update', 'update consumer', 'update coronavirus', 'update covid19', 'updated', 'updating', 'upends', 'upon', 'upper', 'ups', 'upset', 'upside', 'uptick', 'uptodate', 'ur', 'urban', 'urge', 'urged', 'urgency', 'urgent', 'urgent need', 'urgently', 'urging', 'us', 'usa', 'usage', 'usatoday', 'usd', 'usda', 'use', 'use hand', 'use mask', 'use online', 'use sanitizer', 'used', 'useful', 'useless', 'user', 'usfda', 'using', 'using covid19', 'using hand', 'usps', 'usual', 'usually', 'utility', 'utter', 'utterly', 'uv', 'va', 'vacation', 'vaccine', 'vaccine treatment', 'valley', 'valuable', 'value', 'valued', 'van', 'vancouver', 'variety', 'various', 'vast', 've', 've got', 've never', 've seen', 'veg', 'veg price', 'vega', 'vegan', 'vegetable', 'vegetable fruit', 'vegetable price', 'veggie', 'vehicle', 'vendor', 'venezuela', 'ventilator', 'venture', 'venue', 'verbally', 'verify', 'vermont', 'version', 'very', 'via', 'via abcnews', 'via amazon', 'via googlenews', 'via mailonline', 'via mckinsey', 'via nzherald', 'via online', 'via ukchange', 'via wsj', 'via youtube', 'victim', 'victoria', 'victory', 'video', 'video game', 'video show', 'vietnam', 'view', 'vigilant', 'village', 'violation', 'violence', 'viral', 'virginia', 'virtual', 'virtual food', 'virtually', 'virus', 'virus coronavirus', 'virus covid19', 'virus pandemic', 'virus spread', 'visa', 'visit', 'visit grocery', 'visit supermarket', 'visit website', 'visited', 'visiting', 'visitor', 'vital', 'vitamin', 'vodafone', 'vodafoneuk', 'vodka', 'voice', 'volatile', 'volatility', 'volume', 'volunteer', 'vote', 'voted', 'voter', 'voting', 'voucher', 'vp', 'vulnerability', 'vulnerable', 'vulnerable covid19', 'vulnerable customer', 'vulnerable people', 'vulnerable population', 'wa', 'wage', 'wait', 'wait line', 'waiting', 'waiting get', 'waiting line', 'waitrose', 'waived', 'waiving', 'wake', 'wake coronavirus', 'wake covid', 'wake covid19', 'wale', 'walgreens', 'walk', 'walk grocery', 'walk supermarket', 'walked', 'walking', 'walking around', 'wall', 'wall street', 'wallet', 'walmart', 'walmart employee', 'walmart grocery', 'walmart trader', 'wanna', 'want', 'want buy', 'want get', 'want go', 'want hear', 'want help', 'want know', 'want say', 'want see', 'want take', 'want thank', 'wanted', 'wanting', 'war', 'ward', 'warehouse', 'warehouse worker', 'warehousing', 'warm', 'warn', 'warned', 'warning', 'warns', 'wash', 'wash hand', 'washed', 'washing', 'washing hand', 'washington', 'washington post', 'washington state', 'washingtonpost', 'washyourhands', 'wasnt', 'waste', 'waste food', 'wasted', 'wasting', 'watch', 'watch price', 'watch video', 'watchdog', 'watched', 'watching', 'water', 'water amp', 'water hand', 'wave', 'way', 'way consumer', 'way coronavirus', 'way covid19', 'way go', 'way grocery', 'way help', 'way home', 'way keep', 'way make', 'way people', 'way supermarket', 'way support', 'we', 'we ll', 'we re', 'we ve', 'weak', 'weakened', 'weaker', 'wealth', 'wealthy', 'weapon', 'wear', 'wear face', 'wear glove', 'wear mask', 'wearing', 'wearing face', 'wearing glove', 'wearing mask', 'weather', 'web', 'webinar', 'webpage', 'website', 'websitedesign', 'wed', 'wedding', 'wednesday', 'wednesdaythoughts', 'wednesdaywisdom', 'week', 'week ago', 'week coronavirus', 'week covid19', 'week due', 'week march', 'week time', 'week worth', 'weekend', 'weekly', 'weekly shop', 'wegmans', 'weighs', 'weight', 'weird', 'welcome', 'welfare', 'well', 'well coronavirus', 'well covid19', 'well done', 'well fargo', 'well stocked', 'wellbeing', 'wellness', 'went', 'went grocery', 'went local', 'went supermarket', 'were', 'wereinthistogether', 'west', 'western', 'wet', 'weve', 'wfh', 'whammy', 'what', 'what going', 'what happening', 'whatever', 'whats', 'whats going', 'whatsapp', 'wheat', 'wheel', 'when', 'whenever', 'where', 'wherever', 'whether', 'which', 'while', 'whilst', 'whiskey', 'white', 'white house', 'whitehouse', 'who', 'who ve', 'whoever', 'whole', 'whole family', 'whole food', 'whole world', 'wholefoods', 'wholesale', 'wholesale price', 'wholesaler', 'whose', 'why', 'wide', 'widely', 'widespread', 'wife', 'wife kimberly', 'wild', 'will', 'willing', 'win', 'wind', 'window', 'wine', 'winery', 'wing', 'winner', 'winning', 'winter', 'wipe', 'wipe hand', 'wiped', 'wiping', 'wire', 'wisconsin', 'wise', 'wish', 'wishing', 'with', 'within', 'without', 'without food', 'without mask', 'witness', 'witnessed', 'wks', 'wo', 'woe', 'woke', 'woman', 'woman front', 'woman intentionally', 'wonder', 'wonder many', 'wonderful', 'wondering', 'wont', 'wood', 'woolies', 'woolworth', 'woolworth cole', 'word', 'wore', 'work', 'work amp', 'work coronavirus', 'work covid19', 'work done', 'work due', 'work get', 'work grocery', 'work home', 'work keep', 'work retail', 'work supermarket', 'work today', 'work together', 'worked', 'worked walmart', 'worker', 'worker also', 'worker amp', 'worker beginning', 'worker coronavirus', 'worker covid19', 'worker delivery', 'worker deserve', 'worker died', 'worker emergency', 'worker essential', 'worker etc', 'worker first', 'worker food', 'worker front', 'worker get', 'worker getting', 'worker grocery', 'worker keeping', 'worker like', 'worker need', 'worker people', 'worker police', 'worker say', 'worker supermarket', 'worker tested', 'worker truck', 'worker work', 'workforce', 'workfromhome', 'working', 'working covid19', 'working front', 'working grocery', 'working hard', 'working home', 'working keep', 'working local', 'working retail', 'working supermarket', 'working tirelessly', 'working together', 'workingfromhome', 'workout', 'workplace', 'world', 'world biggest', 'world coronavirus', 'world covid19', 'world economy', 'world food', 'world health', 'world largest', 'world war', 'worldwide', 'worried', 'worry', 'worrying', 'worse', 'worst', 'worth', 'worth food', 'would', 'would expect', 'would good', 'would help', 'would like', 'would make', 'would never', 'would nice', 'would rather', 'would stop', 'would take', 'would thought', 'wouldnt', 'wow', 'wrapped', 'write', 'writes', 'writing', 'written', 'wrong', 'wrong people', 'wrote', 'wsj', 'wtf', 'wtf wrong', 'wti', 'wuhan', 'wuhan grocery', 'wuhancoronavirus', 'wuhanvirus', 'ya', 'yall', 'yeah', 'year', 'year ago', 'year coronavirus', 'year due', 'year low', 'year old', 'year year', 'yeast', 'yep', 'yes', 'yesterday', 'yet', 'yet another', 'yield', 'yo', 'york', 'york city', 'yorkers', 'you', 'you coronavirus', 'you covid19', 'youd', 'youll', 'young', 'younger', 'youre', 'yourself', 'yourselves', 'youth', 'youtube', 'youve', 'yoy', 'yr', 'yyc', 'zealand', 'zero', 'zimbabwe', 'zombie', 'zombie apocalypse', 'zone', 'zoom']\n"
          ]
        },
        {
          "output_type": "stream",
          "name": "stderr",
          "text": [
            "/usr/local/lib/python3.7/dist-packages/sklearn/utils/deprecation.py:87: FutureWarning: Function get_feature_names is deprecated; get_feature_names is deprecated in 1.0 and will be removed in 1.2. Please use get_feature_names_out instead.\n",
            "  warnings.warn(msg, category=FutureWarning)\n"
          ]
        }
      ]
    },
    {
      "cell_type": "code",
      "source": [
        "dictionary = tifid.vocabulary_.items()"
      ],
      "metadata": {
        "id": "j8JfEFEH0apF"
      },
      "execution_count": 126,
      "outputs": []
    },
    {
      "cell_type": "code",
      "source": [
        "data.head()"
      ],
      "metadata": {
        "colab": {
          "base_uri": "https://localhost:8080/",
          "height": 206
        },
        "id": "jgS_y7EO14by",
        "outputId": "436bda76-0f54-41cd-a04a-c7889e80fade"
      },
      "execution_count": 127,
      "outputs": [
        {
          "output_type": "execute_result",
          "data": {
            "text/plain": [
              "  UserName  ScreenName            Location     TweetAt  \\\n",
              "0     3799       48751              London  16-03-2020   \n",
              "1     3800       48752                  UK  16-03-2020   \n",
              "2     3801       48753           Vagabonds  16-03-2020   \n",
              "5     3804       48756  T 3631970882363649  16-03-2020   \n",
              "6     3805       48757    3592654178753267  16-03-2020   \n",
              "\n",
              "                                       OriginalTweet Sentiment  \\\n",
              "0  @MeNyrbie @Phil_Gahan @Chrisitv https://t.co/i...   Neutral   \n",
              "1  advice Talk to your neighbours family to excha...  Positive   \n",
              "2  Coronavirus Australia: Woolworths to give elde...  Positive   \n",
              "5  As news of the regionÂs first confirmed COVID...  Positive   \n",
              "6  Cashier at grocery store was sharing his insig...  Positive   \n",
              "\n",
              "                              Tokenize_OriginalTweet  \n",
              "0                        menyrbie philgahan chrisitv  \n",
              "1  advice talk neighbour family exchange phone nu...  \n",
              "2  coronavirus australia woolworth give elderly d...  \n",
              "5  news region first confirmed covid19 case came ...  \n",
              "6  cashier grocery store sharing insight covid19 ...  "
            ],
            "text/html": [
              "\n",
              "  <div id=\"df-86c33466-7194-49f6-95a7-b1e99af08b31\">\n",
              "    <div class=\"colab-df-container\">\n",
              "      <div>\n",
              "<style scoped>\n",
              "    .dataframe tbody tr th:only-of-type {\n",
              "        vertical-align: middle;\n",
              "    }\n",
              "\n",
              "    .dataframe tbody tr th {\n",
              "        vertical-align: top;\n",
              "    }\n",
              "\n",
              "    .dataframe thead th {\n",
              "        text-align: right;\n",
              "    }\n",
              "</style>\n",
              "<table border=\"1\" class=\"dataframe\">\n",
              "  <thead>\n",
              "    <tr style=\"text-align: right;\">\n",
              "      <th></th>\n",
              "      <th>UserName</th>\n",
              "      <th>ScreenName</th>\n",
              "      <th>Location</th>\n",
              "      <th>TweetAt</th>\n",
              "      <th>OriginalTweet</th>\n",
              "      <th>Sentiment</th>\n",
              "      <th>Tokenize_OriginalTweet</th>\n",
              "    </tr>\n",
              "  </thead>\n",
              "  <tbody>\n",
              "    <tr>\n",
              "      <th>0</th>\n",
              "      <td>3799</td>\n",
              "      <td>48751</td>\n",
              "      <td>London</td>\n",
              "      <td>16-03-2020</td>\n",
              "      <td>@MeNyrbie @Phil_Gahan @Chrisitv https://t.co/i...</td>\n",
              "      <td>Neutral</td>\n",
              "      <td>menyrbie philgahan chrisitv</td>\n",
              "    </tr>\n",
              "    <tr>\n",
              "      <th>1</th>\n",
              "      <td>3800</td>\n",
              "      <td>48752</td>\n",
              "      <td>UK</td>\n",
              "      <td>16-03-2020</td>\n",
              "      <td>advice Talk to your neighbours family to excha...</td>\n",
              "      <td>Positive</td>\n",
              "      <td>advice talk neighbour family exchange phone nu...</td>\n",
              "    </tr>\n",
              "    <tr>\n",
              "      <th>2</th>\n",
              "      <td>3801</td>\n",
              "      <td>48753</td>\n",
              "      <td>Vagabonds</td>\n",
              "      <td>16-03-2020</td>\n",
              "      <td>Coronavirus Australia: Woolworths to give elde...</td>\n",
              "      <td>Positive</td>\n",
              "      <td>coronavirus australia woolworth give elderly d...</td>\n",
              "    </tr>\n",
              "    <tr>\n",
              "      <th>5</th>\n",
              "      <td>3804</td>\n",
              "      <td>48756</td>\n",
              "      <td>T 3631970882363649</td>\n",
              "      <td>16-03-2020</td>\n",
              "      <td>As news of the regionÂs first confirmed COVID...</td>\n",
              "      <td>Positive</td>\n",
              "      <td>news region first confirmed covid19 case came ...</td>\n",
              "    </tr>\n",
              "    <tr>\n",
              "      <th>6</th>\n",
              "      <td>3805</td>\n",
              "      <td>48757</td>\n",
              "      <td>3592654178753267</td>\n",
              "      <td>16-03-2020</td>\n",
              "      <td>Cashier at grocery store was sharing his insig...</td>\n",
              "      <td>Positive</td>\n",
              "      <td>cashier grocery store sharing insight covid19 ...</td>\n",
              "    </tr>\n",
              "  </tbody>\n",
              "</table>\n",
              "</div>\n",
              "      <button class=\"colab-df-convert\" onclick=\"convertToInteractive('df-86c33466-7194-49f6-95a7-b1e99af08b31')\"\n",
              "              title=\"Convert this dataframe to an interactive table.\"\n",
              "              style=\"display:none;\">\n",
              "        \n",
              "  <svg xmlns=\"http://www.w3.org/2000/svg\" height=\"24px\"viewBox=\"0 0 24 24\"\n",
              "       width=\"24px\">\n",
              "    <path d=\"M0 0h24v24H0V0z\" fill=\"none\"/>\n",
              "    <path d=\"M18.56 5.44l.94 2.06.94-2.06 2.06-.94-2.06-.94-.94-2.06-.94 2.06-2.06.94zm-11 1L8.5 8.5l.94-2.06 2.06-.94-2.06-.94L8.5 2.5l-.94 2.06-2.06.94zm10 10l.94 2.06.94-2.06 2.06-.94-2.06-.94-.94-2.06-.94 2.06-2.06.94z\"/><path d=\"M17.41 7.96l-1.37-1.37c-.4-.4-.92-.59-1.43-.59-.52 0-1.04.2-1.43.59L10.3 9.45l-7.72 7.72c-.78.78-.78 2.05 0 2.83L4 21.41c.39.39.9.59 1.41.59.51 0 1.02-.2 1.41-.59l7.78-7.78 2.81-2.81c.8-.78.8-2.07 0-2.86zM5.41 20L4 18.59l7.72-7.72 1.47 1.35L5.41 20z\"/>\n",
              "  </svg>\n",
              "      </button>\n",
              "      \n",
              "  <style>\n",
              "    .colab-df-container {\n",
              "      display:flex;\n",
              "      flex-wrap:wrap;\n",
              "      gap: 12px;\n",
              "    }\n",
              "\n",
              "    .colab-df-convert {\n",
              "      background-color: #E8F0FE;\n",
              "      border: none;\n",
              "      border-radius: 50%;\n",
              "      cursor: pointer;\n",
              "      display: none;\n",
              "      fill: #1967D2;\n",
              "      height: 32px;\n",
              "      padding: 0 0 0 0;\n",
              "      width: 32px;\n",
              "    }\n",
              "\n",
              "    .colab-df-convert:hover {\n",
              "      background-color: #E2EBFA;\n",
              "      box-shadow: 0px 1px 2px rgba(60, 64, 67, 0.3), 0px 1px 3px 1px rgba(60, 64, 67, 0.15);\n",
              "      fill: #174EA6;\n",
              "    }\n",
              "\n",
              "    [theme=dark] .colab-df-convert {\n",
              "      background-color: #3B4455;\n",
              "      fill: #D2E3FC;\n",
              "    }\n",
              "\n",
              "    [theme=dark] .colab-df-convert:hover {\n",
              "      background-color: #434B5C;\n",
              "      box-shadow: 0px 1px 3px 1px rgba(0, 0, 0, 0.15);\n",
              "      filter: drop-shadow(0px 1px 2px rgba(0, 0, 0, 0.3));\n",
              "      fill: #FFFFFF;\n",
              "    }\n",
              "  </style>\n",
              "\n",
              "      <script>\n",
              "        const buttonEl =\n",
              "          document.querySelector('#df-86c33466-7194-49f6-95a7-b1e99af08b31 button.colab-df-convert');\n",
              "        buttonEl.style.display =\n",
              "          google.colab.kernel.accessAllowed ? 'block' : 'none';\n",
              "\n",
              "        async function convertToInteractive(key) {\n",
              "          const element = document.querySelector('#df-86c33466-7194-49f6-95a7-b1e99af08b31');\n",
              "          const dataTable =\n",
              "            await google.colab.kernel.invokeFunction('convertToInteractive',\n",
              "                                                     [key], {});\n",
              "          if (!dataTable) return;\n",
              "\n",
              "          const docLinkHtml = 'Like what you see? Visit the ' +\n",
              "            '<a target=\"_blank\" href=https://colab.research.google.com/notebooks/data_table.ipynb>data table notebook</a>'\n",
              "            + ' to learn more about interactive tables.';\n",
              "          element.innerHTML = '';\n",
              "          dataTable['output_type'] = 'display_data';\n",
              "          await google.colab.output.renderOutput(dataTable, element);\n",
              "          const docLink = document.createElement('div');\n",
              "          docLink.innerHTML = docLinkHtml;\n",
              "          element.appendChild(docLink);\n",
              "        }\n",
              "      </script>\n",
              "    </div>\n",
              "  </div>\n",
              "  "
            ]
          },
          "metadata": {},
          "execution_count": 127
        }
      ]
    },
    {
      "cell_type": "code",
      "source": [
        "\n",
        "\n",
        "def frecuncy_word(word_dict):\n",
        "  vocab = []\n",
        "  counts = []\n",
        "  for key, value in word_dict:\n",
        "    vocab.append(key)\n",
        "    counts.append(value)\n",
        "\n",
        "  word_df = pd.Series(counts, index = vocab)\n",
        "  word_df = word_df.sort_values(ascending=False)\n",
        "\n",
        "  top_vocab = word_df.head(20)\n",
        "  top_vocab.plot(kind = 'barh', figsize=(5,10))\n",
        "\n",
        "  \n",
        "  return top_vocab\n",
        "\n"
      ],
      "metadata": {
        "id": "Kw9w3DE88Nad"
      },
      "execution_count": 128,
      "outputs": []
    },
    {
      "cell_type": "code",
      "source": [
        "frecuncy_word(dictionary)"
      ],
      "metadata": {
        "colab": {
          "base_uri": "https://localhost:8080/",
          "height": 980
        },
        "id": "XcnbBQC-GlJk",
        "outputId": "e65b755d-8bb3-41e3-f0aa-b1c90e4c315e"
      },
      "execution_count": 129,
      "outputs": [
        {
          "output_type": "execute_result",
          "data": {
            "text/plain": [
              "zoom                 9175\n",
              "zone                 9174\n",
              "zombie apocalypse    9173\n",
              "zombie               9172\n",
              "zimbabwe             9171\n",
              "zero                 9170\n",
              "zealand              9169\n",
              "yyc                  9168\n",
              "yr                   9167\n",
              "yoy                  9166\n",
              "youve                9165\n",
              "youtube              9164\n",
              "youth                9163\n",
              "yourselves           9162\n",
              "yourself             9161\n",
              "youre                9160\n",
              "younger              9159\n",
              "young                9158\n",
              "youll                9157\n",
              "youd                 9156\n",
              "dtype: int64"
            ]
          },
          "metadata": {},
          "execution_count": 129
        },
        {
          "output_type": "display_data",
          "data": {
            "text/plain": [
              "<Figure size 360x720 with 1 Axes>"
            ],
            "image/png": "[encoded data removed]"
          },
          "metadata": {
            "needs_background": "light"
          }
        }
      ]
    },
    {
      "cell_type": "code",
      "source": [
        "#positive_sentiment\n",
        "postive = data[(data['Sentiment'] == 'Positive') | (data['Sentiment'] == 'Extremely Positive')]"
      ],
      "metadata": {
        "id": "p1K4H4LK178n"
      },
      "execution_count": 130,
      "outputs": []
    },
    {
      "cell_type": "code",
      "source": [
        "tifid.fit_transform(postive['Tokenize_OriginalTweet'].values)\n",
        "positive_dictionary = tifid.vocabulary_.items()"
      ],
      "metadata": {
        "id": "UiobO0Ir8KsK"
      },
      "execution_count": 131,
      "outputs": []
    },
    {
      "cell_type": "code",
      "source": [
        "frecuncy_word(positive_dictionary)"
      ],
      "metadata": {
        "colab": {
          "base_uri": "https://localhost:8080/",
          "height": 980
        },
        "id": "2i4dA80J-x5X",
        "outputId": "ebcd4b25-0a06-4548-8006-73a4c8e71ea9"
      },
      "execution_count": 132,
      "outputs": [
        {
          "output_type": "execute_result",
          "data": {
            "text/plain": [
              "zero           4644\n",
              "yr             4643\n",
              "youve          4642\n",
              "youtube        4641\n",
              "yourself       4640\n",
              "youre          4639\n",
              "young          4638\n",
              "youll          4637\n",
              "you covid19    4636\n",
              "you            4635\n",
              "york           4634\n",
              "yet            4633\n",
              "yesterday      4632\n",
              "yes            4631\n",
              "year old       4630\n",
              "year ago       4629\n",
              "year           4628\n",
              "yeah           4627\n",
              "yall           4626\n",
              "ya             4625\n",
              "dtype: int64"
            ]
          },
          "metadata": {},
          "execution_count": 132
        },
        {
          "output_type": "display_data",
          "data": {
            "text/plain": [
              "<Figure size 360x720 with 1 Axes>"
            ],
            "image/png": "[encoded data removed]"
          },
          "metadata": {
            "needs_background": "light"
          }
        }
      ]
    },
    {
      "cell_type": "code",
      "source": [
        "negative = data[(data['Sentiment'] == 'Negative') | (data['Sentiment'] == 'Extremely Negative')]"
      ],
      "metadata": {
        "id": "Llp4n8jy-4HQ"
      },
      "execution_count": 133,
      "outputs": []
    },
    {
      "cell_type": "code",
      "source": [
        "negative"
      ],
      "metadata": {
        "colab": {
          "base_uri": "https://localhost:8080/",
          "height": 423
        },
        "id": "uunMJ8bGEp8J",
        "outputId": "8cea0580-23e6-4a25-ae09-e9270a5ea5f5"
      },
      "execution_count": 134,
      "outputs": [
        {
          "output_type": "execute_result",
          "data": {
            "text/plain": [
              "      UserName  ScreenName                   Location     TweetAt  \\\n",
              "9         3808       48760            BHAVNAGARGUJRAT  16-03-2020   \n",
              "20        3819       48771       southampton soxx xxx  16-03-2020   \n",
              "24        3823       48775           Downstage centre  16-03-2020   \n",
              "26        3825       48777              Ketchum Idaho  16-03-2020   \n",
              "27        3826       48778         Everywhere You Are  16-03-2020   \n",
              "...        ...         ...                        ...         ...   \n",
              "41131    44930       89882                Accra Ghana  14-04-2020   \n",
              "41133    44932       89884                    Austria  14-04-2020   \n",
              "41147    44946       89898                Brooklyn NY  14-04-2020   \n",
              "41149    44948       89900            Toronto Ontario  14-04-2020   \n",
              "41156    44955       89907  i love you so much  hehim  14-04-2020   \n",
              "\n",
              "                                           OriginalTweet           Sentiment  \\\n",
              "9      For corona prevention,we should stop to buy th...            Negative   \n",
              "20     with 100  nations inficted with  covid  19  th...  Extremely Negative   \n",
              "24     @10DowningStreet @grantshapps what is being do...            Negative   \n",
              "26     In preparation for higher demand and a potenti...            Negative   \n",
              "27     This morning I tested positive for Covid 19. I...  Extremely Negative   \n",
              "...                                                  ...                 ...   \n",
              "41131  In every human affliction there are  gainers a...            Negative   \n",
              "41133  A Singaporean politician who slammed a woman s...  Extremely Negative   \n",
              "41147  YÂall really shitting that much more at home?...            Negative   \n",
              "41149  Still shocked by the number of #Toronto superm...            Negative   \n",
              "41156  @TartiiCat Well new/used Rift S are going for ...            Negative   \n",
              "\n",
              "                                  Tokenize_OriginalTweet  \n",
              "9      corona preventionwe stop buy thing cash use on...  \n",
              "20     100 nation inficted covid 19 world must play f...  \n",
              "24     10downingstreet grantshapps done ensure food e...  \n",
              "26     preparation higher demand potential food short...  \n",
              "27     morning tested positive covid 19 feel ok sympt...  \n",
              "...                                                  ...  \n",
              "41131  every human affliction gainer loser case covid...  \n",
              "41133  singaporean politician slammed woman snapped s...  \n",
              "41147  yall really shitting much home covid19 coronav...  \n",
              "41149  still shocked number toronto supermarket emplo...  \n",
              "41156  tartiicat well newused rift going 70000 amazon...  \n",
              "\n",
              "[12012 rows x 7 columns]"
            ],
            "text/html": [
              "\n",
              "  <div id=\"df-97408a09-5a0f-4ea0-81aa-0aeee3bd0fff\">\n",
              "    <div class=\"colab-df-container\">\n",
              "      <div>\n",
              "<style scoped>\n",
              "    .dataframe tbody tr th:only-of-type {\n",
              "        vertical-align: middle;\n",
              "    }\n",
              "\n",
              "    .dataframe tbody tr th {\n",
              "        vertical-align: top;\n",
              "    }\n",
              "\n",
              "    .dataframe thead th {\n",
              "        text-align: right;\n",
              "    }\n",
              "</style>\n",
              "<table border=\"1\" class=\"dataframe\">\n",
              "  <thead>\n",
              "    <tr style=\"text-align: right;\">\n",
              "      <th></th>\n",
              "      <th>UserName</th>\n",
              "      <th>ScreenName</th>\n",
              "      <th>Location</th>\n",
              "      <th>TweetAt</th>\n",
              "      <th>OriginalTweet</th>\n",
              "      <th>Sentiment</th>\n",
              "      <th>Tokenize_OriginalTweet</th>\n",
              "    </tr>\n",
              "  </thead>\n",
              "  <tbody>\n",
              "    <tr>\n",
              "      <th>9</th>\n",
              "      <td>3808</td>\n",
              "      <td>48760</td>\n",
              "      <td>BHAVNAGARGUJRAT</td>\n",
              "      <td>16-03-2020</td>\n",
              "      <td>For corona prevention,we should stop to buy th...</td>\n",
              "      <td>Negative</td>\n",
              "      <td>corona preventionwe stop buy thing cash use on...</td>\n",
              "    </tr>\n",
              "    <tr>\n",
              "      <th>20</th>\n",
              "      <td>3819</td>\n",
              "      <td>48771</td>\n",
              "      <td>southampton soxx xxx</td>\n",
              "      <td>16-03-2020</td>\n",
              "      <td>with 100  nations inficted with  covid  19  th...</td>\n",
              "      <td>Extremely Negative</td>\n",
              "      <td>100 nation inficted covid 19 world must play f...</td>\n",
              "    </tr>\n",
              "    <tr>\n",
              "      <th>24</th>\n",
              "      <td>3823</td>\n",
              "      <td>48775</td>\n",
              "      <td>Downstage centre</td>\n",
              "      <td>16-03-2020</td>\n",
              "      <td>@10DowningStreet @grantshapps what is being do...</td>\n",
              "      <td>Negative</td>\n",
              "      <td>10downingstreet grantshapps done ensure food e...</td>\n",
              "    </tr>\n",
              "    <tr>\n",
              "      <th>26</th>\n",
              "      <td>3825</td>\n",
              "      <td>48777</td>\n",
              "      <td>Ketchum Idaho</td>\n",
              "      <td>16-03-2020</td>\n",
              "      <td>In preparation for higher demand and a potenti...</td>\n",
              "      <td>Negative</td>\n",
              "      <td>preparation higher demand potential food short...</td>\n",
              "    </tr>\n",
              "    <tr>\n",
              "      <th>27</th>\n",
              "      <td>3826</td>\n",
              "      <td>48778</td>\n",
              "      <td>Everywhere You Are</td>\n",
              "      <td>16-03-2020</td>\n",
              "      <td>This morning I tested positive for Covid 19. I...</td>\n",
              "      <td>Extremely Negative</td>\n",
              "      <td>morning tested positive covid 19 feel ok sympt...</td>\n",
              "    </tr>\n",
              "    <tr>\n",
              "      <th>...</th>\n",
              "      <td>...</td>\n",
              "      <td>...</td>\n",
              "      <td>...</td>\n",
              "      <td>...</td>\n",
              "      <td>...</td>\n",
              "      <td>...</td>\n",
              "      <td>...</td>\n",
              "    </tr>\n",
              "    <tr>\n",
              "      <th>41131</th>\n",
              "      <td>44930</td>\n",
              "      <td>89882</td>\n",
              "      <td>Accra Ghana</td>\n",
              "      <td>14-04-2020</td>\n",
              "      <td>In every human affliction there are  gainers a...</td>\n",
              "      <td>Negative</td>\n",
              "      <td>every human affliction gainer loser case covid...</td>\n",
              "    </tr>\n",
              "    <tr>\n",
              "      <th>41133</th>\n",
              "      <td>44932</td>\n",
              "      <td>89884</td>\n",
              "      <td>Austria</td>\n",
              "      <td>14-04-2020</td>\n",
              "      <td>A Singaporean politician who slammed a woman s...</td>\n",
              "      <td>Extremely Negative</td>\n",
              "      <td>singaporean politician slammed woman snapped s...</td>\n",
              "    </tr>\n",
              "    <tr>\n",
              "      <th>41147</th>\n",
              "      <td>44946</td>\n",
              "      <td>89898</td>\n",
              "      <td>Brooklyn NY</td>\n",
              "      <td>14-04-2020</td>\n",
              "      <td>YÂall really shitting that much more at home?...</td>\n",
              "      <td>Negative</td>\n",
              "      <td>yall really shitting much home covid19 coronav...</td>\n",
              "    </tr>\n",
              "    <tr>\n",
              "      <th>41149</th>\n",
              "      <td>44948</td>\n",
              "      <td>89900</td>\n",
              "      <td>Toronto Ontario</td>\n",
              "      <td>14-04-2020</td>\n",
              "      <td>Still shocked by the number of #Toronto superm...</td>\n",
              "      <td>Negative</td>\n",
              "      <td>still shocked number toronto supermarket emplo...</td>\n",
              "    </tr>\n",
              "    <tr>\n",
              "      <th>41156</th>\n",
              "      <td>44955</td>\n",
              "      <td>89907</td>\n",
              "      <td>i love you so much  hehim</td>\n",
              "      <td>14-04-2020</td>\n",
              "      <td>@TartiiCat Well new/used Rift S are going for ...</td>\n",
              "      <td>Negative</td>\n",
              "      <td>tartiicat well newused rift going 70000 amazon...</td>\n",
              "    </tr>\n",
              "  </tbody>\n",
              "</table>\n",
              "<p>12012 rows × 7 columns</p>\n",
              "</div>\n",
              "      <button class=\"colab-df-convert\" onclick=\"convertToInteractive('df-97408a09-5a0f-4ea0-81aa-0aeee3bd0fff')\"\n",
              "              title=\"Convert this dataframe to an interactive table.\"\n",
              "              style=\"display:none;\">\n",
              "        \n",
              "  <svg xmlns=\"http://www.w3.org/2000/svg\" height=\"24px\"viewBox=\"0 0 24 24\"\n",
              "       width=\"24px\">\n",
              "    <path d=\"M0 0h24v24H0V0z\" fill=\"none\"/>\n",
              "    <path d=\"M18.56 5.44l.94 2.06.94-2.06 2.06-.94-2.06-.94-.94-2.06-.94 2.06-2.06.94zm-11 1L8.5 8.5l.94-2.06 2.06-.94-2.06-.94L8.5 2.5l-.94 2.06-2.06.94zm10 10l.94 2.06.94-2.06 2.06-.94-2.06-.94-.94-2.06-.94 2.06-2.06.94z\"/><path d=\"M17.41 7.96l-1.37-1.37c-.4-.4-.92-.59-1.43-.59-.52 0-1.04.2-1.43.59L10.3 9.45l-7.72 7.72c-.78.78-.78 2.05 0 2.83L4 21.41c.39.39.9.59 1.41.59.51 0 1.02-.2 1.41-.59l7.78-7.78 2.81-2.81c.8-.78.8-2.07 0-2.86zM5.41 20L4 18.59l7.72-7.72 1.47 1.35L5.41 20z\"/>\n",
              "  </svg>\n",
              "      </button>\n",
              "      \n",
              "  <style>\n",
              "    .colab-df-container {\n",
              "      display:flex;\n",
              "      flex-wrap:wrap;\n",
              "      gap: 12px;\n",
              "    }\n",
              "\n",
              "    .colab-df-convert {\n",
              "      background-color: #E8F0FE;\n",
              "      border: none;\n",
              "      border-radius: 50%;\n",
              "      cursor: pointer;\n",
              "      display: none;\n",
              "      fill: #1967D2;\n",
              "      height: 32px;\n",
              "      padding: 0 0 0 0;\n",
              "      width: 32px;\n",
              "    }\n",
              "\n",
              "    .colab-df-convert:hover {\n",
              "      background-color: #E2EBFA;\n",
              "      box-shadow: 0px 1px 2px rgba(60, 64, 67, 0.3), 0px 1px 3px 1px rgba(60, 64, 67, 0.15);\n",
              "      fill: #174EA6;\n",
              "    }\n",
              "\n",
              "    [theme=dark] .colab-df-convert {\n",
              "      background-color: #3B4455;\n",
              "      fill: #D2E3FC;\n",
              "    }\n",
              "\n",
              "    [theme=dark] .colab-df-convert:hover {\n",
              "      background-color: #434B5C;\n",
              "      box-shadow: 0px 1px 3px 1px rgba(0, 0, 0, 0.15);\n",
              "      filter: drop-shadow(0px 1px 2px rgba(0, 0, 0, 0.3));\n",
              "      fill: #FFFFFF;\n",
              "    }\n",
              "  </style>\n",
              "\n",
              "      <script>\n",
              "        const buttonEl =\n",
              "          document.querySelector('#df-97408a09-5a0f-4ea0-81aa-0aeee3bd0fff button.colab-df-convert');\n",
              "        buttonEl.style.display =\n",
              "          google.colab.kernel.accessAllowed ? 'block' : 'none';\n",
              "\n",
              "        async function convertToInteractive(key) {\n",
              "          const element = document.querySelector('#df-97408a09-5a0f-4ea0-81aa-0aeee3bd0fff');\n",
              "          const dataTable =\n",
              "            await google.colab.kernel.invokeFunction('convertToInteractive',\n",
              "                                                     [key], {});\n",
              "          if (!dataTable) return;\n",
              "\n",
              "          const docLinkHtml = 'Like what you see? Visit the ' +\n",
              "            '<a target=\"_blank\" href=https://colab.research.google.com/notebooks/data_table.ipynb>data table notebook</a>'\n",
              "            + ' to learn more about interactive tables.';\n",
              "          element.innerHTML = '';\n",
              "          dataTable['output_type'] = 'display_data';\n",
              "          await google.colab.output.renderOutput(dataTable, element);\n",
              "          const docLink = document.createElement('div');\n",
              "          docLink.innerHTML = docLinkHtml;\n",
              "          element.appendChild(docLink);\n",
              "        }\n",
              "      </script>\n",
              "    </div>\n",
              "  </div>\n",
              "  "
            ]
          },
          "metadata": {},
          "execution_count": 134
        }
      ]
    },
    {
      "cell_type": "code",
      "source": [
        "\n",
        "tifid.fit_transform(negative['Tokenize_OriginalTweet'].values)"
      ],
      "metadata": {
        "colab": {
          "base_uri": "https://localhost:8080/"
        },
        "id": "EV-znNpDEU0n",
        "outputId": "cb1eb16c-ed6b-4a14-cb28-152b97d04e01"
      },
      "execution_count": 135,
      "outputs": [
        {
          "output_type": "execute_result",
          "data": {
            "text/plain": [
              "<12012x4022 sparse matrix of type '<class 'numpy.float64'>'\n",
              "\twith 207752 stored elements in Compressed Sparse Row format>"
            ]
          },
          "metadata": {},
          "execution_count": 135
        }
      ]
    },
    {
      "cell_type": "code",
      "source": [
        "negative_dictionary = tifid.vocabulary_.items()"
      ],
      "metadata": {
        "id": "0GR0xspN_7wE"
      },
      "execution_count": 136,
      "outputs": []
    },
    {
      "cell_type": "code",
      "source": [
        "frecuncy_word(negative_dictionary)"
      ],
      "metadata": {
        "colab": {
          "base_uri": "https://localhost:8080/",
          "height": 980
        },
        "id": "3DIwUpweECqU",
        "outputId": "48c473a2-14c6-40c9-ce3c-262e294d3e2c"
      },
      "execution_count": 137,
      "outputs": [
        {
          "output_type": "execute_result",
          "data": {
            "text/plain": [
              "zone          4021\n",
              "zombie        4020\n",
              "zero          4019\n",
              "yr            4018\n",
              "youtube       4017\n",
              "yourself      4016\n",
              "youre         4015\n",
              "young         4014\n",
              "youll         4013\n",
              "you           4012\n",
              "york          4011\n",
              "yo            4010\n",
              "yet           4009\n",
              "yesterday     4008\n",
              "yes           4007\n",
              "year old      4006\n",
              "year          4005\n",
              "yall          4004\n",
              "ya            4003\n",
              "wuhanvirus    4002\n",
              "dtype: int64"
            ]
          },
          "metadata": {},
          "execution_count": 137
        },
        {
          "output_type": "display_data",
          "data": {
            "text/plain": [
              "<Figure size 360x720 with 1 Axes>"
            ],
            "image/png": "[encoded data removed]"
          },
          "metadata": {
            "needs_background": "light"
          }
        }
      ]
    },
    {
      "cell_type": "code",
      "source": [
        "data"
      ],
      "metadata": {
        "colab": {
          "base_uri": "https://localhost:8080/",
          "height": 423
        },
        "id": "qk4HDGR25nYB",
        "outputId": "6b8b68ab-597e-4859-c117-5f86b41a8d62"
      },
      "execution_count": 138,
      "outputs": [
        {
          "output_type": "execute_result",
          "data": {
            "text/plain": [
              "      UserName  ScreenName                     Location     TweetAt  \\\n",
              "0         3799       48751                       London  16-03-2020   \n",
              "1         3800       48752                           UK  16-03-2020   \n",
              "2         3801       48753                    Vagabonds  16-03-2020   \n",
              "5         3804       48756           T 3631970882363649  16-03-2020   \n",
              "6         3805       48757             3592654178753267  16-03-2020   \n",
              "...        ...         ...                          ...         ...   \n",
              "41147    44946       89898                  Brooklyn NY  14-04-2020   \n",
              "41149    44948       89900              Toronto Ontario  14-04-2020   \n",
              "41150    44949       89901                         OHIO  14-04-2020   \n",
              "41152    44951       89903  Wellington City New Zealand  14-04-2020   \n",
              "41156    44955       89907    i love you so much  hehim  14-04-2020   \n",
              "\n",
              "                                           OriginalTweet Sentiment  \\\n",
              "0      @MeNyrbie @Phil_Gahan @Chrisitv https://t.co/i...   Neutral   \n",
              "1      advice Talk to your neighbours family to excha...  Positive   \n",
              "2      Coronavirus Australia: Woolworths to give elde...  Positive   \n",
              "5      As news of the regionÂs first confirmed COVID...  Positive   \n",
              "6      Cashier at grocery store was sharing his insig...  Positive   \n",
              "...                                                  ...       ...   \n",
              "41147  YÂall really shitting that much more at home?...  Negative   \n",
              "41149  Still shocked by the number of #Toronto superm...  Negative   \n",
              "41150  I never that weÂd be in a situation &amp; wor...  Positive   \n",
              "41152  Airline pilots offering to stock supermarket s...   Neutral   \n",
              "41156  @TartiiCat Well new/used Rift S are going for ...  Negative   \n",
              "\n",
              "                                  Tokenize_OriginalTweet  \n",
              "0                            menyrbie philgahan chrisitv  \n",
              "1      advice talk neighbour family exchange phone nu...  \n",
              "2      coronavirus australia woolworth give elderly d...  \n",
              "5      news region first confirmed covid19 case came ...  \n",
              "6      cashier grocery store sharing insight covid19 ...  \n",
              "...                                                  ...  \n",
              "41147  yall really shitting much home covid19 coronav...  \n",
              "41149  still shocked number toronto supermarket emplo...  \n",
              "41150  never wed situation amp world going supermarke...  \n",
              "41152  airline pilot offering stock supermarket shelf...  \n",
              "41156  tartiicat well newused rift going 70000 amazon...  \n",
              "\n",
              "[32567 rows x 7 columns]"
            ],
            "text/html": [
              "\n",
              "  <div id=\"df-53a10c69-aed3-4fec-a9af-3acaa7932416\">\n",
              "    <div class=\"colab-df-container\">\n",
              "      <div>\n",
              "<style scoped>\n",
              "    .dataframe tbody tr th:only-of-type {\n",
              "        vertical-align: middle;\n",
              "    }\n",
              "\n",
              "    .dataframe tbody tr th {\n",
              "        vertical-align: top;\n",
              "    }\n",
              "\n",
              "    .dataframe thead th {\n",
              "        text-align: right;\n",
              "    }\n",
              "</style>\n",
              "<table border=\"1\" class=\"dataframe\">\n",
              "  <thead>\n",
              "    <tr style=\"text-align: right;\">\n",
              "      <th></th>\n",
              "      <th>UserName</th>\n",
              "      <th>ScreenName</th>\n",
              "      <th>Location</th>\n",
              "      <th>TweetAt</th>\n",
              "      <th>OriginalTweet</th>\n",
              "      <th>Sentiment</th>\n",
              "      <th>Tokenize_OriginalTweet</th>\n",
              "    </tr>\n",
              "  </thead>\n",
              "  <tbody>\n",
              "    <tr>\n",
              "      <th>0</th>\n",
              "      <td>3799</td>\n",
              "      <td>48751</td>\n",
              "      <td>London</td>\n",
              "      <td>16-03-2020</td>\n",
              "      <td>@MeNyrbie @Phil_Gahan @Chrisitv https://t.co/i...</td>\n",
              "      <td>Neutral</td>\n",
              "      <td>menyrbie philgahan chrisitv</td>\n",
              "    </tr>\n",
              "    <tr>\n",
              "      <th>1</th>\n",
              "      <td>3800</td>\n",
              "      <td>48752</td>\n",
              "      <td>UK</td>\n",
              "      <td>16-03-2020</td>\n",
              "      <td>advice Talk to your neighbours family to excha...</td>\n",
              "      <td>Positive</td>\n",
              "      <td>advice talk neighbour family exchange phone nu...</td>\n",
              "    </tr>\n",
              "    <tr>\n",
              "      <th>2</th>\n",
              "      <td>3801</td>\n",
              "      <td>48753</td>\n",
              "      <td>Vagabonds</td>\n",
              "      <td>16-03-2020</td>\n",
              "      <td>Coronavirus Australia: Woolworths to give elde...</td>\n",
              "      <td>Positive</td>\n",
              "      <td>coronavirus australia woolworth give elderly d...</td>\n",
              "    </tr>\n",
              "    <tr>\n",
              "      <th>5</th>\n",
              "      <td>3804</td>\n",
              "      <td>48756</td>\n",
              "      <td>T 3631970882363649</td>\n",
              "      <td>16-03-2020</td>\n",
              "      <td>As news of the regionÂs first confirmed COVID...</td>\n",
              "      <td>Positive</td>\n",
              "      <td>news region first confirmed covid19 case came ...</td>\n",
              "    </tr>\n",
              "    <tr>\n",
              "      <th>6</th>\n",
              "      <td>3805</td>\n",
              "      <td>48757</td>\n",
              "      <td>3592654178753267</td>\n",
              "      <td>16-03-2020</td>\n",
              "      <td>Cashier at grocery store was sharing his insig...</td>\n",
              "      <td>Positive</td>\n",
              "      <td>cashier grocery store sharing insight covid19 ...</td>\n",
              "    </tr>\n",
              "    <tr>\n",
              "      <th>...</th>\n",
              "      <td>...</td>\n",
              "      <td>...</td>\n",
              "      <td>...</td>\n",
              "      <td>...</td>\n",
              "      <td>...</td>\n",
              "      <td>...</td>\n",
              "      <td>...</td>\n",
              "    </tr>\n",
              "    <tr>\n",
              "      <th>41147</th>\n",
              "      <td>44946</td>\n",
              "      <td>89898</td>\n",
              "      <td>Brooklyn NY</td>\n",
              "      <td>14-04-2020</td>\n",
              "      <td>YÂall really shitting that much more at home?...</td>\n",
              "      <td>Negative</td>\n",
              "      <td>yall really shitting much home covid19 coronav...</td>\n",
              "    </tr>\n",
              "    <tr>\n",
              "      <th>41149</th>\n",
              "      <td>44948</td>\n",
              "      <td>89900</td>\n",
              "      <td>Toronto Ontario</td>\n",
              "      <td>14-04-2020</td>\n",
              "      <td>Still shocked by the number of #Toronto superm...</td>\n",
              "      <td>Negative</td>\n",
              "      <td>still shocked number toronto supermarket emplo...</td>\n",
              "    </tr>\n",
              "    <tr>\n",
              "      <th>41150</th>\n",
              "      <td>44949</td>\n",
              "      <td>89901</td>\n",
              "      <td>OHIO</td>\n",
              "      <td>14-04-2020</td>\n",
              "      <td>I never that weÂd be in a situation &amp;amp; wor...</td>\n",
              "      <td>Positive</td>\n",
              "      <td>never wed situation amp world going supermarke...</td>\n",
              "    </tr>\n",
              "    <tr>\n",
              "      <th>41152</th>\n",
              "      <td>44951</td>\n",
              "      <td>89903</td>\n",
              "      <td>Wellington City New Zealand</td>\n",
              "      <td>14-04-2020</td>\n",
              "      <td>Airline pilots offering to stock supermarket s...</td>\n",
              "      <td>Neutral</td>\n",
              "      <td>airline pilot offering stock supermarket shelf...</td>\n",
              "    </tr>\n",
              "    <tr>\n",
              "      <th>41156</th>\n",
              "      <td>44955</td>\n",
              "      <td>89907</td>\n",
              "      <td>i love you so much  hehim</td>\n",
              "      <td>14-04-2020</td>\n",
              "      <td>@TartiiCat Well new/used Rift S are going for ...</td>\n",
              "      <td>Negative</td>\n",
              "      <td>tartiicat well newused rift going 70000 amazon...</td>\n",
              "    </tr>\n",
              "  </tbody>\n",
              "</table>\n",
              "<p>32567 rows × 7 columns</p>\n",
              "</div>\n",
              "      <button class=\"colab-df-convert\" onclick=\"convertToInteractive('df-53a10c69-aed3-4fec-a9af-3acaa7932416')\"\n",
              "              title=\"Convert this dataframe to an interactive table.\"\n",
              "              style=\"display:none;\">\n",
              "        \n",
              "  <svg xmlns=\"http://www.w3.org/2000/svg\" height=\"24px\"viewBox=\"0 0 24 24\"\n",
              "       width=\"24px\">\n",
              "    <path d=\"M0 0h24v24H0V0z\" fill=\"none\"/>\n",
              "    <path d=\"M18.56 5.44l.94 2.06.94-2.06 2.06-.94-2.06-.94-.94-2.06-.94 2.06-2.06.94zm-11 1L8.5 8.5l.94-2.06 2.06-.94-2.06-.94L8.5 2.5l-.94 2.06-2.06.94zm10 10l.94 2.06.94-2.06 2.06-.94-2.06-.94-.94-2.06-.94 2.06-2.06.94z\"/><path d=\"M17.41 7.96l-1.37-1.37c-.4-.4-.92-.59-1.43-.59-.52 0-1.04.2-1.43.59L10.3 9.45l-7.72 7.72c-.78.78-.78 2.05 0 2.83L4 21.41c.39.39.9.59 1.41.59.51 0 1.02-.2 1.41-.59l7.78-7.78 2.81-2.81c.8-.78.8-2.07 0-2.86zM5.41 20L4 18.59l7.72-7.72 1.47 1.35L5.41 20z\"/>\n",
              "  </svg>\n",
              "      </button>\n",
              "      \n",
              "  <style>\n",
              "    .colab-df-container {\n",
              "      display:flex;\n",
              "      flex-wrap:wrap;\n",
              "      gap: 12px;\n",
              "    }\n",
              "\n",
              "    .colab-df-convert {\n",
              "      background-color: #E8F0FE;\n",
              "      border: none;\n",
              "      border-radius: 50%;\n",
              "      cursor: pointer;\n",
              "      display: none;\n",
              "      fill: #1967D2;\n",
              "      height: 32px;\n",
              "      padding: 0 0 0 0;\n",
              "      width: 32px;\n",
              "    }\n",
              "\n",
              "    .colab-df-convert:hover {\n",
              "      background-color: #E2EBFA;\n",
              "      box-shadow: 0px 1px 2px rgba(60, 64, 67, 0.3), 0px 1px 3px 1px rgba(60, 64, 67, 0.15);\n",
              "      fill: #174EA6;\n",
              "    }\n",
              "\n",
              "    [theme=dark] .colab-df-convert {\n",
              "      background-color: #3B4455;\n",
              "      fill: #D2E3FC;\n",
              "    }\n",
              "\n",
              "    [theme=dark] .colab-df-convert:hover {\n",
              "      background-color: #434B5C;\n",
              "      box-shadow: 0px 1px 3px 1px rgba(0, 0, 0, 0.15);\n",
              "      filter: drop-shadow(0px 1px 2px rgba(0, 0, 0, 0.3));\n",
              "      fill: #FFFFFF;\n",
              "    }\n",
              "  </style>\n",
              "\n",
              "      <script>\n",
              "        const buttonEl =\n",
              "          document.querySelector('#df-53a10c69-aed3-4fec-a9af-3acaa7932416 button.colab-df-convert');\n",
              "        buttonEl.style.display =\n",
              "          google.colab.kernel.accessAllowed ? 'block' : 'none';\n",
              "\n",
              "        async function convertToInteractive(key) {\n",
              "          const element = document.querySelector('#df-53a10c69-aed3-4fec-a9af-3acaa7932416');\n",
              "          const dataTable =\n",
              "            await google.colab.kernel.invokeFunction('convertToInteractive',\n",
              "                                                     [key], {});\n",
              "          if (!dataTable) return;\n",
              "\n",
              "          const docLinkHtml = 'Like what you see? Visit the ' +\n",
              "            '<a target=\"_blank\" href=https://colab.research.google.com/notebooks/data_table.ipynb>data table notebook</a>'\n",
              "            + ' to learn more about interactive tables.';\n",
              "          element.innerHTML = '';\n",
              "          dataTable['output_type'] = 'display_data';\n",
              "          await google.colab.output.renderOutput(dataTable, element);\n",
              "          const docLink = document.createElement('div');\n",
              "          docLink.innerHTML = docLinkHtml;\n",
              "          element.appendChild(docLink);\n",
              "        }\n",
              "      </script>\n",
              "    </div>\n",
              "  </div>\n",
              "  "
            ]
          },
          "metadata": {},
          "execution_count": 138
        }
      ]
    },
    {
      "cell_type": "code",
      "source": [
        "sentiment = {'Extremely Negative':'Negative','Extremely Positive':'Positive'}\n",
        "data['Sentiment'].replace(sentiment, inplace = True)"
      ],
      "metadata": {
        "id": "b14Fd5f6uo8q"
      },
      "execution_count": 140,
      "outputs": []
    },
    {
      "cell_type": "code",
      "source": [
        "data['Sentiment'].value_counts()"
      ],
      "metadata": {
        "colab": {
          "base_uri": "https://localhost:8080/"
        },
        "id": "jbnwAFrEviyQ",
        "outputId": "432e0a80-d23c-4133-bb58-3f9d23e6c465"
      },
      "execution_count": 141,
      "outputs": [
        {
          "output_type": "execute_result",
          "data": {
            "text/plain": [
              "Positive    14383\n",
              "Negative    12012\n",
              "Neutral      6172\n",
              "Name: Sentiment, dtype: int64"
            ]
          },
          "metadata": {},
          "execution_count": 141
        }
      ]
    },
    {
      "cell_type": "code",
      "source": [
        "from sklearn.model_selection import train_test_split\n",
        "tweet_train,tweet_test,sentiment_train,sentiment_test = train_test_split(data['Tokenize_OriginalTweet'],data['Sentiment'],test_size = 0.2, random_state=0)"
      ],
      "metadata": {
        "id": "8xlx1D4bEJDK"
      },
      "execution_count": 142,
      "outputs": []
    },
    {
      "cell_type": "code",
      "source": [
        "tweet_train.shape"
      ],
      "metadata": {
        "colab": {
          "base_uri": "https://localhost:8080/"
        },
        "id": "mcnzGMKb1Hjx",
        "outputId": "3fcc7729-da3b-4495-ba4d-1caebd4b854a"
      },
      "execution_count": 143,
      "outputs": [
        {
          "output_type": "execute_result",
          "data": {
            "text/plain": [
              "(26053,)"
            ]
          },
          "metadata": {},
          "execution_count": 143
        }
      ]
    },
    {
      "cell_type": "code",
      "source": [
        "train_vectorizer = tifid.transform(tweet_train).toarray()\n",
        "test_vectorizer = tifid.transform(tweet_test).toarray()"
      ],
      "metadata": {
        "id": "AygqmwnJ1QeE"
      },
      "execution_count": 144,
      "outputs": []
    },
    {
      "cell_type": "code",
      "source": [
        "from sklearn.tree import DecisionTreeClassifier\n",
        "dt = DecisionTreeClassifier()\n",
        "dt.fit(train_vectorizer,sentiment_train)"
      ],
      "metadata": {
        "colab": {
          "base_uri": "https://localhost:8080/"
        },
        "id": "B4PY2AVV2IKr",
        "outputId": "f24c422a-5bcb-4ba7-a0af-8d98efebd197"
      },
      "execution_count": 167,
      "outputs": [
        {
          "output_type": "execute_result",
          "data": {
            "text/plain": [
              "DecisionTreeClassifier()"
            ]
          },
          "metadata": {},
          "execution_count": 167
        }
      ]
    },
    {
      "cell_type": "code",
      "source": [
        "from sklearn.metrics import confusion_matrix, accuracy_score\n",
        "test_pred = dt.predict(test_vectorizer)"
      ],
      "metadata": {
        "id": "grfuQ-w23bJK"
      },
      "execution_count": 168,
      "outputs": []
    },
    {
      "cell_type": "code",
      "source": [
        "train_pred = dt.predict(train_vectorizer)"
      ],
      "metadata": {
        "id": "VdD4Fei_CUsQ"
      },
      "execution_count": 169,
      "outputs": []
    },
    {
      "cell_type": "code",
      "source": [
        "sentiment_test"
      ],
      "metadata": {
        "colab": {
          "base_uri": "https://localhost:8080/"
        },
        "id": "7LGOy_4M6tiN",
        "outputId": "4f74fe98-4f9e-457a-c467-2532228897ae"
      },
      "execution_count": 170,
      "outputs": [
        {
          "output_type": "execute_result",
          "data": {
            "text/plain": [
              "1211     Negative\n",
              "16394     Neutral\n",
              "4298      Neutral\n",
              "5059      Neutral\n",
              "18799    Negative\n",
              "           ...   \n",
              "3533     Negative\n",
              "39477     Neutral\n",
              "39581    Positive\n",
              "32480    Negative\n",
              "14538    Positive\n",
              "Name: Sentiment, Length: 6514, dtype: object"
            ]
          },
          "metadata": {},
          "execution_count": 170
        }
      ]
    },
    {
      "cell_type": "code",
      "source": [
        "test_pred"
      ],
      "metadata": {
        "colab": {
          "base_uri": "https://localhost:8080/"
        },
        "id": "NRb6DuLS6nZH",
        "outputId": "eb89177e-1f9a-48ca-9b08-dc6b4b6c613c"
      },
      "execution_count": 171,
      "outputs": [
        {
          "output_type": "execute_result",
          "data": {
            "text/plain": [
              "array(['Positive', 'Neutral', 'Neutral', ..., 'Positive', 'Positive',\n",
              "       'Negative'], dtype=object)"
            ]
          },
          "metadata": {},
          "execution_count": 171
        }
      ]
    },
    {
      "cell_type": "code",
      "source": [
        "cm = accuracy_score(sentiment_test,test_pred)"
      ],
      "metadata": {
        "id": "ElQ4gmMW4Fq2"
      },
      "execution_count": 172,
      "outputs": []
    },
    {
      "cell_type": "code",
      "source": [
        "cm"
      ],
      "metadata": {
        "colab": {
          "base_uri": "https://localhost:8080/"
        },
        "id": "pLEGK-Kz6aF7",
        "outputId": "aeb7331b-2cc5-4427-c680-be3965567679"
      },
      "execution_count": 173,
      "outputs": [
        {
          "output_type": "execute_result",
          "data": {
            "text/plain": [
              "0.6142155357691127"
            ]
          },
          "metadata": {},
          "execution_count": 173
        }
      ]
    },
    {
      "cell_type": "code",
      "source": [
        "cm = accuracy_score(sentiment_train,train_pred)"
      ],
      "metadata": {
        "id": "t--MYH4Cyc-r"
      },
      "execution_count": 174,
      "outputs": []
    },
    {
      "cell_type": "code",
      "source": [
        "cm"
      ],
      "metadata": {
        "colab": {
          "base_uri": "https://localhost:8080/"
        },
        "id": "g5mbRUY_yiIi",
        "outputId": "124f2e7c-e2d7-4ed4-b390-cc61d8db169e"
      },
      "execution_count": 175,
      "outputs": [
        {
          "output_type": "execute_result",
          "data": {
            "text/plain": [
              "0.9994242505661536"
            ]
          },
          "metadata": {},
          "execution_count": 175
        }
      ]
    },
    {
      "cell_type": "code",
      "source": [
        "cm = confusion_matrix(sentiment_test,test_pred)"
      ],
      "metadata": {
        "id": "fr2Z8gixBeFz"
      },
      "execution_count": 152,
      "outputs": []
    },
    {
      "cell_type": "code",
      "source": [
        "cm"
      ],
      "metadata": {
        "colab": {
          "base_uri": "https://localhost:8080/"
        },
        "id": "98grtHfoCI_o",
        "outputId": "d39ac6bb-a4c0-43fd-f70f-50ec103f4881"
      },
      "execution_count": 153,
      "outputs": [
        {
          "output_type": "execute_result",
          "data": {
            "text/plain": [
              "array([[1449,  346,  641],\n",
              "       [ 275,  581,  326],\n",
              "       [ 647,  317, 1932]])"
            ]
          },
          "metadata": {},
          "execution_count": 153
        }
      ]
    },
    {
      "cell_type": "code",
      "source": [
        "from sklearn.metrics import f1_score\n",
        "\n",
        "# Weighed F1 across all classes\n",
        "f1_score(sentiment_test,test_pred, average=\"weighted\")\n"
      ],
      "metadata": {
        "colab": {
          "base_uri": "https://localhost:8080/"
        },
        "id": "lao9D9Y56VQZ",
        "outputId": "6bacbb6d-33e9-4b69-d79c-9b6771710c75"
      },
      "execution_count": 176,
      "outputs": [
        {
          "output_type": "execute_result",
          "data": {
            "text/plain": [
              "0.615322851249892"
            ]
          },
          "metadata": {},
          "execution_count": 176
        }
      ]
    },
    {
      "cell_type": "code",
      "source": [
        "from sklearn.metrics import make_scorer\n",
        "\n",
        "custom_f1 = make_scorer(\n",
        "    f1_score, greater_is_better=True, average=\"weighted\"\n",
        "  )\n",
        "\n",
        "custom_f1\n",
        "make_scorer(f1_score, average='weighted')"
      ],
      "metadata": {
        "colab": {
          "base_uri": "https://localhost:8080/"
        },
        "id": "2lCiIrlD6GuY",
        "outputId": "1e83e64c-d6f3-4741-df97-030faa7876ac"
      },
      "execution_count": 186,
      "outputs": [
        {
          "output_type": "execute_result",
          "data": {
            "text/plain": [
              "make_scorer(f1_score, average=weighted)"
            ]
          },
          "metadata": {},
          "execution_count": 186
        }
      ]
    },
    {
      "cell_type": "code",
      "source": [
        "from sklearn.model_selection import GridSearchCV\n",
        "grid_values = {'max_depth':[100,150], 'min_samples_leaf':[2],'min_samples_split':[20],'max_leaf_nodes':[110,130]}\n",
        "tuned_dt = GridSearchCV(dt, param_grid = grid_values, scoring = custom_f1, cv=5)\n",
        "tuned_dt.fit(train_vectorizer,sentiment_train)"
      ],
      "metadata": {
        "id": "AMatO5GVCKfo",
        "colab": {
          "base_uri": "https://localhost:8080/"
        },
        "outputId": "9420859c-bba7-45d2-8571-f12e4271242e"
      },
      "execution_count": 215,
      "outputs": [
        {
          "output_type": "execute_result",
          "data": {
            "text/plain": [
              "GridSearchCV(cv=5, estimator=DecisionTreeClassifier(),\n",
              "             param_grid={'max_depth': [100, 150], 'max_leaf_nodes': [110, 130],\n",
              "                         'min_samples_leaf': [2], 'min_samples_split': [20]},\n",
              "             scoring=make_scorer(f1_score, average=weighted))"
            ]
          },
          "metadata": {},
          "execution_count": 215
        }
      ]
    },
    {
      "cell_type": "code",
      "source": [
        "train_pred = tuned_dt.predict(train_vectorizer)"
      ],
      "metadata": {
        "id": "lc_nT4zbzNvM"
      },
      "execution_count": 216,
      "outputs": []
    },
    {
      "cell_type": "code",
      "source": [
        "test_pred = tuned_dt.predict(test_vectorizer)"
      ],
      "metadata": {
        "id": "_AasZ9rF1DzG"
      },
      "execution_count": 217,
      "outputs": []
    },
    {
      "cell_type": "code",
      "source": [
        "print(\"Best: %f using %s\" % (tuned_dt.best_score_, tuned_dt.best_params_))"
      ],
      "metadata": {
        "colab": {
          "base_uri": "https://localhost:8080/"
        },
        "id": "aty87d561URW",
        "outputId": "ca2a8da8-c2f9-4a44-8a56-4440c17e73bc"
      },
      "execution_count": 218,
      "outputs": [
        {
          "output_type": "stream",
          "name": "stdout",
          "text": [
            "Best: 0.614498 using {'max_depth': 100, 'max_leaf_nodes': 130, 'min_samples_leaf': 2, 'min_samples_split': 20}\n"
          ]
        }
      ]
    },
    {
      "cell_type": "code",
      "source": [
        "test_pred"
      ],
      "metadata": {
        "colab": {
          "base_uri": "https://localhost:8080/"
        },
        "id": "rm-35fOh1ZSz",
        "outputId": "ba138478-c78c-4348-cbbc-9a6e42373e0a"
      },
      "execution_count": 219,
      "outputs": [
        {
          "output_type": "execute_result",
          "data": {
            "text/plain": [
              "array(['Positive', 'Negative', 'Neutral', ..., 'Positive', 'Negative',\n",
              "       'Neutral'], dtype=object)"
            ]
          },
          "metadata": {},
          "execution_count": 219
        }
      ]
    },
    {
      "cell_type": "code",
      "source": [
        "cm = accuracy_score(sentiment_test,test_pred)"
      ],
      "metadata": {
        "id": "jw9O35Fz1fhM"
      },
      "execution_count": 220,
      "outputs": []
    },
    {
      "cell_type": "code",
      "source": [
        "cm"
      ],
      "metadata": {
        "colab": {
          "base_uri": "https://localhost:8080/"
        },
        "id": "FUhC1Q2M1roq",
        "outputId": "5dcca46c-7085-4222-d55e-1c4e1ff8dee4"
      },
      "execution_count": 221,
      "outputs": [
        {
          "output_type": "execute_result",
          "data": {
            "text/plain": [
              "0.6066932760208781"
            ]
          },
          "metadata": {},
          "execution_count": 221
        }
      ]
    },
    {
      "cell_type": "code",
      "source": [
        "from sklearn.ensemble import RandomForestClassifier\n",
        "rf = RandomForestClassifier()\n",
        "rf.fit(train_vectorizer,sentiment_train)"
      ],
      "metadata": {
        "colab": {
          "base_uri": "https://localhost:8080/"
        },
        "id": "_SKb-YQI1tCF",
        "outputId": "e8a8dc69-5131-4f43-ce18-226652e805d1"
      },
      "execution_count": 222,
      "outputs": [
        {
          "output_type": "execute_result",
          "data": {
            "text/plain": [
              "RandomForestClassifier()"
            ]
          },
          "metadata": {},
          "execution_count": 222
        }
      ]
    },
    {
      "cell_type": "code",
      "source": [
        "train_pred = rf.predict(train_vectorizer)\n",
        "test_pred = rf.predict(test_vectorizer)"
      ],
      "metadata": {
        "id": "dNEutIUpMhmr"
      },
      "execution_count": 224,
      "outputs": []
    },
    {
      "cell_type": "code",
      "source": [
        "f1_score(sentiment_test,test_pred, average=\"weighted\")\n",
        "f1_score(sentiment_train,train_pred, average=\"weighted\")"
      ],
      "metadata": {
        "colab": {
          "base_uri": "https://localhost:8080/"
        },
        "id": "omyI0LL9NOv8",
        "outputId": "08aeeb6d-f1e9-4637-aa6d-6c7b3bef8a75"
      },
      "execution_count": 225,
      "outputs": [
        {
          "output_type": "execute_result",
          "data": {
            "text/plain": [
              "0.9994244308994102"
            ]
          },
          "metadata": {},
          "execution_count": 225
        }
      ]
    },
    {
      "cell_type": "code",
      "source": [
        "f1_score(sentiment_test,test_pred, average=\"weighted\")"
      ],
      "metadata": {
        "colab": {
          "base_uri": "https://localhost:8080/"
        },
        "id": "VQlbyNsfNZvt",
        "outputId": "7936f7a6-2ec6-41f8-adf3-baa823cc09bd"
      },
      "execution_count": 226,
      "outputs": [
        {
          "output_type": "execute_result",
          "data": {
            "text/plain": [
              "0.7118282060677513"
            ]
          },
          "metadata": {},
          "execution_count": 226
        }
      ]
    },
    {
      "cell_type": "code",
      "source": [
        "accuracy_score(sentiment_test,test_pred)"
      ],
      "metadata": {
        "colab": {
          "base_uri": "https://localhost:8080/"
        },
        "id": "FpsXyXmeNcnf",
        "outputId": "f2716738-1bd0-4104-d1a0-c69cde8d797c"
      },
      "execution_count": 228,
      "outputs": [
        {
          "output_type": "execute_result",
          "data": {
            "text/plain": [
              "0.7124654590113602"
            ]
          },
          "metadata": {},
          "execution_count": 228
        }
      ]
    },
    {
      "cell_type": "code",
      "source": [
        "from sklearn.model_selection import GridSearchCV\n",
        "grid_values = {'max_depth':[200], 'min_samples_leaf':[2],'min_samples_split':[20],'max_leaf_nodes':[500,1000]}\n",
        "tuned_rf = GridSearchCV(rf, param_grid = grid_values, scoring = custom_f1, cv=5)\n",
        "tuned_rf.fit(train_vectorizer,sentiment_train)"
      ],
      "metadata": {
        "colab": {
          "base_uri": "https://localhost:8080/"
        },
        "id": "dKaSTAQbNnHl",
        "outputId": "026160cc-c616-4152-8904-c2d060242595"
      },
      "execution_count": 234,
      "outputs": [
        {
          "output_type": "execute_result",
          "data": {
            "text/plain": [
              "GridSearchCV(cv=5, estimator=RandomForestClassifier(),\n",
              "             param_grid={'max_depth': [200], 'max_leaf_nodes': [500, 1000],\n",
              "                         'min_samples_leaf': [2], 'min_samples_split': [20]},\n",
              "             scoring=make_scorer(f1_score, average=weighted))"
            ]
          },
          "metadata": {},
          "execution_count": 234
        }
      ]
    },
    {
      "cell_type": "code",
      "source": [
        "print(\"Best: %f using %s\" % (tuned_rf.best_score_, tuned_rf.best_params_))"
      ],
      "metadata": {
        "colab": {
          "base_uri": "https://localhost:8080/"
        },
        "id": "0zjDU008N7Wx",
        "outputId": "084eae1e-89ef-46cc-c414-8959f50152b3"
      },
      "execution_count": 235,
      "outputs": [
        {
          "output_type": "stream",
          "name": "stdout",
          "text": [
            "Best: 0.702093 using {'max_depth': 200, 'max_leaf_nodes': 1000, 'min_samples_leaf': 2, 'min_samples_split': 20}\n"
          ]
        }
      ]
    },
    {
      "cell_type": "markdown",
      "source": [
        "## Try Topic modelling"
      ],
      "metadata": {
        "id": "ZHVavH0XPOQ5"
      }
    },
    {
      "cell_type": "code",
      "source": [
        "# Parameters tuning using Grid Search\n",
        "from sklearn.decomposition import LatentDirichletAllocation\n",
        "from sklearn.model_selection import GridSearchCV\n",
        "grid_params = {'n_components' : list(range(3,5))}\n",
        "tifid = CountVectorizer(max_df = 0.9,min_df = 10)\n",
        "X = tifid.fit_transform(data['Tokenize_OriginalTweet'])\n",
        "\n",
        "# LDA model\n",
        "lda = LatentDirichletAllocation()\n",
        "lda_model = GridSearchCV(lda,param_grid=grid_params)\n",
        "lda_model.fit(X)\n",
        "\n",
        "# Best LDA model\n",
        "best_lda_model = lda_model.best_estimator_\n",
        "\n",
        "print(\"Best LDA model's params\" , lda_model.best_params_)\n",
        "print(\"Best log likelihood Score for the LDA model\",lda_model.best_score_)\n",
        "print(\"LDA model Perplexity on train data\", best_lda_model.perplexity(X))"
      ],
      "metadata": {
        "colab": {
          "base_uri": "https://localhost:8080/"
        },
        "id": "_XFJXXDuOD9t",
        "outputId": "e547fa15-5d47-4352-9162-d4e78f896c4d"
      },
      "execution_count": 244,
      "outputs": [
        {
          "output_type": "stream",
          "name": "stdout",
          "text": [
            "Best LDA model's params {'n_components': 3}\n",
            "Best log likelihood Score for the LDA model -785922.5259388051\n",
            "LDA model Perplexity on train data 1382.8496544169302\n"
          ]
        }
      ]
    },
    {
      "cell_type": "code",
      "source": [
        "!pip install pyLDAvis"
      ],
      "metadata": {
        "colab": {
          "base_uri": "https://localhost:8080/"
        },
        "id": "KzCy-ZN4VA4M",
        "outputId": "fa8d19b5-9b2a-4c46-ff8b-b2318f7a0ff4"
      },
      "execution_count": 245,
      "outputs": [
        {
          "output_type": "stream",
          "name": "stdout",
          "text": [
            "Looking in indexes: https://pypi.org/simple, https://us-python.pkg.dev/colab-wheels/public/simple/\n",
            "Requirement already satisfied: pyLDAvis in /usr/local/lib/python3.7/dist-packages (3.3.1)\n",
            "Requirement already satisfied: gensim in /usr/local/lib/python3.7/dist-packages (from pyLDAvis) (3.6.0)\n",
            "Requirement already satisfied: funcy in /usr/local/lib/python3.7/dist-packages (from pyLDAvis) (1.17)\n",
            "Requirement already satisfied: numpy>=1.20.0 in /usr/local/lib/python3.7/dist-packages (from pyLDAvis) (1.21.6)\n",
            "Requirement already satisfied: future in /usr/local/lib/python3.7/dist-packages (from pyLDAvis) (0.16.0)\n",
            "Requirement already satisfied: scikit-learn in /usr/local/lib/python3.7/dist-packages (from pyLDAvis) (1.0.2)\n",
            "Requirement already satisfied: jinja2 in /usr/local/lib/python3.7/dist-packages (from pyLDAvis) (2.11.3)\n",
            "Requirement already satisfied: numexpr in /usr/local/lib/python3.7/dist-packages (from pyLDAvis) (2.8.3)\n",
            "Requirement already satisfied: setuptools in /usr/local/lib/python3.7/dist-packages (from pyLDAvis) (57.4.0)\n",
            "Requirement already satisfied: pandas>=1.2.0 in /usr/local/lib/python3.7/dist-packages (from pyLDAvis) (1.3.5)\n",
            "Requirement already satisfied: sklearn in /usr/local/lib/python3.7/dist-packages (from pyLDAvis) (0.0)\n",
            "Requirement already satisfied: scipy in /usr/local/lib/python3.7/dist-packages (from pyLDAvis) (1.7.3)\n",
            "Requirement already satisfied: joblib in /usr/local/lib/python3.7/dist-packages (from pyLDAvis) (1.1.0)\n",
            "Requirement already satisfied: pytz>=2017.3 in /usr/local/lib/python3.7/dist-packages (from pandas>=1.2.0->pyLDAvis) (2022.2.1)\n",
            "Requirement already satisfied: python-dateutil>=2.7.3 in /usr/local/lib/python3.7/dist-packages (from pandas>=1.2.0->pyLDAvis) (2.8.2)\n",
            "Requirement already satisfied: six>=1.5 in /usr/local/lib/python3.7/dist-packages (from python-dateutil>=2.7.3->pandas>=1.2.0->pyLDAvis) (1.15.0)\n",
            "Requirement already satisfied: smart-open>=1.2.1 in /usr/local/lib/python3.7/dist-packages (from gensim->pyLDAvis) (5.2.1)\n",
            "Requirement already satisfied: MarkupSafe>=0.23 in /usr/local/lib/python3.7/dist-packages (from jinja2->pyLDAvis) (2.0.1)\n",
            "Requirement already satisfied: packaging in /usr/local/lib/python3.7/dist-packages (from numexpr->pyLDAvis) (21.3)\n",
            "Requirement already satisfied: pyparsing!=3.0.5,>=2.0.2 in /usr/local/lib/python3.7/dist-packages (from packaging->numexpr->pyLDAvis) (3.0.9)\n",
            "Requirement already satisfied: threadpoolctl>=2.0.0 in /usr/local/lib/python3.7/dist-packages (from scikit-learn->pyLDAvis) (3.1.0)\n"
          ]
        }
      ]
    },
    {
      "cell_type": "code",
      "source": [
        "import pyLDAvis.sklearn"
      ],
      "metadata": {
        "colab": {
          "base_uri": "https://localhost:8080/"
        },
        "id": "UIoWgvN0baDf",
        "outputId": "4e18551a-8de7-44c1-d785-22efa7828438"
      },
      "execution_count": 241,
      "outputs": [
        {
          "output_type": "stream",
          "name": "stderr",
          "text": [
            "/usr/local/lib/python3.7/dist-packages/past/types/oldstr.py:5: DeprecationWarning: Using or importing the ABCs from 'collections' instead of from 'collections.abc' is deprecated since Python 3.3,and in 3.9 it will stop working\n",
            "  from collections import Iterable\n",
            "/usr/local/lib/python3.7/dist-packages/past/builtins/misc.py:4: DeprecationWarning: Using or importing the ABCs from 'collections' instead of from 'collections.abc' is deprecated since Python 3.3,and in 3.9 it will stop working\n",
            "  from collections import Mapping\n"
          ]
        }
      ]
    },
    {
      "cell_type": "code",
      "source": [
        "pyLDAvis.enable_notebook()"
      ],
      "metadata": {
        "id": "6VbGdxLxbfq7"
      },
      "execution_count": 242,
      "outputs": []
    },
    {
      "cell_type": "code",
      "source": [
        "lda_panel = pyLDAvis.sklearn.prepare(best_lda_model, X ,tifid, mds='tsne')\n",
        "lda_panel"
      ],
      "metadata": {
        "colab": {
          "base_uri": "https://localhost:8080/",
          "height": 1000
        },
        "id": "OAUu4h_lbkY9",
        "outputId": "004da38c-b73d-4aa3-fcec-ff4d8c0dfb1a"
      },
      "execution_count": 246,
      "outputs": [
        {
          "output_type": "stream",
          "name": "stderr",
          "text": [
            "/usr/local/lib/python3.7/dist-packages/sklearn/utils/deprecation.py:87: FutureWarning: Function get_feature_names is deprecated; get_feature_names is deprecated in 1.0 and will be removed in 1.2. Please use get_feature_names_out instead.\n",
            "  warnings.warn(msg, category=FutureWarning)\n",
            "/usr/local/lib/python3.7/dist-packages/pyLDAvis/_prepare.py:247: FutureWarning: In a future version of pandas all arguments of DataFrame.drop except for the argument 'labels' will be keyword-only\n",
            "  by='saliency', ascending=False).head(R).drop('saliency', 1)\n",
            "/usr/local/lib/python3.7/dist-packages/sklearn/manifold/_t_sne.py:783: FutureWarning: The default initialization in TSNE will change from 'random' to 'pca' in 1.2.\n",
            "  FutureWarning,\n",
            "/usr/local/lib/python3.7/dist-packages/sklearn/manifold/_t_sne.py:793: FutureWarning: The default learning rate in TSNE will change from 200.0 to 'auto' in 1.2.\n",
            "  FutureWarning,\n",
            "/usr/local/lib/python3.7/dist-packages/sklearn/manifold/_t_sne.py:827: FutureWarning: 'square_distances' has been introduced in 0.24 to help phase out legacy squaring behavior. The 'legacy' setting will be removed in 1.1 (renaming of 0.26), and the default setting will be changed to True. In 1.3, 'square_distances' will be removed altogether, and distances will be squared by default. Set 'square_distances'=True to silence this warning.\n",
            "  FutureWarning,\n"
          ]
        },
        {
          "output_type": "execute_result",
          "data": {
            "text/plain": [
              "PreparedData(topic_coordinates=                 x            y  topics  cluster       Freq\n",
              "topic                                                      \n",
              "2     -1015.700562  1338.981201       1        1  40.578785\n",
              "1      -387.996002  -373.316162       2        1  29.976507\n",
              "0     -2184.745605   -60.565800       3        1  29.444708, topic_info=          Term         Freq        Total Category  logprob  loglift\n",
              "3667     price  6902.000000  6902.000000  Default  30.0000  30.0000\n",
              "1052  consumer  4275.000000  4275.000000  Default  29.0000  29.0000\n",
              "2191   grocery  5222.000000  5222.000000  Default  28.0000  28.0000\n",
              "4623     store  6343.000000  6343.000000  Default  27.0000  27.0000\n",
              "3308    online  2762.000000  2762.000000  Default  26.0000  26.0000\n",
              "...        ...          ...          ...      ...      ...      ...\n",
              "2279    health   539.740360   864.467294   Topic3  -5.6537   0.7516\n",
              "1974      food   931.146060  5580.038623   Topic3  -5.1084  -0.5679\n",
              "4891      time   654.310520  2442.817329   Topic3  -5.4612  -0.0947\n",
              "1364  delivery   518.514533  1190.263825   Topic3  -5.6938   0.3917\n",
              "3701   product   493.840637   871.421435   Topic3  -5.7426   0.6547\n",
              "\n",
              "[244 rows x 6 columns], token_table=      Topic      Freq     Term\n",
              "term                          \n",
              "26        1  0.254427       19\n",
              "26        2  0.269092       19\n",
              "26        3  0.476593       19\n",
              "258       1  0.995907  alcohol\n",
              "258       2  0.004446  alcohol\n",
              "...     ...       ...      ...\n",
              "5364      2  0.597669    world\n",
              "5364      3  0.247401    world\n",
              "5391      1  0.177337     year\n",
              "5391      2  0.768460     year\n",
              "5391      3  0.053897     year\n",
              "\n",
              "[407 rows x 3 columns], R=30, lambda_step=0.01, plot_opts={'xlab': 'PC1', 'ylab': 'PC2'}, topic_order=[3, 2, 1])"
            ],
            "text/html": [
              "\n",
              "<link rel=\"stylesheet\" type=\"text/css\" href=\"https://cdn.jsdelivr.net/gh/bmabey/pyLDAvis@3.3.1/pyLDAvis/js/ldavis.v1.0.0.css\">\n",
              "\n",
              "\n",
              "<div id=\"ldavis_el571402385029084964893306550\"></div>\n",
              "<script type=\"text/javascript\">\n",
              "\n",
              "var ldavis_el571402385029084964893306550_data = {\"mdsDat\": {\"x\": [-1015.7005615234375, -387.9960021972656, -2184.74560546875], \"y\": [1338.981201171875, -373.316162109375, -60.565799713134766], \"topics\": [1, 2, 3], \"cluster\": [1, 1, 1], \"Freq\": [40.578785255232404, 29.976507151972186, 29.444707592795403]}, \"tinfo\": {\"Term\": [\"price\", \"consumer\", \"grocery\", \"store\", \"online\", \"panic\", \"hand\", \"worker\", \"supermarket\", \"sanitizer\", \"oil\", \"buying\", \"toiletpaper\", \"shopping\", \"business\", \"toilet\", \"food\", \"paper\", \"mask\", \"stock\", \"go\", \"demand\", \"retail\", \"market\", \"covid19\", \"low\", \"work\", \"pandemic\", \"impact\", \"change\", \"sanitizer\", \"mask\", \"glove\", \"hand\", \"driver\", \"doctor\", \"wash\", \"front\", \"wearing\", \"wear\", \"sick\", \"hero\", \"cashier\", \"handsanitizer\", \"clerk\", \"walk\", \"alcohol\", \"thank\", \"frontline\", \"responder\", \"coughing\", \"washing\", \"distance\", \"cough\", \"deserve\", \"standing\", \"teacher\", \"infected\", \"grateful\", \"truck\", \"grocery\", \"worker\", \"leave\", \"line\", \"kid\", \"im\", \"store\", \"someone\", \"hospital\", \"socialdistancing\", \"outside\", \"pharmacy\", \"trip\", \"go\", \"staff\", \"person\", \"work\", \"supermarket\", \"get\", \"employee\", \"going\", \"dont\", \"stay\", \"people\", \"like\", \"distancing\", \"everyone\", \"safe\", \"home\", \"family\", \"know\", \"coronavirus\", \"need\", \"one\", \"covid19\", \"day\", \"make\", \"amp\", \"time\", \"it\", \"please\", \"food\", \"shopping\", \"keep\", \"oil\", \"toiletpaper\", \"toilet\", \"roll\", \"paper\", \"panicbuying\", \"milk\", \"buying\", \"stophoarding\", \"russia\", \"egg\", \"fuel\", \"gold\", \"crude\", \"stockpiling\", \"saudi\", \"commodity\", \"pasta\", \"rice\", \"toiletpaperpanic\", \"low\", \"toiletpapercrisis\", \"opec\", \"buyer\", \"inflated\", \"arabia\", \"asda\", \"hiking\", \"collapse\", \"profiteering\", \"price\", \"panic\", \"cut\", \"hoarding\", \"shortage\", \"drop\", \"london\", \"selfish\", \"gas\", \"stoppanicbuying\", \"stock\", \"market\", \"food\", \"trump\", \"production\", \"selling\", \"fall\", \"year\", \"coronavirus\", \"supply\", \"lockdown\", \"shelf\", \"empty\", \"covid19\", \"uk\", \"buy\", \"demand\", \"due\", \"people\", \"supermarket\", \"pandemic\", \"stop\", \"amp\", \"19\", \"covid\", \"world\", \"covid2019\", \"need\", \"time\", \"consumer\", \"scam\", \"behavior\", \"information\", \"brand\", \"ecommerce\", \"trend\", \"insight\", \"scammer\", \"marketing\", \"changing\", \"data\", \"research\", \"resource\", \"latest\", \"survey\", \"digital\", \"blog\", \"habit\", \"ftc\", \"sentiment\", \"alert\", \"webinar\", \"federal\", \"fraud\", \"payment\", \"join\", \"loan\", \"complaint\", \"platform\", \"learn\", \"related\", \"website\", \"spending\", \"change\", \"online\", \"update\", \"info\", \"business\", \"link\", \"closure\", \"read\", \"sector\", \"report\", \"impact\", \"response\", \"retail\", \"retailer\", \"shopping\", \"industry\", \"service\", \"covid19\", \"company\", \"pandemic\", \"new\", \"crisis\", \"covid\", \"demand\", \"19\", \"help\", \"coronavirus\", \"amp\", \"support\", \"outbreak\", \"via\", \"due\", \"health\", \"food\", \"time\", \"delivery\", \"product\"], \"Freq\": [6902.0, 4275.0, 5222.0, 6343.0, 2762.0, 1842.0, 2079.0, 2197.0, 5914.0, 1845.0, 1342.0, 1270.0, 1247.0, 2854.0, 1395.0, 1151.0, 5580.0, 1148.0, 1351.0, 1627.0, 1847.0, 1884.0, 1232.0, 1149.0, 13390.0, 600.0, 1418.0, 2609.0, 846.0, 553.0, 1845.1483617835986, 1350.0250902320674, 428.3641122034276, 2076.371606345429, 403.4229004839441, 315.39541806619496, 269.818026042796, 290.5131843437963, 236.13934425934346, 219.29276560440098, 249.91180879682696, 236.05781984034442, 163.8075842960395, 175.64266104229972, 143.00622948294256, 149.90262069367756, 223.85432583075476, 687.2298751267263, 135.06325828397797, 123.18034964385491, 115.25859477810863, 111.28302493324351, 249.12571039763435, 122.01873637042435, 93.44919223863967, 96.38619508202456, 92.44640098793884, 102.25455206635664, 88.48758883291318, 151.35471719999614, 5169.269743364823, 2173.4814596818205, 274.1827089847061, 674.8125835646991, 222.24729377418504, 549.841270265338, 5891.478940547212, 340.42728788234314, 349.72119982567403, 725.6520619233586, 267.1598475561126, 302.0200403487322, 251.5565070937064, 1651.1240306026446, 802.8303388747689, 316.1310344335456, 1261.6007903544325, 4393.839421212764, 1859.9924443396512, 737.582932243662, 1214.112104819422, 563.8517829216289, 905.802372608953, 2691.287036310106, 1327.9322687588656, 477.9266745605977, 658.1959089742126, 605.4935123624479, 1253.1558980370323, 573.3241640670634, 754.9451850763272, 5672.500833370058, 1499.342134856358, 1066.5007680402084, 4393.511826001406, 955.5460807098161, 809.6585065903545, 1714.0997511559008, 1229.1593452511281, 793.6194469803165, 816.8054024105886, 1299.5506328518527, 927.0631400362461, 739.6349531406216, 1341.8273308454056, 1246.4576745144395, 1151.087544488231, 393.4089361374806, 1146.7724398956054, 332.40460632549974, 260.72240316534135, 1266.994112223856, 243.01209604242527, 187.03838263074698, 205.6251369211746, 183.01455301102658, 161.4791499302488, 155.60415454397756, 158.51195679833697, 144.78745814982767, 208.3238927697367, 131.0042975765202, 129.04121260356135, 118.25124009601836, 597.0695851287036, 116.28129294876685, 114.32497132500262, 147.492197211628, 118.18383479679592, 94.66804362650302, 148.3454462906976, 117.10610749018801, 127.83396194557393, 92.68256306427232, 6673.43490407486, 1797.8579140592708, 348.68972302833595, 382.96123075030636, 450.3179718351975, 346.1105869656213, 148.01706674979434, 189.92796682656336, 488.66497178349215, 156.98843686755018, 1292.0918581737244, 878.90940876155, 3349.34192981807, 323.82248395813383, 278.4633703316647, 262.8397363674075, 275.98135897571854, 442.11874823135275, 5421.857774422032, 946.1441616371685, 648.9436315246699, 734.1980205269128, 400.30614697472197, 3833.3405879191796, 404.24563309301186, 602.31824366839, 846.2166768341375, 688.8347031910524, 1231.8039007820232, 1398.2849290427732, 846.5016151033457, 492.2401511908941, 855.8078546173894, 733.8153184726733, 656.5289674444623, 458.5453496420859, 509.6762866839245, 582.3515954038746, 559.3474634635888, 4274.349227727781, 510.93823720648436, 461.1676597447276, 334.69976064762653, 317.81022954702075, 270.06239761630053, 248.13018970579986, 206.3541477591475, 197.40260091044925, 189.4271613267165, 194.37146568710398, 344.1033123183338, 177.47928883146588, 215.1152580895543, 366.72989311857043, 153.58919468776017, 153.5732469613768, 150.59589429664783, 145.6216520891777, 138.6830693788116, 128.7026543326258, 167.30592744813706, 121.7587652065735, 143.50182134246367, 113.79692782007174, 164.26440647349932, 224.6219640140516, 119.72363557943196, 113.77590702447549, 119.66113604524747, 340.11705540780315, 232.379239531338, 253.65095510480185, 314.9472855834764, 542.6108221304673, 2625.1343730399344, 402.7850664994259, 193.13703253997318, 1319.4690638685952, 205.2415737789476, 205.38165887894056, 597.7221939399213, 219.51564329192595, 589.7098804347887, 711.4818897057066, 431.72421225077653, 956.7060854630212, 366.3591627086183, 1903.3573729839254, 420.06194464791264, 665.4912295446059, 5163.437791032176, 594.8484930695763, 1422.22600728915, 876.0937183849353, 827.2675926643226, 1216.5625337043966, 1020.5634141395464, 1300.3436528614495, 921.633795593517, 3116.8634918890916, 1454.5156252059644, 477.67379590092247, 578.1420708194073, 639.5880028876254, 736.0963013884599, 539.7403604937981, 931.1460598594196, 654.310520153039, 518.5145328287665, 493.8406372369812], \"Total\": [6902.0, 4275.0, 5222.0, 6343.0, 2762.0, 1842.0, 2079.0, 2197.0, 5914.0, 1845.0, 1342.0, 1270.0, 1247.0, 2854.0, 1395.0, 1151.0, 5580.0, 1148.0, 1351.0, 1627.0, 1847.0, 1884.0, 1232.0, 1149.0, 13390.0, 600.0, 1418.0, 2609.0, 846.0, 553.0, 1845.9663554816168, 1351.523816613398, 429.0400573773867, 2079.786530951176, 404.26930211156645, 316.0823018512709, 270.50279905865466, 291.31137155440393, 236.8136964968519, 219.96912167360662, 250.6854155220791, 236.8140151374205, 164.48113570387554, 176.37134532849288, 143.6731527510255, 150.6088692017155, 224.9206169995887, 690.6376804778089, 135.7462963997366, 123.85600458851869, 115.92912969997965, 111.96566376120246, 250.68965049414683, 122.8658571500555, 94.1302129013352, 97.10293625599533, 93.13950003891811, 103.04791779786794, 89.17595598811961, 152.5868631885347, 5222.046205278099, 2197.827349956999, 276.449056264461, 686.708239450563, 224.9096795348728, 561.7247584563438, 6343.505329257451, 349.704255263232, 359.66295409943154, 765.0560425867002, 273.43040281602754, 311.1024608738374, 257.6221832004778, 1847.3963213694267, 870.2471611711816, 326.9955606383759, 1418.4831442477328, 5914.411615493783, 2329.9676818300927, 843.6954675869808, 1483.555193927685, 639.5091201549993, 1105.635961668594, 4199.317529022681, 1853.0883155211102, 543.2776915294246, 805.4343500291216, 727.8353411735343, 1833.4264123638022, 683.9550022707139, 989.6932718823205, 14211.222099681181, 2507.984591250089, 1617.5479847310935, 13390.290204952762, 1439.5143614147607, 1132.8080566111655, 4024.423230979254, 2442.817328867756, 1135.5321752104117, 1255.0061271238876, 5580.038622529342, 2854.1582500767936, 1121.3646377726232, 1342.5066532303836, 1247.1757177262352, 1151.8448016105049, 394.10847092248673, 1148.9076394127458, 333.17572286763897, 261.4311039754742, 1270.791565277911, 243.74088754029776, 187.72118922720205, 206.39499956598556, 183.7911445757015, 162.1685497900803, 156.27153237132836, 159.22028022386846, 145.4608330778793, 209.34698717087534, 131.70187418771707, 129.73628008321123, 118.92532136617702, 600.5201546711847, 116.9597689693108, 114.99411535933415, 148.411605470261, 118.92597167589442, 95.33819784634514, 149.39653362855344, 117.94452344699178, 128.75631899264647, 93.37282883738295, 6902.085691611129, 1842.1218628006875, 351.8787752842684, 387.25817608384625, 459.04573504702716, 354.8980913478371, 149.39808774314895, 195.62430520306955, 536.0106769195348, 160.22360110410432, 1627.3491172810384, 1149.3472540430635, 5580.038622529342, 369.9128123108016, 310.85911281543514, 291.2499224073647, 309.013390176656, 575.1763140637203, 14211.222099681181, 1569.570293497261, 972.2858077114839, 1153.2826579989019, 525.8359804791907, 13390.290204952762, 550.1930124645102, 1062.3056826752259, 1884.2683779603447, 1472.0757255632384, 4199.317529022681, 5914.411615493783, 2609.4090141192255, 847.1344844525063, 4024.423230979254, 2727.693990609151, 2413.847100783304, 767.9840197526315, 1275.139782514817, 2507.984591250089, 2442.817328867756, 4275.06577339722, 511.609344531804, 461.84133274863086, 335.4303046822298, 318.5092556401841, 270.7321915969817, 248.83385268525018, 207.02906620734763, 198.0709120194659, 190.1078842569277, 195.0844769111354, 345.3765014765796, 178.1635614228059, 215.9852427009963, 368.26652420052676, 154.2748690596463, 154.27467714463484, 151.2887521803829, 146.31198041333175, 139.34472110616338, 129.39077486616085, 168.20893238764774, 122.42355076036006, 144.31961613315352, 114.4606867617817, 165.2226568521896, 225.93705851797108, 120.43234645382006, 114.4604733232512, 120.43170564224631, 342.3855685148783, 233.89317406490332, 255.79263986873204, 318.4730545146383, 553.3334310459986, 2762.490070487001, 410.9867809845552, 195.07890225563264, 1395.9532850785417, 208.00372467033307, 208.98255330310505, 657.2109340508434, 225.86844542105945, 678.7004673995528, 846.3258476271843, 483.1395217777958, 1232.9874537498345, 408.5614260732733, 2854.1582500767936, 513.4125831716163, 933.4124272348265, 13390.290204952762, 827.6733247259689, 2609.4090141192255, 1401.6035734987609, 1375.3372636944193, 2413.847100783304, 1884.2683779603447, 2727.693990609151, 1754.0421972117535, 14211.222099681181, 4024.423230979254, 640.1497479516328, 922.5903672803769, 1117.642034572017, 1472.0757255632384, 864.4672938626268, 5580.038622529342, 2442.817328867756, 1190.263824965983, 871.4214350496629], \"Category\": [\"Default\", \"Default\", \"Default\", \"Default\", \"Default\", \"Default\", \"Default\", \"Default\", \"Default\", \"Default\", \"Default\", \"Default\", \"Default\", \"Default\", \"Default\", \"Default\", \"Default\", \"Default\", \"Default\", \"Default\", \"Default\", \"Default\", \"Default\", \"Default\", \"Default\", \"Default\", \"Default\", \"Default\", \"Default\", \"Default\", \"Topic1\", \"Topic1\", \"Topic1\", \"Topic1\", \"Topic1\", \"Topic1\", \"Topic1\", \"Topic1\", \"Topic1\", \"Topic1\", \"Topic1\", \"Topic1\", \"Topic1\", \"Topic1\", \"Topic1\", \"Topic1\", \"Topic1\", \"Topic1\", \"Topic1\", \"Topic1\", \"Topic1\", \"Topic1\", \"Topic1\", \"Topic1\", \"Topic1\", \"Topic1\", \"Topic1\", \"Topic1\", \"Topic1\", \"Topic1\", \"Topic1\", \"Topic1\", \"Topic1\", \"Topic1\", \"Topic1\", \"Topic1\", \"Topic1\", \"Topic1\", \"Topic1\", \"Topic1\", \"Topic1\", \"Topic1\", \"Topic1\", \"Topic1\", \"Topic1\", \"Topic1\", \"Topic1\", \"Topic1\", \"Topic1\", \"Topic1\", \"Topic1\", \"Topic1\", \"Topic1\", \"Topic1\", \"Topic1\", \"Topic1\", \"Topic1\", \"Topic1\", \"Topic1\", \"Topic1\", \"Topic1\", \"Topic1\", \"Topic1\", \"Topic1\", \"Topic1\", \"Topic1\", \"Topic1\", \"Topic1\", \"Topic1\", \"Topic1\", \"Topic1\", \"Topic1\", \"Topic1\", \"Topic1\", \"Topic2\", \"Topic2\", \"Topic2\", \"Topic2\", \"Topic2\", \"Topic2\", \"Topic2\", \"Topic2\", \"Topic2\", \"Topic2\", \"Topic2\", \"Topic2\", \"Topic2\", \"Topic2\", \"Topic2\", \"Topic2\", \"Topic2\", \"Topic2\", \"Topic2\", \"Topic2\", \"Topic2\", \"Topic2\", \"Topic2\", \"Topic2\", \"Topic2\", \"Topic2\", \"Topic2\", \"Topic2\", \"Topic2\", \"Topic2\", \"Topic2\", \"Topic2\", \"Topic2\", \"Topic2\", \"Topic2\", \"Topic2\", \"Topic2\", \"Topic2\", \"Topic2\", \"Topic2\", \"Topic2\", \"Topic2\", \"Topic2\", \"Topic2\", \"Topic2\", \"Topic2\", \"Topic2\", \"Topic2\", \"Topic2\", \"Topic2\", \"Topic2\", \"Topic2\", \"Topic2\", \"Topic2\", \"Topic2\", \"Topic2\", \"Topic2\", \"Topic2\", \"Topic2\", \"Topic2\", \"Topic2\", \"Topic2\", \"Topic2\", \"Topic2\", \"Topic2\", \"Topic2\", \"Topic2\", \"Topic2\", \"Topic2\", \"Topic3\", \"Topic3\", \"Topic3\", \"Topic3\", \"Topic3\", \"Topic3\", \"Topic3\", \"Topic3\", \"Topic3\", \"Topic3\", \"Topic3\", \"Topic3\", \"Topic3\", \"Topic3\", \"Topic3\", \"Topic3\", \"Topic3\", \"Topic3\", \"Topic3\", \"Topic3\", \"Topic3\", \"Topic3\", \"Topic3\", \"Topic3\", \"Topic3\", \"Topic3\", \"Topic3\", \"Topic3\", \"Topic3\", \"Topic3\", \"Topic3\", \"Topic3\", \"Topic3\", \"Topic3\", \"Topic3\", \"Topic3\", \"Topic3\", \"Topic3\", \"Topic3\", \"Topic3\", \"Topic3\", \"Topic3\", \"Topic3\", \"Topic3\", \"Topic3\", \"Topic3\", \"Topic3\", \"Topic3\", \"Topic3\", \"Topic3\", \"Topic3\", \"Topic3\", \"Topic3\", \"Topic3\", \"Topic3\", \"Topic3\", \"Topic3\", \"Topic3\", \"Topic3\", \"Topic3\", \"Topic3\", \"Topic3\", \"Topic3\", \"Topic3\", \"Topic3\", \"Topic3\", \"Topic3\", \"Topic3\", \"Topic3\", \"Topic3\", \"Topic3\"], \"logprob\": [30.0, 29.0, 28.0, 27.0, 26.0, 25.0, 24.0, 23.0, 22.0, 21.0, 20.0, 19.0, 18.0, 17.0, 16.0, 15.0, 14.0, 13.0, 12.0, 11.0, 10.0, 9.0, 8.0, 7.0, 6.0, 5.0, 4.0, 3.0, 2.0, 1.0, -4.7452, -5.0576, -6.2055, -4.6271, -6.2655, -6.5117, -6.6678, -6.5939, -6.8011, -6.8751, -6.7444, -6.8014, -7.1668, -7.0971, -7.3026, -7.2555, -6.8545, -5.7329, -7.3598, -7.4519, -7.5183, -7.5534, -6.7476, -7.4613, -7.7281, -7.6972, -7.7389, -7.6381, -7.7827, -7.2459, -3.715, -4.5814, -6.6517, -5.7511, -6.8617, -5.9559, -3.5843, -6.4353, -6.4084, -5.6785, -6.6777, -6.555, -6.7379, -4.8563, -5.5774, -6.5094, -5.1254, -3.8776, -4.7372, -5.6621, -5.1638, -5.9307, -5.4567, -4.3677, -5.0741, -6.0961, -5.776, -5.8595, -5.1321, -5.9141, -5.6389, -3.6221, -4.9527, -5.2934, -3.8776, -5.4032, -5.5689, -4.8189, -5.1514, -5.5889, -5.5601, -5.0957, -5.4335, -5.6594, -4.7609, -4.8346, -4.9142, -5.9878, -4.918, -6.1563, -6.3992, -4.8183, -6.4696, -6.7314, -6.6366, -6.7531, -6.8783, -6.9154, -6.8969, -6.9874, -6.6236, -7.0875, -7.1026, -7.1899, -5.5707, -7.2067, -7.2236, -6.9689, -7.1904, -7.4123, -6.9631, -7.1996, -7.112, -7.4335, -3.1568, -4.4683, -6.1085, -6.0148, -5.8527, -6.1159, -6.9654, -6.716, -5.771, -6.9065, -4.7987, -5.184, -3.8462, -6.1825, -6.3334, -6.3911, -6.3424, -5.8711, -3.3645, -5.1103, -5.4873, -5.3639, -5.9705, -3.7112, -5.9607, -5.5619, -5.2219, -5.4277, -4.8465, -4.7197, -5.2216, -5.7637, -5.2106, -5.3644, -5.4757, -5.8346, -5.7289, -5.5956, -5.6359, -3.5844, -5.7085, -5.811, -6.1316, -6.1833, -6.3461, -6.4308, -6.6152, -6.6595, -6.7008, -6.675, -6.1038, -6.7659, -6.5736, -6.0402, -6.9105, -6.9106, -6.9302, -6.9638, -7.0126, -7.0873, -6.825, -7.1427, -6.9784, -7.2104, -6.8433, -6.5304, -7.1596, -7.2106, -7.1601, -6.1155, -6.4964, -6.4088, -6.1924, -5.6484, -4.0719, -5.9464, -6.6814, -4.7598, -6.6206, -6.6199, -5.5517, -6.5534, -5.5652, -5.3774, -5.877, -5.0813, -6.0412, -4.3934, -5.9044, -5.4443, -3.3954, -5.5565, -4.6848, -5.1693, -5.2267, -4.841, -5.0167, -4.7744, -5.1186, -3.9002, -4.6624, -5.7759, -5.585, -5.484, -5.3434, -5.6537, -5.1084, -5.4612, -5.6938, -5.7426], \"loglift\": [30.0, 29.0, 28.0, 27.0, 26.0, 25.0, 24.0, 23.0, 22.0, 21.0, 20.0, 19.0, 18.0, 17.0, 16.0, 15.0, 14.0, 13.0, 12.0, 11.0, 10.0, 9.0, 8.0, 7.0, 6.0, 5.0, 4.0, 3.0, 2.0, 1.0, 0.9015, 0.9008, 0.9003, 0.9003, 0.8998, 0.8997, 0.8994, 0.8992, 0.8991, 0.8988, 0.8988, 0.8987, 0.8978, 0.8978, 0.8973, 0.8972, 0.8972, 0.897, 0.8969, 0.8965, 0.8961, 0.8958, 0.8957, 0.895, 0.8947, 0.8945, 0.8945, 0.8942, 0.8942, 0.8938, 0.8918, 0.8908, 0.8937, 0.8845, 0.89, 0.8805, 0.828, 0.875, 0.8739, 0.849, 0.8787, 0.8723, 0.8781, 0.7896, 0.8213, 0.8681, 0.7847, 0.6047, 0.6766, 0.7675, 0.7015, 0.776, 0.7026, 0.457, 0.5687, 0.7738, 0.7, 0.7179, 0.5214, 0.7255, 0.6312, -0.0165, 0.3875, 0.4854, -0.2125, 0.4921, 0.5661, 0.0484, 0.2151, 0.5437, 0.4724, -0.5553, -0.2226, 0.4858, 1.2043, 1.2042, 1.2041, 1.203, 1.2029, 1.2024, 1.202, 1.2018, 1.2018, 1.2011, 1.201, 1.2005, 1.2005, 1.2005, 1.2003, 1.2001, 1.1999, 1.1994, 1.1994, 1.1991, 1.199, 1.1989, 1.1989, 1.1985, 1.1985, 1.1977, 1.1977, 1.1976, 1.1976, 1.1973, 1.1711, 1.1804, 1.1957, 1.1936, 1.1856, 1.1797, 1.1955, 1.1752, 1.1123, 1.1844, 0.9741, 0.9365, 0.6943, 1.0717, 1.0947, 1.1021, 1.0917, 0.9417, 0.2412, 0.6986, 0.8005, 0.7532, 0.932, -0.046, 0.8965, 0.6373, 0.4042, 0.4453, -0.0217, -0.2374, 0.079, 0.6619, -0.3433, -0.1082, -0.0973, 0.689, 0.2877, -0.2554, -0.2694, 1.2225, 1.2213, 1.2212, 1.2205, 1.2205, 1.2202, 1.2198, 1.2194, 1.2193, 1.2191, 1.219, 1.219, 1.2188, 1.2186, 1.2185, 1.2182, 1.2181, 1.2181, 1.2179, 1.2179, 1.2173, 1.2173, 1.2172, 1.217, 1.2168, 1.2168, 1.2168, 1.2168, 1.2167, 1.2162, 1.216, 1.2162, 1.2142, 1.2115, 1.2031, 1.1717, 1.2025, 1.2127, 1.1663, 1.2093, 1.2053, 1.1278, 1.1941, 1.0821, 1.0491, 1.1101, 0.969, 1.1136, 0.8175, 1.022, 0.8843, 0.2697, 0.8923, 0.6158, 0.7528, 0.7143, 0.5375, 0.6095, 0.4818, 0.5791, -0.2945, 0.2049, 0.9299, 0.7553, 0.6645, 0.5296, 0.7516, -0.5679, -0.0947, 0.3917, 0.6547]}, \"token.table\": {\"Topic\": [1, 2, 3, 1, 2, 1, 3, 1, 2, 3, 2, 2, 3, 3, 3, 3, 1, 2, 3, 1, 2, 3, 2, 1, 2, 3, 1, 1, 2, 3, 3, 1, 2, 3, 2, 3, 2, 3, 1, 2, 3, 3, 3, 1, 2, 3, 1, 3, 1, 1, 2, 3, 1, 2, 3, 1, 2, 3, 1, 2, 3, 2, 1, 2, 3, 2, 3, 1, 2, 3, 1, 2, 3, 1, 2, 3, 1, 3, 1, 3, 1, 2, 3, 1, 1, 2, 3, 1, 3, 1, 2, 3, 1, 2, 3, 3, 2, 1, 3, 1, 2, 1, 2, 3, 2, 3, 1, 2, 3, 3, 1, 2, 3, 3, 1, 1, 3, 2, 1, 2, 1, 2, 3, 1, 1, 2, 3, 1, 2, 3, 2, 1, 1, 2, 3, 3, 1, 2, 1, 1, 2, 3, 1, 2, 3, 1, 2, 1, 2, 1, 2, 3, 1, 2, 3, 1, 2, 2, 3, 1, 2, 3, 1, 2, 1, 3, 3, 3, 1, 2, 3, 1, 3, 1, 2, 3, 1, 2, 3, 1, 2, 3, 2, 3, 1, 2, 3, 1, 2, 3, 1, 2, 3, 1, 2, 3, 1, 2, 3, 3, 1, 2, 3, 1, 2, 1, 2, 3, 1, 2, 3, 1, 2, 3, 3, 1, 2, 3, 2, 1, 2, 3, 1, 2, 3, 2, 1, 2, 3, 1, 2, 3, 2, 1, 2, 3, 1, 2, 1, 2, 3, 1, 2, 2, 1, 2, 2, 1, 3, 1, 2, 3, 1, 2, 3, 1, 2, 3, 3, 1, 2, 3, 1, 2, 3, 1, 2, 3, 1, 2, 3, 2, 1, 2, 3, 2, 3, 1, 2, 3, 3, 3, 1, 1, 2, 3, 1, 3, 1, 2, 3, 2, 2, 2, 1, 2, 3, 1, 2, 3, 3, 2, 3, 1, 2, 1, 2, 3, 3, 1, 2, 3, 1, 2, 1, 2, 3, 1, 2, 3, 1, 1, 2, 3, 1, 2, 3, 2, 3, 1, 2, 3, 1, 1, 2, 3, 1, 2, 3, 2, 1, 2, 3, 2, 1, 2, 1, 2, 3, 1, 2, 3, 1, 2, 3, 1, 2, 3, 3, 1, 1, 3, 1, 2, 3, 2, 2, 2, 2, 3, 1, 2, 3, 1, 2, 1, 2, 3, 1, 2, 3, 1, 2, 3, 1, 2, 3, 1, 1, 1, 1, 1, 3, 1, 2, 3, 1, 2, 3, 1, 3, 1, 2, 3, 1, 2, 3], \"Freq\": [0.2544273669954507, 0.2690917685513845, 0.4765930505678472, 0.9959069247992042, 0.004446013057139305, 0.00594498749742635, 0.9928129120702004, 0.42589953929446334, 0.21270128683550796, 0.3615424910580188, 0.9964526511515331, 0.9906521684631207, 0.006693595732858924, 0.9981783078105554, 0.9980913836870132, 0.9984011276558964, 0.0379668865473661, 0.016476196048856986, 0.9448740255844507, 0.4141933976027871, 0.5666918758110859, 0.018826972618308506, 0.9904885775894132, 0.0023607333271400224, 0.9970163751621361, 0.0007869111090466741, 0.997074827445612, 0.010843371579154088, 0.009036142982628406, 0.981325127913445, 0.9944409881898015, 0.9953146935378245, 0.014355265320396611, 0.9809431302271017, 0.9941259660219887, 0.007766609109546786, 0.993565767584819, 0.0047767584980039374, 0.07611698736437884, 0.20539504526895877, 0.7188826584413557, 0.9959770101426126, 0.9997507001169778, 0.399191565666071, 0.3815294674848294, 0.21933370530251073, 0.9929528253809515, 0.008138957585089767, 0.9919853646586996, 0.2241235577118547, 0.2721796255391655, 0.5041744357399763, 0.328148227763933, 0.2862521977740453, 0.38557790167163997, 0.5787600780084865, 0.3999561514692793, 0.021174149195432434, 0.06907396644282858, 0.32937375577475103, 0.601307055244413, 0.998262432272801, 0.0028418878040942968, 0.9918188436289096, 0.008525663412282891, 0.0028953909595028173, 0.9960144900689691, 0.6641128602985518, 0.292459742872061, 0.0437647596221849, 0.5519784657983507, 0.012602248077587915, 0.4360377834845419, 0.009022069360629993, 0.4489806281819396, 0.5418548716001895, 0.9879930909906699, 0.9982195578061245, 0.993259991025492, 0.003988995947893542, 0.87984470456415, 0.0018406792982513598, 0.1196441543863384, 0.9965758859482737, 0.8819264373638674, 0.11415005306305377, 0.004691098071084402, 0.9968602560101975, 0.0024735986501493736, 0.002817710279033019, 0.9749277565454245, 0.022541682232264153, 0.03192770533731686, 0.46804657398747485, 0.4999742793247917, 0.9972955133533893, 0.9980861960473065, 0.8747232009088822, 0.12563774972404, 0.23771671137088865, 0.7606934763868437, 0.8169505062407745, 0.17506082276588025, 0.008690962832348664, 0.8931651791600907, 0.10679148881261954, 0.8377744122020514, 0.027779605291167495, 0.13451177298881103, 0.9977853590404604, 0.2329732978462308, 0.600175057297713, 0.16684472330372377, 0.9959751529121916, 0.9989311383460848, 0.9945022706362541, 0.9975261272660574, 0.9956954151543702, 0.08768482051534875, 0.9122952602554371, 0.7982943345115617, 0.12274848369371325, 0.07854186194387945, 0.9975758501811129, 0.8936902065368176, 0.1033887519373302, 0.0027065118308201622, 0.8183045733444925, 0.15705516111142234, 0.024940089961899687, 0.9927942267992595, 0.9868130823483824, 0.9898418736271458, 0.00019149581613990053, 0.009957782439274827, 0.9978677042546318, 0.9981793655767912, 0.0014424557306022994, 0.9978945257360188, 0.37248372759278653, 0.002313563525421034, 0.6246621518636792, 0.40705976237913943, 0.06784329372985656, 0.5256429984783845, 0.9965626395171411, 0.9919917990307003, 0.010329026595255022, 0.9890042964956683, 0.6834198479689897, 0.09817683370663859, 0.21871616842423375, 0.9731333071997175, 0.013901904388567393, 0.013901904388567393, 0.9791272179482275, 0.01958254435896455, 0.1595130296191414, 0.8401019559941447, 0.0019477512487568582, 0.1811408661343878, 0.8180555244778804, 0.9898307717393818, 0.9922138817716122, 0.010252261914920903, 0.9893432747898672, 0.998717156213308, 0.9950293636241542, 0.6992316178560714, 0.24393848633014076, 0.057241883073859745, 0.004426011414681049, 0.9958525683032359, 0.659910233543541, 0.071341646869572, 0.26842294634676467, 0.9870628976890181, 0.008892458537738903, 0.004446229268869451, 0.7628626175906481, 0.0980101641142952, 0.139437140698688, 0.002715424656560651, 0.9965608489577589, 0.00292068384873104, 0.00292068384873104, 0.9930325085685537, 0.9911410214324692, 0.00361730299792872, 0.00361730299792872, 0.7166415053599595, 0.21909371323504787, 0.0642171228447554, 0.9829501980929618, 0.0014562225156932768, 0.016018447672626043, 0.004807606217556482, 0.009615212435112964, 0.9855592745990789, 0.9964100470799525, 0.19130177415403932, 0.6674992012149006, 0.14193357437235177, 0.0066935261026850575, 0.9906418631973885, 0.004995669132275256, 0.994138157322776, 0.001665223044091752, 0.7150372874493346, 0.15183507832257476, 0.13329707457388829, 0.0008700590674248326, 0.7647819202664279, 0.23404588913727997, 0.9941723392416992, 0.9988725195999755, 0.0007399055700740559, 0.0007399055700740559, 0.9983509843743971, 0.597691072437105, 0.23205884200026355, 0.1698575029074094, 0.16267081813358517, 0.21261361317459815, 0.6249984065132482, 0.9996226065404112, 0.6596404002057359, 0.24296033484616136, 0.09767870968369846, 0.04959293843754819, 0.00036199225136896487, 0.9502296598435328, 0.9913550762469217, 0.04118837714728896, 0.33167482650185315, 0.6264968945035004, 0.9764824878660106, 0.021943426693618217, 0.13068093125872043, 0.3245945711910153, 0.5449509802049868, 0.02388549904787742, 0.9760483474564454, 0.9964711628520844, 0.0017407839685201177, 0.9983396059462876, 0.9946707350062712, 0.006052438685177502, 0.9925999443691103, 0.6408184142784469, 0.2933810057194524, 0.06572496556702019, 0.9663739757906504, 0.009174436479025163, 0.024465163944067097, 0.9707412765290573, 0.016071875439222803, 0.012857500351378242, 0.9964153489320434, 0.6509928376782738, 0.14980006546329924, 0.19920221471183408, 0.0010141861913577626, 0.9668092078471929, 0.03216419064020333, 0.045902015249051534, 0.3867244784732592, 0.5668898883257865, 0.08042228446699302, 0.8942958032729623, 0.022518239650758047, 0.9960070949758599, 0.007607907508753024, 0.08368698259628327, 0.9099057380468616, 0.004275456109388249, 0.9919058173780737, 0.001473404024357769, 0.12965955414348368, 0.8693083743710838, 0.9934691391802355, 0.9954383795454014, 0.9930887114325821, 0.012418772900055781, 0.09314079675041835, 0.8941516488040162, 0.22384655996345498, 0.7761636155254581, 0.0024476123691144925, 0.10035210713369419, 0.8958261270959041, 0.9943247942461508, 0.997187396353364, 0.9961581895460444, 0.8312319638457247, 0.001373937130323512, 0.16762032989946846, 0.9994765042825687, 0.9968319095379264, 0.9988089652030072, 0.9945932898044078, 0.02656413554719837, 0.9740183033972736, 0.02555919620933455, 0.9712494559547128, 0.013733909238283985, 0.903004532417172, 0.08583693273927491, 0.9969798861892197, 0.28497585015876387, 0.0021426755651034876, 0.7124396253969096, 0.3633107608910208, 0.6364441491503802, 0.3247892789319087, 0.008408783920567214, 0.666746491701642, 0.015249025239898769, 0.9802944797077779, 0.004356864354256791, 0.997265834070755, 0.9489500893886814, 0.006535468935183756, 0.044441188759249545, 0.9722501081494495, 0.025736032274544247, 0.0028595591416160277, 0.009419949215396205, 0.9890946676166016, 0.9227263653687993, 0.00229819767215143, 0.07469142434492149, 0.9886415766760376, 0.8194378904180095, 0.005426740996145759, 0.1754646255420462, 0.19786780634876613, 0.7939292105670989, 0.007988451809111676, 0.998616506493025, 0.41197709030291085, 0.580781456816711, 0.007082700692886719, 0.9969603477374092, 0.018723833313737396, 0.9798806100855904, 0.9286663594069338, 0.0003152830960471681, 0.07093869661061283, 0.7429310446518784, 0.23637177979593219, 0.020627580211089933, 0.13443169820056752, 0.6027127322167625, 0.26312934292338575, 0.22963377002080262, 0.02343201734906149, 0.7467002861900929, 0.9982183160399246, 0.987765662920222, 0.9947328670580322, 0.004343811646541625, 0.5031076149151278, 0.2288341389239678, 0.2677236616391323, 0.999266566459888, 0.9990572958489131, 0.99179402475083, 0.992219307414542, 0.9966489580245943, 0.9781766339737028, 0.007763306618838911, 0.015526613237677822, 0.9896002633819533, 0.0065536441283573065, 0.1216502875877435, 0.8758820706317533, 0.0027033397241720777, 0.019992983827124753, 0.7342877696507637, 0.24536843787834925, 0.002433168282455245, 0.017032177977186713, 0.9805668178294636, 0.10736890371696878, 0.3203172294222902, 0.5726341531571668, 0.9959572818988501, 0.9981412426769543, 0.991375358044927, 0.9955942831146791, 0.9965639804247441, 0.9965402836486164, 0.007818833258948976, 0.003909416629474488, 0.99299182388652, 0.8896827608545741, 0.007754762574802151, 0.10292684872010129, 0.9887036850471967, 0.010919875030433835, 0.15625325125730108, 0.5976686860591766, 0.24740098115739337, 0.17733692696653716, 0.7684600168549943, 0.05389651701924168], \"Term\": [\"19\", \"19\", \"19\", \"alcohol\", \"alcohol\", \"alert\", \"alert\", \"amp\", \"amp\", \"amp\", \"arabia\", \"asda\", \"asda\", \"behavior\", \"blog\", \"brand\", \"business\", \"business\", \"business\", \"buy\", \"buy\", \"buy\", \"buyer\", \"buying\", \"buying\", \"buying\", \"cashier\", \"change\", \"change\", \"change\", \"changing\", \"clerk\", \"closure\", \"closure\", \"collapse\", \"collapse\", \"commodity\", \"commodity\", \"company\", \"company\", \"company\", \"complaint\", \"consumer\", \"coronavirus\", \"coronavirus\", \"coronavirus\", \"cough\", \"cough\", \"coughing\", \"covid\", \"covid\", \"covid\", \"covid19\", \"covid19\", \"covid19\", \"covid2019\", \"covid2019\", \"covid2019\", \"crisis\", \"crisis\", \"crisis\", \"crude\", \"cut\", \"cut\", \"cut\", \"data\", \"data\", \"day\", \"day\", \"day\", \"delivery\", \"delivery\", \"delivery\", \"demand\", \"demand\", \"demand\", \"deserve\", \"digital\", \"distance\", \"distance\", \"distancing\", \"distancing\", \"distancing\", \"doctor\", \"dont\", \"dont\", \"dont\", \"driver\", \"driver\", \"drop\", \"drop\", \"drop\", \"due\", \"due\", \"due\", \"ecommerce\", \"egg\", \"employee\", \"employee\", \"empty\", \"empty\", \"everyone\", \"everyone\", \"everyone\", \"fall\", \"fall\", \"family\", \"family\", \"family\", \"federal\", \"food\", \"food\", \"food\", \"fraud\", \"front\", \"frontline\", \"ftc\", \"fuel\", \"gas\", \"gas\", \"get\", \"get\", \"get\", \"glove\", \"go\", \"go\", \"go\", \"going\", \"going\", \"going\", \"gold\", \"grateful\", \"grocery\", \"grocery\", \"grocery\", \"habit\", \"hand\", \"hand\", \"handsanitizer\", \"health\", \"health\", \"health\", \"help\", \"help\", \"help\", \"hero\", \"hiking\", \"hoarding\", \"hoarding\", \"home\", \"home\", \"home\", \"hospital\", \"hospital\", \"hospital\", \"im\", \"im\", \"impact\", \"impact\", \"industry\", \"industry\", \"industry\", \"infected\", \"inflated\", \"info\", \"info\", \"information\", \"insight\", \"it\", \"it\", \"it\", \"join\", \"join\", \"keep\", \"keep\", \"keep\", \"kid\", \"kid\", \"kid\", \"know\", \"know\", \"know\", \"latest\", \"latest\", \"learn\", \"learn\", \"learn\", \"leave\", \"leave\", \"leave\", \"like\", \"like\", \"like\", \"line\", \"line\", \"line\", \"link\", \"link\", \"link\", \"loan\", \"lockdown\", \"lockdown\", \"lockdown\", \"london\", \"london\", \"low\", \"low\", \"low\", \"make\", \"make\", \"make\", \"market\", \"market\", \"market\", \"marketing\", \"mask\", \"mask\", \"mask\", \"milk\", \"need\", \"need\", \"need\", \"new\", \"new\", \"new\", \"oil\", \"one\", \"one\", \"one\", \"online\", \"online\", \"online\", \"opec\", \"outbreak\", \"outbreak\", \"outbreak\", \"outside\", \"outside\", \"pandemic\", \"pandemic\", \"pandemic\", \"panic\", \"panic\", \"panicbuying\", \"paper\", \"paper\", \"pasta\", \"payment\", \"payment\", \"people\", \"people\", \"people\", \"person\", \"person\", \"person\", \"pharmacy\", \"pharmacy\", \"pharmacy\", \"platform\", \"please\", \"please\", \"please\", \"price\", \"price\", \"price\", \"product\", \"product\", \"product\", \"production\", \"production\", \"production\", \"profiteering\", \"read\", \"read\", \"read\", \"related\", \"related\", \"report\", \"report\", \"report\", \"research\", \"resource\", \"responder\", \"response\", \"response\", \"response\", \"retail\", \"retail\", \"retailer\", \"retailer\", \"retailer\", \"rice\", \"roll\", \"russia\", \"safe\", \"safe\", \"safe\", \"sanitizer\", \"saudi\", \"scam\", \"scammer\", \"sector\", \"sector\", \"selfish\", \"selfish\", \"selling\", \"selling\", \"selling\", \"sentiment\", \"service\", \"service\", \"service\", \"shelf\", \"shelf\", \"shopping\", \"shopping\", \"shopping\", \"shortage\", \"shortage\", \"shortage\", \"sick\", \"socialdistancing\", \"socialdistancing\", \"socialdistancing\", \"someone\", \"someone\", \"someone\", \"spending\", \"spending\", \"staff\", \"staff\", \"staff\", \"standing\", \"stay\", \"stay\", \"stay\", \"stock\", \"stock\", \"stock\", \"stockpiling\", \"stop\", \"stop\", \"stop\", \"stophoarding\", \"stoppanicbuying\", \"stoppanicbuying\", \"store\", \"store\", \"store\", \"supermarket\", \"supermarket\", \"supermarket\", \"supply\", \"supply\", \"supply\", \"support\", \"support\", \"support\", \"survey\", \"teacher\", \"thank\", \"thank\", \"time\", \"time\", \"time\", \"toilet\", \"toiletpaper\", \"toiletpapercrisis\", \"toiletpaperpanic\", \"trend\", \"trip\", \"trip\", \"trip\", \"truck\", \"truck\", \"trump\", \"trump\", \"trump\", \"uk\", \"uk\", \"uk\", \"update\", \"update\", \"update\", \"via\", \"via\", \"via\", \"walk\", \"wash\", \"washing\", \"wear\", \"wearing\", \"webinar\", \"website\", \"website\", \"website\", \"work\", \"work\", \"work\", \"worker\", \"worker\", \"world\", \"world\", \"world\", \"year\", \"year\", \"year\"]}, \"R\": 30, \"lambda.step\": 0.01, \"plot.opts\": {\"xlab\": \"PC1\", \"ylab\": \"PC2\"}, \"topic.order\": [3, 2, 1]};\n",
              "\n",
              "function LDAvis_load_lib(url, callback){\n",
              "  var s = document.createElement('script');\n",
              "  s.src = url;\n",
              "  s.async = true;\n",
              "  s.onreadystatechange = s.onload = callback;\n",
              "  s.onerror = function(){console.warn(\"failed to load library \" + url);};\n",
              "  document.getElementsByTagName(\"head\")[0].appendChild(s);\n",
              "}\n",
              "\n",
              "if(typeof(LDAvis) !== \"undefined\"){\n",
              "   // already loaded: just create the visualization\n",
              "   !function(LDAvis){\n",
              "       new LDAvis(\"#\" + \"ldavis_el571402385029084964893306550\", ldavis_el571402385029084964893306550_data);\n",
              "   }(LDAvis);\n",
              "}else if(typeof define === \"function\" && define.amd){\n",
              "   // require.js is available: use it to load d3/LDAvis\n",
              "   require.config({paths: {d3: \"https://d3js.org/d3.v5\"}});\n",
              "   require([\"d3\"], function(d3){\n",
              "      window.d3 = d3;\n",
              "      LDAvis_load_lib(\"https://cdn.jsdelivr.net/gh/bmabey/pyLDAvis@3.3.1/pyLDAvis/js/ldavis.v3.0.0.js\", function(){\n",
              "        new LDAvis(\"#\" + \"ldavis_el571402385029084964893306550\", ldavis_el571402385029084964893306550_data);\n",
              "      });\n",
              "    });\n",
              "}else{\n",
              "    // require.js not available: dynamically load d3 & LDAvis\n",
              "    LDAvis_load_lib(\"https://d3js.org/d3.v5.js\", function(){\n",
              "         LDAvis_load_lib(\"https://cdn.jsdelivr.net/gh/bmabey/pyLDAvis@3.3.1/pyLDAvis/js/ldavis.v3.0.0.js\", function(){\n",
              "                 new LDAvis(\"#\" + \"ldavis_el571402385029084964893306550\", ldavis_el571402385029084964893306550_data);\n",
              "            })\n",
              "         });\n",
              "}\n",
              "</script>"
            ]
          },
          "metadata": {},
          "execution_count": 246
        }
      ]
    },
    {
      "cell_type": "code",
      "source": [],
      "metadata": {
        "id": "shkCizXRb3oh"
      },
      "execution_count": null,
      "outputs": []
    }
  ]
}